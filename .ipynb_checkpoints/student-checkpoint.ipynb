{
 "cells": [
  {
   "cell_type": "markdown",
   "metadata": {},
   "source": [
    "# Final Project Submission\n",
    "\n",
    "Please fill out:\n",
    "* Student name: Sumaiya Abdullahi Osman, Bernice Kutwa, David Masai, Kennedy Kariuki, Raniel Musyoki, Kelvin Nyawira, and Joseph Nderitu\n",
    "* Student pace: full time\n",
    "* Scheduled project review date/time: 20/01/2025\n",
    "* Instructor name: William Okomba\n"
   ]
  },
  {
   "cell_type": "markdown",
   "metadata": {},
   "source": [
    "# Project Overview\n",
    "In this project, we aim to conduct exploratory data analysis (EDA) to provide actionable insights that will guide a newly established movie studio in selecting the most profitable types of films to create. With the rise of original content creation by leading companies, our goal is to help the new studio identify the best strategies for producing films that will maximize box office revenue. We will analyze various datasets to uncover trends related to genre performance, budget efficiency, casting success, and release timing. The end result will be a set of concrete business recommendations, which will inform the studio's decisions about what types of films to produce, how to allocate resources, and when to release content."
   ]
  },
  {
   "cell_type": "markdown",
   "metadata": {},
   "source": [
    "# Business Understanding\n",
    "The business problem facing the new movie studio is that, in a highly competitive film industry, they must make strategic decisions on what types of films to produce in order to successfully enter the market. With well-established companies already producing original content, the new studio needs to identify profitable film types to ensure commercial success.\n",
    "In addition to identifying which films are performing the best, the studio has further business problems to address:\n",
    "#### Minimizing Risks: \n",
    "The studio must understand the aspects of movie production that most frequently lead to losses. This includes analyzing the factors that contribute to financial success or failure, such as genre, budget, and cast.\n",
    "\n",
    "#### Gaining a Competitive Advantage: \n",
    "With many large players already dominating the industry, the studio needs to differentiate itself. The challenge is identifying unique strategies that will enable them to stand out in a crowded market.\n",
    "\n",
    "#### Understanding Audience Preferences:\n",
    "What factors drive audience interest? How do genre, casting, or movie ratings affect a film’s reception? The studio needs to understand how these factors influence box office performance to ensure that the movies resonate with their target audience.\n",
    "\n",
    "The goal is to provide three concrete, actionable insights for the studio to maximize its box office revenue while minimizing financial risks and gaining a competitive edge. These insights should guide decisions regarding movie genre, budget allocation, cast selection, and strategic release timing.\n",
    "\n"
   ]
  },
  {
   "cell_type": "markdown",
   "metadata": {},
   "source": [
    "# Objectives\n",
    "\n",
    "1. Identify high-performing movie genres by analyzing their relationship with box office performance."
   ]
  },
  {
   "cell_type": "markdown",
   "metadata": {},
   "source": [
    "# Data Understanding\n",
    "The data for this analysis comes from multiple movie industry sources, including Box Office Mojo, IMDB, Rotten Tomatoes, The MovieDB, and The Numbers. These datasets provide rich insights into various aspects of movie performance, including:\n",
    "\n",
    "#### Box Office Revenue: \n",
    "- The key metric for evaluating the financial success of a movie, and the primary focus of our analysis.\n",
    "Production Budgets: Understanding how the budget affects box office revenue is essential for determining the optimal budget allocation for future films.\n",
    "#### Genres:\n",
    "- Movie genres play a significant role in audience engagement and box office performance. We will explore which genres tend to produce the highest returns.\n",
    "#### Cast and Crew:\n",
    "- Data on actors, directors, and writers will help us assess how key personnel influence a film’s financial success.\n",
    "#### Release Dates:\n",
    "- The time of year when a movie is released can have a major impact on its performance. We will investigate seasonal patterns to help the studio plan its release schedule effectively.\n",
    "\n",
    "The data is stored in various formats, such as compressed CSV, TSV files, and an SQLite database from IMDB. Each dataset provides different views of the movie industry landscape, and our task is to synthesize these to derive meaningful insights. We will use exploratory analysis to uncover correlations, trends, and patterns that can inform the studio’s decision-making."
   ]
  },
  {
   "cell_type": "markdown",
   "metadata": {},
   "source": [
    "# Data Preparation/ Cleaning"
   ]
  },
  {
   "cell_type": "markdown",
   "metadata": {},
   "source": [
    "# Steps to Be Performed:\n",
    "\n",
    "### Cleaning the Data:\n",
    "\n",
    "1. Handle Missing Values: Identify and address missing data through imputation, estimation, or removal to maintain dataset integrity.\n",
    "\n",
    "2. Remove Duplicate Entries: Eliminate redundant rows to ensure each data point is unique and reliable.\n",
    "3. Ensure Consistent Formats: Convert data into uniform formats for seamless analysis (e.g., standardizing date or numeric representations).\n",
    "\n",
    "### Integrating and Structuring the Data:\n",
    "\n",
    "1. Standardize Text: Clean and harmonize textual data by converting to lowercase, trimming whitespace, removing special characters, and resolving inconsistencies.\n",
    "\n",
    "2. Standardize Columns: Refine column structure by renaming for clarity, aligning data types for consistency, and reordering to enhance usability.\n",
    "\n",
    "3. Select Key Features: Focus on the most relevant columns to streamline analysis and improve model performance.\n",
    "\n",
    "4. Feature Engineering: Create new variables or transform existing ones to extract deeper insights and enrich the dataset.\n",
    "\n",
    "\n",
    "### Merging datasets\n",
    "\n",
    "1. tn and imdb\n",
    "2. tn and bom\n",
    "3. movie_basics and movie_akas\n",
    "4. inspect unmatched rows after merging"
   ]
  },
  {
   "cell_type": "code",
   "execution_count": 1,
   "metadata": {},
   "outputs": [],
   "source": [
    "# Importing the required Libraries\n",
    "import matplotlib.pyplot as plt\n",
    "import pandas as pd\n",
    "import numpy as np\n",
    "import seaborn as sns\n",
    "import sqlite3\n",
    "\n",
    "import warnings\n",
    "warnings.filterwarnings('ignore')\n",
    "\n",
    "%matplotlib inline\n",
    "\n",
    "import statsmodels.api as sm\n",
    "from sklearn.preprocessing import OneHotEncoder, StandardScaler\n",
    "from sklearn.datasets import make_regression\n",
    "from sklearn.linear_model import LinearRegression\n",
    "import sklearn.metrics as metrics\n",
    "from random import gauss\n",
    "from mpl_toolkits.mplot3d import Axes3D\n",
    "from scipy import stats as stats\n",
    "\n",
    "import zipfile\n",
    "\n",
    "# Unzip the file\n",
    "with zipfile.ZipFile(\"zippedData/im.db.zip\", 'r') as zip_ref:\n",
    "    zip_ref.extractall(\"zippedData\")"
   ]
  },
  {
   "cell_type": "markdown",
   "metadata": {},
   "source": [
    "## Dataset 1: Box Office Mojo (bom)"
   ]
  },
  {
   "cell_type": "code",
   "execution_count": 2,
   "metadata": {},
   "outputs": [
    {
     "data": {
      "text/html": [
       "<div>\n",
       "<style scoped>\n",
       "    .dataframe tbody tr th:only-of-type {\n",
       "        vertical-align: middle;\n",
       "    }\n",
       "\n",
       "    .dataframe tbody tr th {\n",
       "        vertical-align: top;\n",
       "    }\n",
       "\n",
       "    .dataframe thead th {\n",
       "        text-align: right;\n",
       "    }\n",
       "</style>\n",
       "<table border=\"1\" class=\"dataframe\">\n",
       "  <thead>\n",
       "    <tr style=\"text-align: right;\">\n",
       "      <th></th>\n",
       "      <th>title</th>\n",
       "      <th>studio</th>\n",
       "      <th>domestic_gross</th>\n",
       "      <th>foreign_gross</th>\n",
       "      <th>year</th>\n",
       "    </tr>\n",
       "  </thead>\n",
       "  <tbody>\n",
       "    <tr>\n",
       "      <th>0</th>\n",
       "      <td>Toy Story 3</td>\n",
       "      <td>BV</td>\n",
       "      <td>415000000.0</td>\n",
       "      <td>652000000</td>\n",
       "      <td>2010</td>\n",
       "    </tr>\n",
       "    <tr>\n",
       "      <th>1</th>\n",
       "      <td>Alice in Wonderland (2010)</td>\n",
       "      <td>BV</td>\n",
       "      <td>334200000.0</td>\n",
       "      <td>691300000</td>\n",
       "      <td>2010</td>\n",
       "    </tr>\n",
       "    <tr>\n",
       "      <th>2</th>\n",
       "      <td>Harry Potter and the Deathly Hallows Part 1</td>\n",
       "      <td>WB</td>\n",
       "      <td>296000000.0</td>\n",
       "      <td>664300000</td>\n",
       "      <td>2010</td>\n",
       "    </tr>\n",
       "    <tr>\n",
       "      <th>3</th>\n",
       "      <td>Inception</td>\n",
       "      <td>WB</td>\n",
       "      <td>292600000.0</td>\n",
       "      <td>535700000</td>\n",
       "      <td>2010</td>\n",
       "    </tr>\n",
       "    <tr>\n",
       "      <th>4</th>\n",
       "      <td>Shrek Forever After</td>\n",
       "      <td>P/DW</td>\n",
       "      <td>238700000.0</td>\n",
       "      <td>513900000</td>\n",
       "      <td>2010</td>\n",
       "    </tr>\n",
       "    <tr>\n",
       "      <th>...</th>\n",
       "      <td>...</td>\n",
       "      <td>...</td>\n",
       "      <td>...</td>\n",
       "      <td>...</td>\n",
       "      <td>...</td>\n",
       "    </tr>\n",
       "    <tr>\n",
       "      <th>3382</th>\n",
       "      <td>The Quake</td>\n",
       "      <td>Magn.</td>\n",
       "      <td>6200.0</td>\n",
       "      <td>NaN</td>\n",
       "      <td>2018</td>\n",
       "    </tr>\n",
       "    <tr>\n",
       "      <th>3383</th>\n",
       "      <td>Edward II (2018 re-release)</td>\n",
       "      <td>FM</td>\n",
       "      <td>4800.0</td>\n",
       "      <td>NaN</td>\n",
       "      <td>2018</td>\n",
       "    </tr>\n",
       "    <tr>\n",
       "      <th>3384</th>\n",
       "      <td>El Pacto</td>\n",
       "      <td>Sony</td>\n",
       "      <td>2500.0</td>\n",
       "      <td>NaN</td>\n",
       "      <td>2018</td>\n",
       "    </tr>\n",
       "    <tr>\n",
       "      <th>3385</th>\n",
       "      <td>The Swan</td>\n",
       "      <td>Synergetic</td>\n",
       "      <td>2400.0</td>\n",
       "      <td>NaN</td>\n",
       "      <td>2018</td>\n",
       "    </tr>\n",
       "    <tr>\n",
       "      <th>3386</th>\n",
       "      <td>An Actor Prepares</td>\n",
       "      <td>Grav.</td>\n",
       "      <td>1700.0</td>\n",
       "      <td>NaN</td>\n",
       "      <td>2018</td>\n",
       "    </tr>\n",
       "  </tbody>\n",
       "</table>\n",
       "<p>3387 rows × 5 columns</p>\n",
       "</div>"
      ],
      "text/plain": [
       "                                            title      studio  domestic_gross  \\\n",
       "0                                     Toy Story 3          BV     415000000.0   \n",
       "1                      Alice in Wonderland (2010)          BV     334200000.0   \n",
       "2     Harry Potter and the Deathly Hallows Part 1          WB     296000000.0   \n",
       "3                                       Inception          WB     292600000.0   \n",
       "4                             Shrek Forever After        P/DW     238700000.0   \n",
       "...                                           ...         ...             ...   \n",
       "3382                                    The Quake       Magn.          6200.0   \n",
       "3383                  Edward II (2018 re-release)          FM          4800.0   \n",
       "3384                                     El Pacto        Sony          2500.0   \n",
       "3385                                     The Swan  Synergetic          2400.0   \n",
       "3386                            An Actor Prepares       Grav.          1700.0   \n",
       "\n",
       "     foreign_gross  year  \n",
       "0        652000000  2010  \n",
       "1        691300000  2010  \n",
       "2        664300000  2010  \n",
       "3        535700000  2010  \n",
       "4        513900000  2010  \n",
       "...            ...   ...  \n",
       "3382           NaN  2018  \n",
       "3383           NaN  2018  \n",
       "3384           NaN  2018  \n",
       "3385           NaN  2018  \n",
       "3386           NaN  2018  \n",
       "\n",
       "[3387 rows x 5 columns]"
      ]
     },
     "execution_count": 2,
     "metadata": {},
     "output_type": "execute_result"
    }
   ],
   "source": [
    "# Reading and loading the dataset\n",
    "bom = pd.read_csv(\"zippedData/bom.movie_gross.csv.gz\")\n",
    "bom"
   ]
  },
  {
   "cell_type": "code",
   "execution_count": 3,
   "metadata": {},
   "outputs": [],
   "source": [
    "bom = pd.DataFrame(bom)  # if 'bom' is a list of dictionaries or list of lists"
   ]
  },
  {
   "cell_type": "code",
   "execution_count": 4,
   "metadata": {},
   "outputs": [
    {
     "data": {
      "text/plain": [
       "Index(['title', 'studio', 'domestic_gross', 'foreign_gross', 'year'], dtype='object')"
      ]
     },
     "execution_count": 4,
     "metadata": {},
     "output_type": "execute_result"
    }
   ],
   "source": [
    "bom.columns"
   ]
  },
  {
   "cell_type": "code",
   "execution_count": 5,
   "metadata": {},
   "outputs": [
    {
     "data": {
      "text/html": [
       "<div>\n",
       "<style scoped>\n",
       "    .dataframe tbody tr th:only-of-type {\n",
       "        vertical-align: middle;\n",
       "    }\n",
       "\n",
       "    .dataframe tbody tr th {\n",
       "        vertical-align: top;\n",
       "    }\n",
       "\n",
       "    .dataframe thead th {\n",
       "        text-align: right;\n",
       "    }\n",
       "</style>\n",
       "<table border=\"1\" class=\"dataframe\">\n",
       "  <thead>\n",
       "    <tr style=\"text-align: right;\">\n",
       "      <th></th>\n",
       "      <th>title</th>\n",
       "      <th>studio</th>\n",
       "      <th>domestic_gross</th>\n",
       "      <th>foreign_gross</th>\n",
       "      <th>year</th>\n",
       "    </tr>\n",
       "  </thead>\n",
       "  <tbody>\n",
       "    <tr>\n",
       "      <th>0</th>\n",
       "      <td>Toy Story 3</td>\n",
       "      <td>BV</td>\n",
       "      <td>415000000.0</td>\n",
       "      <td>652000000</td>\n",
       "      <td>2010</td>\n",
       "    </tr>\n",
       "    <tr>\n",
       "      <th>1</th>\n",
       "      <td>Alice in Wonderland (2010)</td>\n",
       "      <td>BV</td>\n",
       "      <td>334200000.0</td>\n",
       "      <td>691300000</td>\n",
       "      <td>2010</td>\n",
       "    </tr>\n",
       "    <tr>\n",
       "      <th>2</th>\n",
       "      <td>Harry Potter and the Deathly Hallows Part 1</td>\n",
       "      <td>WB</td>\n",
       "      <td>296000000.0</td>\n",
       "      <td>664300000</td>\n",
       "      <td>2010</td>\n",
       "    </tr>\n",
       "    <tr>\n",
       "      <th>3</th>\n",
       "      <td>Inception</td>\n",
       "      <td>WB</td>\n",
       "      <td>292600000.0</td>\n",
       "      <td>535700000</td>\n",
       "      <td>2010</td>\n",
       "    </tr>\n",
       "    <tr>\n",
       "      <th>4</th>\n",
       "      <td>Shrek Forever After</td>\n",
       "      <td>P/DW</td>\n",
       "      <td>238700000.0</td>\n",
       "      <td>513900000</td>\n",
       "      <td>2010</td>\n",
       "    </tr>\n",
       "    <tr>\n",
       "      <th>...</th>\n",
       "      <td>...</td>\n",
       "      <td>...</td>\n",
       "      <td>...</td>\n",
       "      <td>...</td>\n",
       "      <td>...</td>\n",
       "    </tr>\n",
       "    <tr>\n",
       "      <th>3382</th>\n",
       "      <td>The Quake</td>\n",
       "      <td>Magn.</td>\n",
       "      <td>6200.0</td>\n",
       "      <td>NaN</td>\n",
       "      <td>2018</td>\n",
       "    </tr>\n",
       "    <tr>\n",
       "      <th>3383</th>\n",
       "      <td>Edward II (2018 re-release)</td>\n",
       "      <td>FM</td>\n",
       "      <td>4800.0</td>\n",
       "      <td>NaN</td>\n",
       "      <td>2018</td>\n",
       "    </tr>\n",
       "    <tr>\n",
       "      <th>3384</th>\n",
       "      <td>El Pacto</td>\n",
       "      <td>Sony</td>\n",
       "      <td>2500.0</td>\n",
       "      <td>NaN</td>\n",
       "      <td>2018</td>\n",
       "    </tr>\n",
       "    <tr>\n",
       "      <th>3385</th>\n",
       "      <td>The Swan</td>\n",
       "      <td>Synergetic</td>\n",
       "      <td>2400.0</td>\n",
       "      <td>NaN</td>\n",
       "      <td>2018</td>\n",
       "    </tr>\n",
       "    <tr>\n",
       "      <th>3386</th>\n",
       "      <td>An Actor Prepares</td>\n",
       "      <td>Grav.</td>\n",
       "      <td>1700.0</td>\n",
       "      <td>NaN</td>\n",
       "      <td>2018</td>\n",
       "    </tr>\n",
       "  </tbody>\n",
       "</table>\n",
       "<p>3387 rows × 5 columns</p>\n",
       "</div>"
      ],
      "text/plain": [
       "                                            title      studio  domestic_gross  \\\n",
       "0                                     Toy Story 3          BV     415000000.0   \n",
       "1                      Alice in Wonderland (2010)          BV     334200000.0   \n",
       "2     Harry Potter and the Deathly Hallows Part 1          WB     296000000.0   \n",
       "3                                       Inception          WB     292600000.0   \n",
       "4                             Shrek Forever After        P/DW     238700000.0   \n",
       "...                                           ...         ...             ...   \n",
       "3382                                    The Quake       Magn.          6200.0   \n",
       "3383                  Edward II (2018 re-release)          FM          4800.0   \n",
       "3384                                     El Pacto        Sony          2500.0   \n",
       "3385                                     The Swan  Synergetic          2400.0   \n",
       "3386                            An Actor Prepares       Grav.          1700.0   \n",
       "\n",
       "     foreign_gross  year  \n",
       "0        652000000  2010  \n",
       "1        691300000  2010  \n",
       "2        664300000  2010  \n",
       "3        535700000  2010  \n",
       "4        513900000  2010  \n",
       "...            ...   ...  \n",
       "3382           NaN  2018  \n",
       "3383           NaN  2018  \n",
       "3384           NaN  2018  \n",
       "3385           NaN  2018  \n",
       "3386           NaN  2018  \n",
       "\n",
       "[3387 rows x 5 columns]"
      ]
     },
     "execution_count": 5,
     "metadata": {},
     "output_type": "execute_result"
    }
   ],
   "source": [
    "# check the colunms\n",
    "bom"
   ]
  },
  {
   "cell_type": "code",
   "execution_count": 6,
   "metadata": {},
   "outputs": [
    {
     "data": {
      "text/plain": [
       "title              object\n",
       "studio             object\n",
       "domestic_gross    float64\n",
       "foreign_gross      object\n",
       "year                int64\n",
       "dtype: object"
      ]
     },
     "execution_count": 6,
     "metadata": {},
     "output_type": "execute_result"
    }
   ],
   "source": [
    "#checking the datatypes of the columns \n",
    "bom.dtypes"
   ]
  },
  {
   "cell_type": "code",
   "execution_count": 7,
   "metadata": {},
   "outputs": [
    {
     "data": {
      "text/html": [
       "<div>\n",
       "<style scoped>\n",
       "    .dataframe tbody tr th:only-of-type {\n",
       "        vertical-align: middle;\n",
       "    }\n",
       "\n",
       "    .dataframe tbody tr th {\n",
       "        vertical-align: top;\n",
       "    }\n",
       "\n",
       "    .dataframe thead th {\n",
       "        text-align: right;\n",
       "    }\n",
       "</style>\n",
       "<table border=\"1\" class=\"dataframe\">\n",
       "  <thead>\n",
       "    <tr style=\"text-align: right;\">\n",
       "      <th></th>\n",
       "      <th>domestic_gross</th>\n",
       "      <th>year</th>\n",
       "    </tr>\n",
       "  </thead>\n",
       "  <tbody>\n",
       "    <tr>\n",
       "      <th>count</th>\n",
       "      <td>3.359000e+03</td>\n",
       "      <td>3387.000000</td>\n",
       "    </tr>\n",
       "    <tr>\n",
       "      <th>mean</th>\n",
       "      <td>2.874585e+07</td>\n",
       "      <td>2013.958075</td>\n",
       "    </tr>\n",
       "    <tr>\n",
       "      <th>std</th>\n",
       "      <td>6.698250e+07</td>\n",
       "      <td>2.478141</td>\n",
       "    </tr>\n",
       "    <tr>\n",
       "      <th>min</th>\n",
       "      <td>1.000000e+02</td>\n",
       "      <td>2010.000000</td>\n",
       "    </tr>\n",
       "    <tr>\n",
       "      <th>25%</th>\n",
       "      <td>1.200000e+05</td>\n",
       "      <td>2012.000000</td>\n",
       "    </tr>\n",
       "    <tr>\n",
       "      <th>50%</th>\n",
       "      <td>1.400000e+06</td>\n",
       "      <td>2014.000000</td>\n",
       "    </tr>\n",
       "    <tr>\n",
       "      <th>75%</th>\n",
       "      <td>2.790000e+07</td>\n",
       "      <td>2016.000000</td>\n",
       "    </tr>\n",
       "    <tr>\n",
       "      <th>max</th>\n",
       "      <td>9.367000e+08</td>\n",
       "      <td>2018.000000</td>\n",
       "    </tr>\n",
       "  </tbody>\n",
       "</table>\n",
       "</div>"
      ],
      "text/plain": [
       "       domestic_gross         year\n",
       "count    3.359000e+03  3387.000000\n",
       "mean     2.874585e+07  2013.958075\n",
       "std      6.698250e+07     2.478141\n",
       "min      1.000000e+02  2010.000000\n",
       "25%      1.200000e+05  2012.000000\n",
       "50%      1.400000e+06  2014.000000\n",
       "75%      2.790000e+07  2016.000000\n",
       "max      9.367000e+08  2018.000000"
      ]
     },
     "execution_count": 7,
     "metadata": {},
     "output_type": "execute_result"
    }
   ],
   "source": [
    "#concise summary statistics\n",
    "bom.describe()"
   ]
  },
  {
   "cell_type": "code",
   "execution_count": 8,
   "metadata": {},
   "outputs": [
    {
     "data": {
      "text/plain": [
       "(3387, 5)"
      ]
     },
     "execution_count": 8,
     "metadata": {},
     "output_type": "execute_result"
    }
   ],
   "source": [
    "#checking the dataset shape\n",
    "bom.shape"
   ]
  },
  {
   "cell_type": "code",
   "execution_count": 9,
   "metadata": {},
   "outputs": [
    {
     "name": "stdout",
     "output_type": "stream",
     "text": [
      "<class 'pandas.core.frame.DataFrame'>\n",
      "RangeIndex: 3387 entries, 0 to 3386\n",
      "Data columns (total 5 columns):\n",
      " #   Column          Non-Null Count  Dtype  \n",
      "---  ------          --------------  -----  \n",
      " 0   title           3387 non-null   object \n",
      " 1   studio          3382 non-null   object \n",
      " 2   domestic_gross  3359 non-null   float64\n",
      " 3   foreign_gross   2037 non-null   object \n",
      " 4   year            3387 non-null   int64  \n",
      "dtypes: float64(1), int64(1), object(3)\n",
      "memory usage: 132.4+ KB\n"
     ]
    }
   ],
   "source": [
    "#checking the dataset information\n",
    "bom.info()"
   ]
  },
  {
   "cell_type": "code",
   "execution_count": 10,
   "metadata": {},
   "outputs": [
    {
     "data": {
      "text/plain": [
       "title                0\n",
       "studio               5\n",
       "domestic_gross      28\n",
       "foreign_gross     1350\n",
       "year                 0\n",
       "dtype: int64"
      ]
     },
     "execution_count": 10,
     "metadata": {},
     "output_type": "execute_result"
    }
   ],
   "source": [
    "# Checking for Null values\n",
    "bom.isna().sum()"
   ]
  },
  {
   "cell_type": "code",
   "execution_count": 11,
   "metadata": {},
   "outputs": [],
   "source": [
    "bom.dropna(inplace=True)"
   ]
  },
  {
   "cell_type": "code",
   "execution_count": 12,
   "metadata": {},
   "outputs": [
    {
     "data": {
      "text/plain": [
       "title             0\n",
       "studio            0\n",
       "domestic_gross    0\n",
       "foreign_gross     0\n",
       "year              0\n",
       "dtype: int64"
      ]
     },
     "execution_count": 12,
     "metadata": {},
     "output_type": "execute_result"
    }
   ],
   "source": [
    "bom.isna().sum()"
   ]
  },
  {
   "cell_type": "code",
   "execution_count": 13,
   "metadata": {},
   "outputs": [
    {
     "data": {
      "text/plain": [
       "0       False\n",
       "1       False\n",
       "2       False\n",
       "3       False\n",
       "4       False\n",
       "        ...  \n",
       "3275    False\n",
       "3286    False\n",
       "3309    False\n",
       "3342    False\n",
       "3353    False\n",
       "Length: 2007, dtype: bool"
      ]
     },
     "execution_count": 13,
     "metadata": {},
     "output_type": "execute_result"
    }
   ],
   "source": [
    "# Checking if there is duplicates\n",
    "bom.duplicated()"
   ]
  },
  {
   "cell_type": "markdown",
   "metadata": {},
   "source": [
    "## Dataset 2: The Numbers (tn)"
   ]
  },
  {
   "cell_type": "code",
   "execution_count": 14,
   "metadata": {},
   "outputs": [
    {
     "data": {
      "text/html": [
       "<div>\n",
       "<style scoped>\n",
       "    .dataframe tbody tr th:only-of-type {\n",
       "        vertical-align: middle;\n",
       "    }\n",
       "\n",
       "    .dataframe tbody tr th {\n",
       "        vertical-align: top;\n",
       "    }\n",
       "\n",
       "    .dataframe thead th {\n",
       "        text-align: right;\n",
       "    }\n",
       "</style>\n",
       "<table border=\"1\" class=\"dataframe\">\n",
       "  <thead>\n",
       "    <tr style=\"text-align: right;\">\n",
       "      <th></th>\n",
       "      <th>id</th>\n",
       "      <th>release_date</th>\n",
       "      <th>movie</th>\n",
       "      <th>production_budget</th>\n",
       "      <th>domestic_gross</th>\n",
       "      <th>worldwide_gross</th>\n",
       "    </tr>\n",
       "  </thead>\n",
       "  <tbody>\n",
       "    <tr>\n",
       "      <th>0</th>\n",
       "      <td>1</td>\n",
       "      <td>Dec 18, 2009</td>\n",
       "      <td>Avatar</td>\n",
       "      <td>$425,000,000</td>\n",
       "      <td>$760,507,625</td>\n",
       "      <td>$2,776,345,279</td>\n",
       "    </tr>\n",
       "    <tr>\n",
       "      <th>1</th>\n",
       "      <td>2</td>\n",
       "      <td>May 20, 2011</td>\n",
       "      <td>Pirates of the Caribbean: On Stranger Tides</td>\n",
       "      <td>$410,600,000</td>\n",
       "      <td>$241,063,875</td>\n",
       "      <td>$1,045,663,875</td>\n",
       "    </tr>\n",
       "    <tr>\n",
       "      <th>2</th>\n",
       "      <td>3</td>\n",
       "      <td>Jun 7, 2019</td>\n",
       "      <td>Dark Phoenix</td>\n",
       "      <td>$350,000,000</td>\n",
       "      <td>$42,762,350</td>\n",
       "      <td>$149,762,350</td>\n",
       "    </tr>\n",
       "    <tr>\n",
       "      <th>3</th>\n",
       "      <td>4</td>\n",
       "      <td>May 1, 2015</td>\n",
       "      <td>Avengers: Age of Ultron</td>\n",
       "      <td>$330,600,000</td>\n",
       "      <td>$459,005,868</td>\n",
       "      <td>$1,403,013,963</td>\n",
       "    </tr>\n",
       "    <tr>\n",
       "      <th>4</th>\n",
       "      <td>5</td>\n",
       "      <td>Dec 15, 2017</td>\n",
       "      <td>Star Wars Ep. VIII: The Last Jedi</td>\n",
       "      <td>$317,000,000</td>\n",
       "      <td>$620,181,382</td>\n",
       "      <td>$1,316,721,747</td>\n",
       "    </tr>\n",
       "    <tr>\n",
       "      <th>...</th>\n",
       "      <td>...</td>\n",
       "      <td>...</td>\n",
       "      <td>...</td>\n",
       "      <td>...</td>\n",
       "      <td>...</td>\n",
       "      <td>...</td>\n",
       "    </tr>\n",
       "    <tr>\n",
       "      <th>5777</th>\n",
       "      <td>78</td>\n",
       "      <td>Dec 31, 2018</td>\n",
       "      <td>Red 11</td>\n",
       "      <td>$7,000</td>\n",
       "      <td>$0</td>\n",
       "      <td>$0</td>\n",
       "    </tr>\n",
       "    <tr>\n",
       "      <th>5778</th>\n",
       "      <td>79</td>\n",
       "      <td>Apr 2, 1999</td>\n",
       "      <td>Following</td>\n",
       "      <td>$6,000</td>\n",
       "      <td>$48,482</td>\n",
       "      <td>$240,495</td>\n",
       "    </tr>\n",
       "    <tr>\n",
       "      <th>5779</th>\n",
       "      <td>80</td>\n",
       "      <td>Jul 13, 2005</td>\n",
       "      <td>Return to the Land of Wonders</td>\n",
       "      <td>$5,000</td>\n",
       "      <td>$1,338</td>\n",
       "      <td>$1,338</td>\n",
       "    </tr>\n",
       "    <tr>\n",
       "      <th>5780</th>\n",
       "      <td>81</td>\n",
       "      <td>Sep 29, 2015</td>\n",
       "      <td>A Plague So Pleasant</td>\n",
       "      <td>$1,400</td>\n",
       "      <td>$0</td>\n",
       "      <td>$0</td>\n",
       "    </tr>\n",
       "    <tr>\n",
       "      <th>5781</th>\n",
       "      <td>82</td>\n",
       "      <td>Aug 5, 2005</td>\n",
       "      <td>My Date With Drew</td>\n",
       "      <td>$1,100</td>\n",
       "      <td>$181,041</td>\n",
       "      <td>$181,041</td>\n",
       "    </tr>\n",
       "  </tbody>\n",
       "</table>\n",
       "<p>5782 rows × 6 columns</p>\n",
       "</div>"
      ],
      "text/plain": [
       "      id  release_date                                        movie  \\\n",
       "0      1  Dec 18, 2009                                       Avatar   \n",
       "1      2  May 20, 2011  Pirates of the Caribbean: On Stranger Tides   \n",
       "2      3   Jun 7, 2019                                 Dark Phoenix   \n",
       "3      4   May 1, 2015                      Avengers: Age of Ultron   \n",
       "4      5  Dec 15, 2017            Star Wars Ep. VIII: The Last Jedi   \n",
       "...   ..           ...                                          ...   \n",
       "5777  78  Dec 31, 2018                                       Red 11   \n",
       "5778  79   Apr 2, 1999                                    Following   \n",
       "5779  80  Jul 13, 2005                Return to the Land of Wonders   \n",
       "5780  81  Sep 29, 2015                         A Plague So Pleasant   \n",
       "5781  82   Aug 5, 2005                            My Date With Drew   \n",
       "\n",
       "     production_budget domestic_gross worldwide_gross  \n",
       "0         $425,000,000   $760,507,625  $2,776,345,279  \n",
       "1         $410,600,000   $241,063,875  $1,045,663,875  \n",
       "2         $350,000,000    $42,762,350    $149,762,350  \n",
       "3         $330,600,000   $459,005,868  $1,403,013,963  \n",
       "4         $317,000,000   $620,181,382  $1,316,721,747  \n",
       "...                ...            ...             ...  \n",
       "5777            $7,000             $0              $0  \n",
       "5778            $6,000        $48,482        $240,495  \n",
       "5779            $5,000         $1,338          $1,338  \n",
       "5780            $1,400             $0              $0  \n",
       "5781            $1,100       $181,041        $181,041  \n",
       "\n",
       "[5782 rows x 6 columns]"
      ]
     },
     "execution_count": 14,
     "metadata": {},
     "output_type": "execute_result"
    }
   ],
   "source": [
    "# Reading and loading the dataset\n",
    "tn = pd.read_csv(\"zippedData/tn.movie_budgets.csv.gz\")\n",
    "tn"
   ]
  },
  {
   "cell_type": "code",
   "execution_count": 15,
   "metadata": {},
   "outputs": [],
   "source": [
    "# remove commas and $ from the strings of numeric columns\n",
    "tn['production_budget'] = tn['production_budget'].str.replace('$', '').str.replace(',', '')\n",
    "tn['domestic_gross'] = tn['domestic_gross'].str.replace('$', '').str.replace(',', '')\n",
    "tn['worldwide_gross'] = tn['worldwide_gross'].str.replace('$', '').str.replace(',', '')"
   ]
  },
  {
   "cell_type": "code",
   "execution_count": 16,
   "metadata": {},
   "outputs": [],
   "source": [
    "# convert numeric columns to ints\n",
    "tn['production_budget'] = tn['production_budget'].astype(float)\n",
    "tn['domestic_gross'] = tn['domestic_gross'].astype(float)\n",
    "tn['worldwide_gross'] = tn['worldwide_gross'].astype(float)"
   ]
  },
  {
   "cell_type": "code",
   "execution_count": 17,
   "metadata": {},
   "outputs": [],
   "source": [
    "# create a column for the profit of every movie\n",
    "tn['gross_profit'] = 0\n",
    "tn['gross_profit'] = tn['worldwide_gross'] - tn['production_budget']"
   ]
  },
  {
   "cell_type": "code",
   "execution_count": 18,
   "metadata": {},
   "outputs": [],
   "source": [
    "# access to the specific year a movie was made in\n",
    "tn['movie_year'] = tn['release_date'].map(lambda x: x[-4:]).astype(int)"
   ]
  },
  {
   "cell_type": "code",
   "execution_count": 19,
   "metadata": {},
   "outputs": [],
   "source": [
    "# Change to release_date to data time\n",
    "tn['release_date'] = pd.to_datetime(tn['release_date'], errors='coerce')\n",
    "\n",
    "# create release year and month from release_date\n",
    "tn[\"release_year\"] = tn[\"release_date\"].dt.year\n",
    "tn[\"release_month\"] = tn[\"release_date\"].dt.month"
   ]
  },
  {
   "cell_type": "code",
   "execution_count": 20,
   "metadata": {},
   "outputs": [],
   "source": [
    "# create an ROI column\n",
    "tn['roi'] = tn['gross_profit'] / tn['production_budget']"
   ]
  },
  {
   "cell_type": "code",
   "execution_count": 21,
   "metadata": {},
   "outputs": [],
   "source": [
    "# Create a new binary column 'investment_outcome' to indicate whether the ROI is greater than or equal to 1.\n",
    "tn['investment_outcome'] = 0\n",
    "\n",
    "# If ROI >= 1, set the value to 1 (indicating profitable or break-even investment).\n",
    "tn['investment_outcome'] = tn['roi'].map(lambda x: 1 if x >= 1 else 0)\n",
    "# If ROI < 1, set the value to 0 (indicating a loss)."
   ]
  },
  {
   "cell_type": "code",
   "execution_count": 22,
   "metadata": {},
   "outputs": [],
   "source": [
    "# Exclude movies with an ROI of -1, which are considered as complete losses\n",
    "# and may not provide useful insights for analysis.\n",
    "tn = tn.loc[tn['roi'] != -1]"
   ]
  },
  {
   "cell_type": "code",
   "execution_count": 23,
   "metadata": {},
   "outputs": [],
   "source": [
    "# Create a new column 'quartile' and initialize all values to 0\n",
    "# This step is to prepare for categorizing the movies into quartiles based on their production budget.\n",
    "tn['quartile'] = 0\n",
    "\n",
    "# Use pd.qcut to divide the 'production_budget' column into 4 equal quartiles\n",
    "# The movies will be classified into four groups:\n",
    "# \"Bottom 25\" for the lowest 25% of budgets,\n",
    "# \"25-50\" for budgets in the second quartile,\n",
    "# \"50-75\" for the third quartile,\n",
    "# \"Top 25\" for the highest 25% of budgets.\n",
    "tn[\"quartile\"] = pd.qcut(tn[\"production_budget\"], q=4, labels=[\"Bottom 25\", \"25-50\", \"50-75\", \"Top 25\"])\n",
    "\n",
    "# Now the 'quartile' column has labels corresponding to the production budget groups."
   ]
  },
  {
   "cell_type": "code",
   "execution_count": 24,
   "metadata": {},
   "outputs": [],
   "source": [
    "# Removing duplicate movie names \n",
    "tn = tn.drop_duplicates(subset=['movie'])"
   ]
  },
  {
   "cell_type": "code",
   "execution_count": 25,
   "metadata": {},
   "outputs": [
    {
     "data": {
      "text/plain": [
       "id                             int64\n",
       "release_date          datetime64[ns]\n",
       "movie                         object\n",
       "production_budget            float64\n",
       "domestic_gross               float64\n",
       "worldwide_gross              float64\n",
       "gross_profit                 float64\n",
       "movie_year                     int32\n",
       "release_year                   int32\n",
       "release_month                  int32\n",
       "roi                          float64\n",
       "investment_outcome             int64\n",
       "quartile                    category\n",
       "dtype: object"
      ]
     },
     "execution_count": 25,
     "metadata": {},
     "output_type": "execute_result"
    }
   ],
   "source": [
    "#checking the datatypes of the columns \n",
    "tn.dtypes"
   ]
  },
  {
   "cell_type": "code",
   "execution_count": 26,
   "metadata": {},
   "outputs": [
    {
     "data": {
      "text/plain": [
       "(5339, 13)"
      ]
     },
     "execution_count": 26,
     "metadata": {},
     "output_type": "execute_result"
    }
   ],
   "source": [
    "#checking the dataset shape\n",
    "tn.shape"
   ]
  },
  {
   "cell_type": "code",
   "execution_count": 27,
   "metadata": {
    "code_folding": []
   },
   "outputs": [
    {
     "name": "stdout",
     "output_type": "stream",
     "text": [
      "<class 'pandas.core.frame.DataFrame'>\n",
      "Index: 5339 entries, 0 to 5781\n",
      "Data columns (total 13 columns):\n",
      " #   Column              Non-Null Count  Dtype         \n",
      "---  ------              --------------  -----         \n",
      " 0   id                  5339 non-null   int64         \n",
      " 1   release_date        5339 non-null   datetime64[ns]\n",
      " 2   movie               5339 non-null   object        \n",
      " 3   production_budget   5339 non-null   float64       \n",
      " 4   domestic_gross      5339 non-null   float64       \n",
      " 5   worldwide_gross     5339 non-null   float64       \n",
      " 6   gross_profit        5339 non-null   float64       \n",
      " 7   movie_year          5339 non-null   int32         \n",
      " 8   release_year        5339 non-null   int32         \n",
      " 9   release_month       5339 non-null   int32         \n",
      " 10  roi                 5339 non-null   float64       \n",
      " 11  investment_outcome  5339 non-null   int64         \n",
      " 12  quartile            5339 non-null   category      \n",
      "dtypes: category(1), datetime64[ns](1), float64(5), int32(3), int64(2), object(1)\n",
      "memory usage: 485.1+ KB\n"
     ]
    }
   ],
   "source": [
    "#checking the dataset information\n",
    "tn.info()"
   ]
  },
  {
   "cell_type": "code",
   "execution_count": 28,
   "metadata": {},
   "outputs": [
    {
     "data": {
      "text/plain": [
       "id                    0\n",
       "release_date          0\n",
       "movie                 0\n",
       "production_budget     0\n",
       "domestic_gross        0\n",
       "worldwide_gross       0\n",
       "gross_profit          0\n",
       "movie_year            0\n",
       "release_year          0\n",
       "release_month         0\n",
       "roi                   0\n",
       "investment_outcome    0\n",
       "quartile              0\n",
       "dtype: int64"
      ]
     },
     "execution_count": 28,
     "metadata": {},
     "output_type": "execute_result"
    }
   ],
   "source": [
    "# Checking for Null values\n",
    "tn.isnull().sum()"
   ]
  },
  {
   "cell_type": "code",
   "execution_count": 29,
   "metadata": {},
   "outputs": [
    {
     "data": {
      "text/html": [
       "<div>\n",
       "<style scoped>\n",
       "    .dataframe tbody tr th:only-of-type {\n",
       "        vertical-align: middle;\n",
       "    }\n",
       "\n",
       "    .dataframe tbody tr th {\n",
       "        vertical-align: top;\n",
       "    }\n",
       "\n",
       "    .dataframe thead th {\n",
       "        text-align: right;\n",
       "    }\n",
       "</style>\n",
       "<table border=\"1\" class=\"dataframe\">\n",
       "  <thead>\n",
       "    <tr style=\"text-align: right;\">\n",
       "      <th></th>\n",
       "      <th>id</th>\n",
       "      <th>release_date</th>\n",
       "      <th>title</th>\n",
       "      <th>production_budget</th>\n",
       "      <th>domestic_gross</th>\n",
       "      <th>worldwide_gross</th>\n",
       "      <th>gross_profit</th>\n",
       "      <th>movie_year</th>\n",
       "      <th>release_year</th>\n",
       "      <th>release_month</th>\n",
       "      <th>roi</th>\n",
       "      <th>investment_outcome</th>\n",
       "      <th>quartile</th>\n",
       "    </tr>\n",
       "  </thead>\n",
       "  <tbody>\n",
       "    <tr>\n",
       "      <th>0</th>\n",
       "      <td>1</td>\n",
       "      <td>2009-12-18</td>\n",
       "      <td>Avatar</td>\n",
       "      <td>425000000.0</td>\n",
       "      <td>760507625.0</td>\n",
       "      <td>2.776345e+09</td>\n",
       "      <td>2.351345e+09</td>\n",
       "      <td>2009</td>\n",
       "      <td>2009</td>\n",
       "      <td>12</td>\n",
       "      <td>5.532577</td>\n",
       "      <td>1</td>\n",
       "      <td>Top 25</td>\n",
       "    </tr>\n",
       "    <tr>\n",
       "      <th>1</th>\n",
       "      <td>2</td>\n",
       "      <td>2011-05-20</td>\n",
       "      <td>Pirates of the Caribbean: On Stranger Tides</td>\n",
       "      <td>410600000.0</td>\n",
       "      <td>241063875.0</td>\n",
       "      <td>1.045664e+09</td>\n",
       "      <td>6.350639e+08</td>\n",
       "      <td>2011</td>\n",
       "      <td>2011</td>\n",
       "      <td>5</td>\n",
       "      <td>1.546673</td>\n",
       "      <td>1</td>\n",
       "      <td>Top 25</td>\n",
       "    </tr>\n",
       "    <tr>\n",
       "      <th>2</th>\n",
       "      <td>3</td>\n",
       "      <td>2019-06-07</td>\n",
       "      <td>Dark Phoenix</td>\n",
       "      <td>350000000.0</td>\n",
       "      <td>42762350.0</td>\n",
       "      <td>1.497624e+08</td>\n",
       "      <td>-2.002376e+08</td>\n",
       "      <td>2019</td>\n",
       "      <td>2019</td>\n",
       "      <td>6</td>\n",
       "      <td>-0.572108</td>\n",
       "      <td>0</td>\n",
       "      <td>Top 25</td>\n",
       "    </tr>\n",
       "    <tr>\n",
       "      <th>3</th>\n",
       "      <td>4</td>\n",
       "      <td>2015-05-01</td>\n",
       "      <td>Avengers: Age of Ultron</td>\n",
       "      <td>330600000.0</td>\n",
       "      <td>459005868.0</td>\n",
       "      <td>1.403014e+09</td>\n",
       "      <td>1.072414e+09</td>\n",
       "      <td>2015</td>\n",
       "      <td>2015</td>\n",
       "      <td>5</td>\n",
       "      <td>3.243841</td>\n",
       "      <td>1</td>\n",
       "      <td>Top 25</td>\n",
       "    </tr>\n",
       "    <tr>\n",
       "      <th>4</th>\n",
       "      <td>5</td>\n",
       "      <td>2017-12-15</td>\n",
       "      <td>Star Wars Ep. VIII: The Last Jedi</td>\n",
       "      <td>317000000.0</td>\n",
       "      <td>620181382.0</td>\n",
       "      <td>1.316722e+09</td>\n",
       "      <td>9.997217e+08</td>\n",
       "      <td>2017</td>\n",
       "      <td>2017</td>\n",
       "      <td>12</td>\n",
       "      <td>3.153696</td>\n",
       "      <td>1</td>\n",
       "      <td>Top 25</td>\n",
       "    </tr>\n",
       "  </tbody>\n",
       "</table>\n",
       "</div>"
      ],
      "text/plain": [
       "   id release_date                                        title  \\\n",
       "0   1   2009-12-18                                       Avatar   \n",
       "1   2   2011-05-20  Pirates of the Caribbean: On Stranger Tides   \n",
       "2   3   2019-06-07                                 Dark Phoenix   \n",
       "3   4   2015-05-01                      Avengers: Age of Ultron   \n",
       "4   5   2017-12-15            Star Wars Ep. VIII: The Last Jedi   \n",
       "\n",
       "   production_budget  domestic_gross  worldwide_gross  gross_profit  \\\n",
       "0        425000000.0     760507625.0     2.776345e+09  2.351345e+09   \n",
       "1        410600000.0     241063875.0     1.045664e+09  6.350639e+08   \n",
       "2        350000000.0      42762350.0     1.497624e+08 -2.002376e+08   \n",
       "3        330600000.0     459005868.0     1.403014e+09  1.072414e+09   \n",
       "4        317000000.0     620181382.0     1.316722e+09  9.997217e+08   \n",
       "\n",
       "   movie_year  release_year  release_month       roi  investment_outcome  \\\n",
       "0        2009          2009             12  5.532577                   1   \n",
       "1        2011          2011              5  1.546673                   1   \n",
       "2        2019          2019              6 -0.572108                   0   \n",
       "3        2015          2015              5  3.243841                   1   \n",
       "4        2017          2017             12  3.153696                   1   \n",
       "\n",
       "  quartile  \n",
       "0   Top 25  \n",
       "1   Top 25  \n",
       "2   Top 25  \n",
       "3   Top 25  \n",
       "4   Top 25  "
      ]
     },
     "execution_count": 29,
     "metadata": {},
     "output_type": "execute_result"
    }
   ],
   "source": [
    "tn = tn.rename(columns={'movie':'title'})\n",
    "tn.head()"
   ]
  },
  {
   "cell_type": "code",
   "execution_count": 30,
   "metadata": {},
   "outputs": [
    {
     "name": "stdout",
     "output_type": "stream",
     "text": [
      "   production_budget budget_range\n",
      "0        425000000.0  High Budget\n",
      "1        410600000.0  High Budget\n",
      "2        350000000.0  High Budget\n",
      "3        330600000.0  High Budget\n",
      "4        317000000.0  High Budget\n"
     ]
    }
   ],
   "source": [
    "# Calculate quantiles for the production_budget column\n",
    "q2 = tn['production_budget'].quantile(0.33)  # First quantile (33%)\n",
    "q3 = tn['production_budget'].quantile(0.66)  # Second quantile (66%)\n",
    "\n",
    "# Function to define budget ranges and categorize the films using the quantiles\n",
    "def categorize_budget(budget):\n",
    "    if budget < q2:\n",
    "        return 'Low Budget'\n",
    "    elif q2 <= budget < q3:\n",
    "        return 'Mid Budget'\n",
    "    else:\n",
    "        return 'High Budget'\n",
    "\n",
    "# Apply the function to the 'production_budget' column\n",
    "tn['budget_range'] = tn['production_budget'].apply(categorize_budget)\n",
    "\n",
    "# Check the result\n",
    "print(tn[['production_budget', 'budget_range']].head())"
   ]
  },
  {
   "cell_type": "code",
   "execution_count": 31,
   "metadata": {},
   "outputs": [],
   "source": [
    "# merge tn and bom\n",
    "tn_bom = pd.merge(tn, bom, on='title', how='left')"
   ]
  },
  {
   "cell_type": "code",
   "execution_count": 32,
   "metadata": {},
   "outputs": [
    {
     "data": {
      "text/plain": [
       "Index(['id', 'release_date', 'title', 'production_budget', 'domestic_gross_x',\n",
       "       'worldwide_gross', 'gross_profit', 'movie_year', 'release_year',\n",
       "       'release_month', 'roi', 'investment_outcome', 'quartile',\n",
       "       'budget_range', 'studio', 'domestic_gross_y', 'foreign_gross', 'year'],\n",
       "      dtype='object')"
      ]
     },
     "execution_count": 32,
     "metadata": {},
     "output_type": "execute_result"
    }
   ],
   "source": [
    "tn_bom.columns"
   ]
  },
  {
   "cell_type": "code",
   "execution_count": 33,
   "metadata": {},
   "outputs": [
    {
     "name": "stdout",
     "output_type": "stream",
     "text": [
      "Index(['id', 'release_date', 'title', 'production_budget', 'domestic_gross_x',\n",
      "       'worldwide_gross', 'gross_profit', 'movie_year', 'release_year',\n",
      "       'release_month', 'roi', 'investment_outcome', 'quartile',\n",
      "       'budget_range', 'studio', 'domestic_gross_y', 'foreign_gross', 'year'],\n",
      "      dtype='object')\n",
      "   id release_date                                        title  \\\n",
      "0   1   2009-12-18                                       Avatar   \n",
      "1   2   2011-05-20  Pirates of the Caribbean: On Stranger Tides   \n",
      "2   3   2019-06-07                                 Dark Phoenix   \n",
      "3   4   2015-05-01                      Avengers: Age of Ultron   \n",
      "4   5   2017-12-15            Star Wars Ep. VIII: The Last Jedi   \n",
      "\n",
      "   production_budget  worldwide_gross  gross_profit  movie_year  release_year  \\\n",
      "0        425000000.0     2.776345e+09  2.351345e+09        2009          2009   \n",
      "1        410600000.0     1.045664e+09  6.350639e+08        2011          2011   \n",
      "2        350000000.0     1.497624e+08 -2.002376e+08        2019          2019   \n",
      "3        330600000.0     1.403014e+09  1.072414e+09        2015          2015   \n",
      "4        317000000.0     1.316722e+09  9.997217e+08        2017          2017   \n",
      "\n",
      "   release_month       roi  investment_outcome quartile budget_range studio  \\\n",
      "0             12  5.532577                   1   Top 25  High Budget    NaN   \n",
      "1              5  1.546673                   1   Top 25  High Budget     BV   \n",
      "2              6 -0.572108                   0   Top 25  High Budget    NaN   \n",
      "3              5  3.243841                   1   Top 25  High Budget     BV   \n",
      "4             12  3.153696                   1   Top 25  High Budget    NaN   \n",
      "\n",
      "  foreign_gross    year  domestic_gross  \n",
      "0           NaN     NaN     760507625.0  \n",
      "1     804600000  2011.0     241063875.0  \n",
      "2           NaN     NaN      42762350.0  \n",
      "3     946400000  2015.0     459005868.0  \n",
      "4           NaN     NaN     620181382.0  \n"
     ]
    }
   ],
   "source": [
    "# Inspect the column names\n",
    "print(tn_bom.columns)\n",
    "\n",
    "# Define the correct column names\n",
    "x_col = 'domestic_gross_x'  \n",
    "y_col = 'domestic_gross_y'  \n",
    "\n",
    "# Combine the columns\n",
    "tn_bom['domestic_gross'] = tn_bom[x_col].combine_first(tn_bom[y_col])\n",
    "\n",
    "# Drop the original columns if not needed\n",
    "tn_bom = tn_bom.drop(columns=[x_col, y_col])\n",
    "\n",
    "# Verify the result\n",
    "print(tn_bom.head())"
   ]
  },
  {
   "cell_type": "code",
   "execution_count": 34,
   "metadata": {},
   "outputs": [
    {
     "data": {
      "text/plain": [
       "(5339, 17)"
      ]
     },
     "execution_count": 34,
     "metadata": {},
     "output_type": "execute_result"
    }
   ],
   "source": [
    "tn_bom.shape"
   ]
  },
  {
   "cell_type": "code",
   "execution_count": 35,
   "metadata": {},
   "outputs": [
    {
     "name": "stdout",
     "output_type": "stream",
     "text": [
      "   id release_date                                        title  \\\n",
      "0   1   2009-12-18                                       Avatar   \n",
      "1   2   2011-05-20  Pirates of the Caribbean: On Stranger Tides   \n",
      "2   3   2019-06-07                                 Dark Phoenix   \n",
      "3   4   2015-05-01                      Avengers: Age of Ultron   \n",
      "4   5   2017-12-15            Star Wars Ep. VIII: The Last Jedi   \n",
      "\n",
      "   production_budget  worldwide_gross  gross_profit  movie_year  release_year  \\\n",
      "0        425000000.0     2.776345e+09  2.351345e+09        2009          2009   \n",
      "1        410600000.0     1.045664e+09  6.350639e+08        2011          2011   \n",
      "2        350000000.0     1.497624e+08 -2.002376e+08        2019          2019   \n",
      "3        330600000.0     1.403014e+09  1.072414e+09        2015          2015   \n",
      "4        317000000.0     1.316722e+09  9.997217e+08        2017          2017   \n",
      "\n",
      "   release_month       roi  investment_outcome quartile budget_range  \\\n",
      "0             12  5.532577                   1   Top 25  High Budget   \n",
      "1              5  1.546673                   1   Top 25  High Budget   \n",
      "2              6 -0.572108                   0   Top 25  High Budget   \n",
      "3              5  3.243841                   1   Top 25  High Budget   \n",
      "4             12  3.153696                   1   Top 25  High Budget   \n",
      "\n",
      "   domestic_gross  \n",
      "0     760507625.0  \n",
      "1     241063875.0  \n",
      "2      42762350.0  \n",
      "3     459005868.0  \n",
      "4     620181382.0  \n"
     ]
    }
   ],
   "source": [
    "# Define the columns to drop\n",
    "columns_to_drop = ['studio', 'year', 'foreign_gross']\n",
    "\n",
    "# Drop the columns from the DataFrame\n",
    "tn_bom = tn_bom.drop(columns=columns_to_drop)\n",
    "\n",
    "# Verify the updated DataFrame\n",
    "print(tn_bom.head())"
   ]
  },
  {
   "cell_type": "code",
   "execution_count": 36,
   "metadata": {},
   "outputs": [
    {
     "name": "stdout",
     "output_type": "stream",
     "text": [
      "   id release_date                                        title  \\\n",
      "0   1   2009-12-18                                       Avatar   \n",
      "1   2   2011-05-20  Pirates of the Caribbean: On Stranger Tides   \n",
      "2   3   2019-06-07                                 Dark Phoenix   \n",
      "3   4   2015-05-01                      Avengers: Age of Ultron   \n",
      "4   5   2017-12-15            Star Wars Ep. VIII: The Last Jedi   \n",
      "\n",
      "   production_budget  worldwide_gross  gross_profit  movie_year  release_year  \\\n",
      "0        425000000.0     2.776345e+09  2.351345e+09        2009          2009   \n",
      "1        410600000.0     1.045664e+09  6.350639e+08        2011          2011   \n",
      "2        350000000.0     1.497624e+08 -2.002376e+08        2019          2019   \n",
      "3        330600000.0     1.403014e+09  1.072414e+09        2015          2015   \n",
      "4        317000000.0     1.316722e+09  9.997217e+08        2017          2017   \n",
      "\n",
      "   release_month       roi  investment_outcome quartile budget_range  \\\n",
      "0             12  5.532577                   1   Top 25  High Budget   \n",
      "1              5  1.546673                   1   Top 25  High Budget   \n",
      "2              6 -0.572108                   0   Top 25  High Budget   \n",
      "3              5  3.243841                   1   Top 25  High Budget   \n",
      "4             12  3.153696                   1   Top 25  High Budget   \n",
      "\n",
      "   domestic_gross  month  season  \n",
      "0     760507625.0     12  Winter  \n",
      "1     241063875.0      5  Spring  \n",
      "2      42762350.0      6  Summer  \n",
      "3     459005868.0      5  Spring  \n",
      "4     620181382.0     12  Winter  \n"
     ]
    }
   ],
   "source": [
    "# Function to define seasons based on month\n",
    "def get_season(month):\n",
    "    if month in [12, 1, 2]:\n",
    "        return 'Winter'\n",
    "    elif month in [3, 4, 5]:\n",
    "        return 'Spring'\n",
    "    elif month in [6, 7, 8]:\n",
    "        return 'Summer'\n",
    "    else:\n",
    "        return 'Fall'\n",
    "\n",
    "# Extract month from the 'release_date' column if not already present\n",
    "tn_bom['month'] = pd.to_datetime(tn_bom['release_date']).dt.month\n",
    "\n",
    "# Apply the function to create the 'season' column\n",
    "tn_bom['season'] = tn_bom['month'].apply(get_season)\n",
    "\n",
    "# Aggregating data by season (optional)\n",
    "seasonal_performance = tn_bom.groupby('season').agg({\n",
    "    'gross_profit': 'mean'\n",
    "}).reset_index()\n",
    "\n",
    "# View the updated dataframe\n",
    "print(tn_bom.head())"
   ]
  },
  {
   "cell_type": "code",
   "execution_count": 37,
   "metadata": {},
   "outputs": [],
   "source": [
    "# Function to format large numbers into a readable format (K, M, B)\n",
    "def format_money(value):\n",
    "    if value >= 1_000_000_000:\n",
    "        return f\"{value / 1_000_000_000:.1f}B\"  # Convert to billions\n",
    "    elif value >= 1_000_000:\n",
    "        return f\"{value / 1_000_000:.1f}M\"  # Convert to millions\n",
    "    elif value >= 1_000:\n",
    "        return f\"{value / 1_000:.1f}K\"  # Convert to thousands\n",
    "    else:\n",
    "        return f\"{value:.1f}\"  # Return the value as is if it is less than 1000"
   ]
  },
  {
   "cell_type": "code",
   "execution_count": 38,
   "metadata": {},
   "outputs": [
    {
     "name": "stdout",
     "output_type": "stream",
     "text": [
      "  production_budget domestic_gross worldwide_gross  gross_profit\n",
      "0            425.0M         760.5M            2.8B          2.4B\n",
      "1            410.6M         241.1M            1.0B        635.1M\n",
      "2            350.0M          42.8M          149.8M  -200237650.0\n",
      "3            330.6M         459.0M            1.4B          1.1B\n",
      "4            317.0M         620.2M            1.3B        999.7M\n"
     ]
    }
   ],
   "source": [
    "# Apply the format_money function to the monetary columns in tn_bom\n",
    "tn_bom['production_budget'] = tn_bom['production_budget'].apply(format_money)\n",
    "tn_bom['domestic_gross'] = tn_bom['domestic_gross'].apply(format_money)\n",
    "tn_bom['gross_profit'] = tn_bom['gross_profit'].apply(format_money)\n",
    "tn_bom['worldwide_gross'] = tn_bom['worldwide_gross'].apply(format_money)\n",
    "\n",
    "# Show the results to confirm the formatting\n",
    "print(tn_bom[['production_budget', 'domestic_gross', 'worldwide_gross', 'gross_profit']].head())\n"
   ]
  },
  {
   "cell_type": "code",
   "execution_count": 39,
   "metadata": {},
   "outputs": [
    {
     "data": {
      "text/plain": [
       "(5339, 16)"
      ]
     },
     "execution_count": 39,
     "metadata": {},
     "output_type": "execute_result"
    }
   ],
   "source": [
    "tn_bom.shape"
   ]
  },
  {
   "cell_type": "code",
   "execution_count": 40,
   "metadata": {},
   "outputs": [
    {
     "data": {
      "text/plain": [
       "id                    0\n",
       "release_date          0\n",
       "title                 0\n",
       "production_budget     0\n",
       "worldwide_gross       0\n",
       "gross_profit          0\n",
       "movie_year            0\n",
       "release_year          0\n",
       "release_month         0\n",
       "roi                   0\n",
       "investment_outcome    0\n",
       "quartile              0\n",
       "budget_range          0\n",
       "domestic_gross        0\n",
       "month                 0\n",
       "season                0\n",
       "dtype: int64"
      ]
     },
     "execution_count": 40,
     "metadata": {},
     "output_type": "execute_result"
    }
   ],
   "source": [
    "tn_bom.isnull().sum()"
   ]
  },
  {
   "cell_type": "markdown",
   "metadata": {},
   "source": [
    "## Dataset 3: Rotten Tomatoes Movies Info (rt_movie_info) Reviews (rt_reviews)"
   ]
  },
  {
   "cell_type": "code",
   "execution_count": 41,
   "metadata": {},
   "outputs": [
    {
     "data": {
      "text/html": [
       "<div>\n",
       "<style scoped>\n",
       "    .dataframe tbody tr th:only-of-type {\n",
       "        vertical-align: middle;\n",
       "    }\n",
       "\n",
       "    .dataframe tbody tr th {\n",
       "        vertical-align: top;\n",
       "    }\n",
       "\n",
       "    .dataframe thead th {\n",
       "        text-align: right;\n",
       "    }\n",
       "</style>\n",
       "<table border=\"1\" class=\"dataframe\">\n",
       "  <thead>\n",
       "    <tr style=\"text-align: right;\">\n",
       "      <th></th>\n",
       "      <th>id</th>\n",
       "      <th>synopsis</th>\n",
       "      <th>rating</th>\n",
       "      <th>genre</th>\n",
       "      <th>director</th>\n",
       "      <th>writer</th>\n",
       "      <th>theater_date</th>\n",
       "      <th>dvd_date</th>\n",
       "      <th>currency</th>\n",
       "      <th>box_office</th>\n",
       "      <th>runtime</th>\n",
       "      <th>studio</th>\n",
       "    </tr>\n",
       "  </thead>\n",
       "  <tbody>\n",
       "    <tr>\n",
       "      <th>0</th>\n",
       "      <td>1</td>\n",
       "      <td>This gritty, fast-paced, and innovative police...</td>\n",
       "      <td>R</td>\n",
       "      <td>Action and Adventure|Classics|Drama</td>\n",
       "      <td>William Friedkin</td>\n",
       "      <td>Ernest Tidyman</td>\n",
       "      <td>Oct 9, 1971</td>\n",
       "      <td>Sep 25, 2001</td>\n",
       "      <td>NaN</td>\n",
       "      <td>NaN</td>\n",
       "      <td>104 minutes</td>\n",
       "      <td>NaN</td>\n",
       "    </tr>\n",
       "    <tr>\n",
       "      <th>1</th>\n",
       "      <td>3</td>\n",
       "      <td>New York City, not-too-distant-future: Eric Pa...</td>\n",
       "      <td>R</td>\n",
       "      <td>Drama|Science Fiction and Fantasy</td>\n",
       "      <td>David Cronenberg</td>\n",
       "      <td>David Cronenberg|Don DeLillo</td>\n",
       "      <td>Aug 17, 2012</td>\n",
       "      <td>Jan 1, 2013</td>\n",
       "      <td>$</td>\n",
       "      <td>600,000</td>\n",
       "      <td>108 minutes</td>\n",
       "      <td>Entertainment One</td>\n",
       "    </tr>\n",
       "    <tr>\n",
       "      <th>2</th>\n",
       "      <td>5</td>\n",
       "      <td>Illeana Douglas delivers a superb performance ...</td>\n",
       "      <td>R</td>\n",
       "      <td>Drama|Musical and Performing Arts</td>\n",
       "      <td>Allison Anders</td>\n",
       "      <td>Allison Anders</td>\n",
       "      <td>Sep 13, 1996</td>\n",
       "      <td>Apr 18, 2000</td>\n",
       "      <td>NaN</td>\n",
       "      <td>NaN</td>\n",
       "      <td>116 minutes</td>\n",
       "      <td>NaN</td>\n",
       "    </tr>\n",
       "    <tr>\n",
       "      <th>3</th>\n",
       "      <td>6</td>\n",
       "      <td>Michael Douglas runs afoul of a treacherous su...</td>\n",
       "      <td>R</td>\n",
       "      <td>Drama|Mystery and Suspense</td>\n",
       "      <td>Barry Levinson</td>\n",
       "      <td>Paul Attanasio|Michael Crichton</td>\n",
       "      <td>Dec 9, 1994</td>\n",
       "      <td>Aug 27, 1997</td>\n",
       "      <td>NaN</td>\n",
       "      <td>NaN</td>\n",
       "      <td>128 minutes</td>\n",
       "      <td>NaN</td>\n",
       "    </tr>\n",
       "    <tr>\n",
       "      <th>4</th>\n",
       "      <td>7</td>\n",
       "      <td>NaN</td>\n",
       "      <td>NR</td>\n",
       "      <td>Drama|Romance</td>\n",
       "      <td>Rodney Bennett</td>\n",
       "      <td>Giles Cooper</td>\n",
       "      <td>NaN</td>\n",
       "      <td>NaN</td>\n",
       "      <td>NaN</td>\n",
       "      <td>NaN</td>\n",
       "      <td>200 minutes</td>\n",
       "      <td>NaN</td>\n",
       "    </tr>\n",
       "    <tr>\n",
       "      <th>...</th>\n",
       "      <td>...</td>\n",
       "      <td>...</td>\n",
       "      <td>...</td>\n",
       "      <td>...</td>\n",
       "      <td>...</td>\n",
       "      <td>...</td>\n",
       "      <td>...</td>\n",
       "      <td>...</td>\n",
       "      <td>...</td>\n",
       "      <td>...</td>\n",
       "      <td>...</td>\n",
       "      <td>...</td>\n",
       "    </tr>\n",
       "    <tr>\n",
       "      <th>1555</th>\n",
       "      <td>1996</td>\n",
       "      <td>Forget terrorists or hijackers -- there's a ha...</td>\n",
       "      <td>R</td>\n",
       "      <td>Action and Adventure|Horror|Mystery and Suspense</td>\n",
       "      <td>NaN</td>\n",
       "      <td>NaN</td>\n",
       "      <td>Aug 18, 2006</td>\n",
       "      <td>Jan 2, 2007</td>\n",
       "      <td>$</td>\n",
       "      <td>33,886,034</td>\n",
       "      <td>106 minutes</td>\n",
       "      <td>New Line Cinema</td>\n",
       "    </tr>\n",
       "    <tr>\n",
       "      <th>1556</th>\n",
       "      <td>1997</td>\n",
       "      <td>The popular Saturday Night Live sketch was exp...</td>\n",
       "      <td>PG</td>\n",
       "      <td>Comedy|Science Fiction and Fantasy</td>\n",
       "      <td>Steve Barron</td>\n",
       "      <td>Terry Turner|Tom Davis|Dan Aykroyd|Bonnie Turner</td>\n",
       "      <td>Jul 23, 1993</td>\n",
       "      <td>Apr 17, 2001</td>\n",
       "      <td>NaN</td>\n",
       "      <td>NaN</td>\n",
       "      <td>88 minutes</td>\n",
       "      <td>Paramount Vantage</td>\n",
       "    </tr>\n",
       "    <tr>\n",
       "      <th>1557</th>\n",
       "      <td>1998</td>\n",
       "      <td>Based on a novel by Richard Powell, when the l...</td>\n",
       "      <td>G</td>\n",
       "      <td>Classics|Comedy|Drama|Musical and Performing Arts</td>\n",
       "      <td>Gordon Douglas</td>\n",
       "      <td>NaN</td>\n",
       "      <td>Jan 1, 1962</td>\n",
       "      <td>May 11, 2004</td>\n",
       "      <td>NaN</td>\n",
       "      <td>NaN</td>\n",
       "      <td>111 minutes</td>\n",
       "      <td>NaN</td>\n",
       "    </tr>\n",
       "    <tr>\n",
       "      <th>1558</th>\n",
       "      <td>1999</td>\n",
       "      <td>The Sandlot is a coming-of-age story about a g...</td>\n",
       "      <td>PG</td>\n",
       "      <td>Comedy|Drama|Kids and Family|Sports and Fitness</td>\n",
       "      <td>David Mickey Evans</td>\n",
       "      <td>David Mickey Evans|Robert Gunter</td>\n",
       "      <td>Apr 1, 1993</td>\n",
       "      <td>Jan 29, 2002</td>\n",
       "      <td>NaN</td>\n",
       "      <td>NaN</td>\n",
       "      <td>101 minutes</td>\n",
       "      <td>NaN</td>\n",
       "    </tr>\n",
       "    <tr>\n",
       "      <th>1559</th>\n",
       "      <td>2000</td>\n",
       "      <td>Suspended from the force, Paris cop Hubert is ...</td>\n",
       "      <td>R</td>\n",
       "      <td>Action and Adventure|Art House and Internation...</td>\n",
       "      <td>NaN</td>\n",
       "      <td>Luc Besson</td>\n",
       "      <td>Sep 27, 2001</td>\n",
       "      <td>Feb 11, 2003</td>\n",
       "      <td>NaN</td>\n",
       "      <td>NaN</td>\n",
       "      <td>94 minutes</td>\n",
       "      <td>Columbia Pictures</td>\n",
       "    </tr>\n",
       "  </tbody>\n",
       "</table>\n",
       "<p>1560 rows × 12 columns</p>\n",
       "</div>"
      ],
      "text/plain": [
       "        id                                           synopsis rating  \\\n",
       "0        1  This gritty, fast-paced, and innovative police...      R   \n",
       "1        3  New York City, not-too-distant-future: Eric Pa...      R   \n",
       "2        5  Illeana Douglas delivers a superb performance ...      R   \n",
       "3        6  Michael Douglas runs afoul of a treacherous su...      R   \n",
       "4        7                                                NaN     NR   \n",
       "...    ...                                                ...    ...   \n",
       "1555  1996  Forget terrorists or hijackers -- there's a ha...      R   \n",
       "1556  1997  The popular Saturday Night Live sketch was exp...     PG   \n",
       "1557  1998  Based on a novel by Richard Powell, when the l...      G   \n",
       "1558  1999  The Sandlot is a coming-of-age story about a g...     PG   \n",
       "1559  2000  Suspended from the force, Paris cop Hubert is ...      R   \n",
       "\n",
       "                                                  genre            director  \\\n",
       "0                   Action and Adventure|Classics|Drama    William Friedkin   \n",
       "1                     Drama|Science Fiction and Fantasy    David Cronenberg   \n",
       "2                     Drama|Musical and Performing Arts      Allison Anders   \n",
       "3                            Drama|Mystery and Suspense      Barry Levinson   \n",
       "4                                         Drama|Romance      Rodney Bennett   \n",
       "...                                                 ...                 ...   \n",
       "1555   Action and Adventure|Horror|Mystery and Suspense                 NaN   \n",
       "1556                 Comedy|Science Fiction and Fantasy        Steve Barron   \n",
       "1557  Classics|Comedy|Drama|Musical and Performing Arts      Gordon Douglas   \n",
       "1558    Comedy|Drama|Kids and Family|Sports and Fitness  David Mickey Evans   \n",
       "1559  Action and Adventure|Art House and Internation...                 NaN   \n",
       "\n",
       "                                                writer  theater_date  \\\n",
       "0                                       Ernest Tidyman   Oct 9, 1971   \n",
       "1                         David Cronenberg|Don DeLillo  Aug 17, 2012   \n",
       "2                                       Allison Anders  Sep 13, 1996   \n",
       "3                      Paul Attanasio|Michael Crichton   Dec 9, 1994   \n",
       "4                                         Giles Cooper           NaN   \n",
       "...                                                ...           ...   \n",
       "1555                                               NaN  Aug 18, 2006   \n",
       "1556  Terry Turner|Tom Davis|Dan Aykroyd|Bonnie Turner  Jul 23, 1993   \n",
       "1557                                               NaN   Jan 1, 1962   \n",
       "1558                  David Mickey Evans|Robert Gunter   Apr 1, 1993   \n",
       "1559                                        Luc Besson  Sep 27, 2001   \n",
       "\n",
       "          dvd_date currency  box_office      runtime             studio  \n",
       "0     Sep 25, 2001      NaN         NaN  104 minutes                NaN  \n",
       "1      Jan 1, 2013        $     600,000  108 minutes  Entertainment One  \n",
       "2     Apr 18, 2000      NaN         NaN  116 minutes                NaN  \n",
       "3     Aug 27, 1997      NaN         NaN  128 minutes                NaN  \n",
       "4              NaN      NaN         NaN  200 minutes                NaN  \n",
       "...            ...      ...         ...          ...                ...  \n",
       "1555   Jan 2, 2007        $  33,886,034  106 minutes    New Line Cinema  \n",
       "1556  Apr 17, 2001      NaN         NaN   88 minutes  Paramount Vantage  \n",
       "1557  May 11, 2004      NaN         NaN  111 minutes                NaN  \n",
       "1558  Jan 29, 2002      NaN         NaN  101 minutes                NaN  \n",
       "1559  Feb 11, 2003      NaN         NaN   94 minutes  Columbia Pictures  \n",
       "\n",
       "[1560 rows x 12 columns]"
      ]
     },
     "execution_count": 41,
     "metadata": {},
     "output_type": "execute_result"
    }
   ],
   "source": [
    "rt_movie_info = pd.read_csv(\"zippedData/rt.movie_info.tsv.gz\", sep='\\t')\n",
    "rt_movie_info"
   ]
  },
  {
   "cell_type": "code",
   "execution_count": 42,
   "metadata": {},
   "outputs": [],
   "source": [
    "rt_movie_info = pd.DataFrame(rt_movie_info)"
   ]
  },
  {
   "cell_type": "code",
   "execution_count": 43,
   "metadata": {},
   "outputs": [],
   "source": [
    "# Dropping unnecessary columns from movie info data\n",
    "# Dropping unnecessary columns from movie info data (assuming rt is the DataFrame)\n",
    "rt_movie = ['box_office', 'currency', 'dvd_date', 'studio']\n",
    "rt_movie_info = rt_movie_info.drop(columns=rt_movie, errors='ignore')"
   ]
  },
  {
   "cell_type": "code",
   "execution_count": 44,
   "metadata": {},
   "outputs": [
    {
     "data": {
      "text/plain": [
       "Index(['id', 'synopsis', 'rating', 'genre', 'director', 'writer',\n",
       "       'theater_date', 'runtime'],\n",
       "      dtype='object')"
      ]
     },
     "execution_count": 44,
     "metadata": {},
     "output_type": "execute_result"
    }
   ],
   "source": [
    "# check the colunms\n",
    "rt_movie_info.columns"
   ]
  },
  {
   "cell_type": "code",
   "execution_count": 45,
   "metadata": {},
   "outputs": [
    {
     "data": {
      "text/plain": [
       "id               int64\n",
       "synopsis        object\n",
       "rating          object\n",
       "genre           object\n",
       "director        object\n",
       "writer          object\n",
       "theater_date    object\n",
       "runtime         object\n",
       "dtype: object"
      ]
     },
     "execution_count": 45,
     "metadata": {},
     "output_type": "execute_result"
    }
   ],
   "source": [
    "#checking the datatypes of the columns \n",
    "rt_movie_info.dtypes"
   ]
  },
  {
   "cell_type": "code",
   "execution_count": 46,
   "metadata": {},
   "outputs": [
    {
     "data": {
      "text/plain": [
       "(1560, 8)"
      ]
     },
     "execution_count": 46,
     "metadata": {},
     "output_type": "execute_result"
    }
   ],
   "source": [
    "#checking the dataset shape\n",
    "rt_movie_info.shape"
   ]
  },
  {
   "cell_type": "code",
   "execution_count": 47,
   "metadata": {},
   "outputs": [
    {
     "name": "stdout",
     "output_type": "stream",
     "text": [
      "<class 'pandas.core.frame.DataFrame'>\n",
      "RangeIndex: 1560 entries, 0 to 1559\n",
      "Data columns (total 8 columns):\n",
      " #   Column        Non-Null Count  Dtype \n",
      "---  ------        --------------  ----- \n",
      " 0   id            1560 non-null   int64 \n",
      " 1   synopsis      1498 non-null   object\n",
      " 2   rating        1557 non-null   object\n",
      " 3   genre         1552 non-null   object\n",
      " 4   director      1361 non-null   object\n",
      " 5   writer        1111 non-null   object\n",
      " 6   theater_date  1201 non-null   object\n",
      " 7   runtime       1530 non-null   object\n",
      "dtypes: int64(1), object(7)\n",
      "memory usage: 97.6+ KB\n"
     ]
    }
   ],
   "source": [
    "#checking the dataset information\n",
    "rt_movie_info.info()"
   ]
  },
  {
   "cell_type": "code",
   "execution_count": 48,
   "metadata": {
    "scrolled": true
   },
   "outputs": [
    {
     "data": {
      "text/plain": [
       "id                0\n",
       "synopsis         62\n",
       "rating            3\n",
       "genre             8\n",
       "director        199\n",
       "writer          449\n",
       "theater_date    359\n",
       "runtime          30\n",
       "dtype: int64"
      ]
     },
     "execution_count": 48,
     "metadata": {},
     "output_type": "execute_result"
    }
   ],
   "source": [
    "# Checking for Null values\n",
    "rt_movie_info.isnull().sum()"
   ]
  },
  {
   "cell_type": "code",
   "execution_count": 49,
   "metadata": {},
   "outputs": [
    {
     "name": "stdout",
     "output_type": "stream",
     "text": [
      "   id                                           synopsis rating  \\\n",
      "0   1  This gritty, fast-paced, and innovative police...      R   \n",
      "1   3  New York City, not-too-distant-future: Eric Pa...      R   \n",
      "2   5  Illeana Douglas delivers a superb performance ...      R   \n",
      "3   6  Michael Douglas runs afoul of a treacherous su...      R   \n",
      "5   8  The year is 1942. As the Allies unite overseas...     PG   \n",
      "\n",
      "                                 genre          director  \\\n",
      "0  Action and Adventure|Classics|Drama  William Friedkin   \n",
      "1    Drama|Science Fiction and Fantasy  David Cronenberg   \n",
      "2    Drama|Musical and Performing Arts    Allison Anders   \n",
      "3           Drama|Mystery and Suspense    Barry Levinson   \n",
      "5                Drama|Kids and Family       Jay Russell   \n",
      "\n",
      "                            writer  theater_date      runtime  \n",
      "0                   Ernest Tidyman   Oct 9, 1971  104 minutes  \n",
      "1     David Cronenberg|Don DeLillo  Aug 17, 2012  108 minutes  \n",
      "2                   Allison Anders  Sep 13, 1996  116 minutes  \n",
      "3  Paul Attanasio|Michael Crichton   Dec 9, 1994  128 minutes  \n",
      "5                  Gail Gilchriest   Mar 3, 2000   95 minutes  \n"
     ]
    }
   ],
   "source": [
    "# List of columns to drop null values\n",
    "columns_to_check = ['synopsis', 'rating', 'genre', 'director', 'writer', 'theater_date', 'runtime']\n",
    "\n",
    "# Drop rows with null values in the specified columns and modify the original DataFrame\n",
    "rt_movie_info.dropna(subset=columns_to_check, inplace=True)\n",
    "\n",
    "# Verify the updated DataFrame\n",
    "print(rt_movie_info.head())"
   ]
  },
  {
   "cell_type": "code",
   "execution_count": 50,
   "metadata": {},
   "outputs": [
    {
     "data": {
      "text/plain": [
       "id              0\n",
       "synopsis        0\n",
       "rating          0\n",
       "genre           0\n",
       "director        0\n",
       "writer          0\n",
       "theater_date    0\n",
       "runtime         0\n",
       "dtype: int64"
      ]
     },
     "execution_count": 50,
     "metadata": {},
     "output_type": "execute_result"
    }
   ],
   "source": [
    "# Checking for Null values\n",
    "rt_movie_info.isnull().sum()"
   ]
  },
  {
   "cell_type": "code",
   "execution_count": 51,
   "metadata": {},
   "outputs": [
    {
     "name": "stdout",
     "output_type": "stream",
     "text": [
      "   id rating                                genre          director  \\\n",
      "0   1      R  Action and Adventure|Classics|Drama  William Friedkin   \n",
      "1   3      R    Drama|Science Fiction and Fantasy  David Cronenberg   \n",
      "2   5      R    Drama|Musical and Performing Arts    Allison Anders   \n",
      "3   6      R           Drama|Mystery and Suspense    Barry Levinson   \n",
      "5   8     PG                Drama|Kids and Family       Jay Russell   \n",
      "\n",
      "                            writer      runtime  \n",
      "0                   Ernest Tidyman  104 minutes  \n",
      "1     David Cronenberg|Don DeLillo  108 minutes  \n",
      "2                   Allison Anders  116 minutes  \n",
      "3  Paul Attanasio|Michael Crichton  128 minutes  \n",
      "5                  Gail Gilchriest   95 minutes  \n"
     ]
    }
   ],
   "source": [
    "# Define the columns to drop\n",
    "columns_to_drop = ['synopsis', 'theater_date']\n",
    "\n",
    "# Drop the columns from the DataFrame\n",
    "rt_movie_info = rt_movie_info.drop(columns=columns_to_drop)\n",
    "\n",
    "# Verify the updated DataFrame\n",
    "print(rt_movie_info.head())"
   ]
  },
  {
   "cell_type": "code",
   "execution_count": 52,
   "metadata": {},
   "outputs": [
    {
     "data": {
      "text/plain": [
       "Index(['id', 'rating', 'genre', 'director', 'writer', 'runtime'], dtype='object')"
      ]
     },
     "execution_count": 52,
     "metadata": {},
     "output_type": "execute_result"
    }
   ],
   "source": [
    "rt_movie_info.columns"
   ]
  },
  {
   "cell_type": "code",
   "execution_count": 53,
   "metadata": {},
   "outputs": [
    {
     "data": {
      "text/html": [
       "<div>\n",
       "<style scoped>\n",
       "    .dataframe tbody tr th:only-of-type {\n",
       "        vertical-align: middle;\n",
       "    }\n",
       "\n",
       "    .dataframe tbody tr th {\n",
       "        vertical-align: top;\n",
       "    }\n",
       "\n",
       "    .dataframe thead th {\n",
       "        text-align: right;\n",
       "    }\n",
       "</style>\n",
       "<table border=\"1\" class=\"dataframe\">\n",
       "  <thead>\n",
       "    <tr style=\"text-align: right;\">\n",
       "      <th></th>\n",
       "      <th>id</th>\n",
       "      <th>rating</th>\n",
       "      <th>genre</th>\n",
       "      <th>director</th>\n",
       "      <th>writer</th>\n",
       "      <th>runtime</th>\n",
       "      <th>expanded_genre</th>\n",
       "    </tr>\n",
       "  </thead>\n",
       "  <tbody>\n",
       "    <tr>\n",
       "      <th>0</th>\n",
       "      <td>1</td>\n",
       "      <td>R</td>\n",
       "      <td>Action and Adventure|Classics|Drama</td>\n",
       "      <td>William Friedkin</td>\n",
       "      <td>Ernest Tidyman</td>\n",
       "      <td>104 minutes</td>\n",
       "      <td>Action and Adventure</td>\n",
       "    </tr>\n",
       "    <tr>\n",
       "      <th>0</th>\n",
       "      <td>1</td>\n",
       "      <td>R</td>\n",
       "      <td>Action and Adventure|Classics|Drama</td>\n",
       "      <td>William Friedkin</td>\n",
       "      <td>Ernest Tidyman</td>\n",
       "      <td>104 minutes</td>\n",
       "      <td>Classics</td>\n",
       "    </tr>\n",
       "    <tr>\n",
       "      <th>0</th>\n",
       "      <td>1</td>\n",
       "      <td>R</td>\n",
       "      <td>Action and Adventure|Classics|Drama</td>\n",
       "      <td>William Friedkin</td>\n",
       "      <td>Ernest Tidyman</td>\n",
       "      <td>104 minutes</td>\n",
       "      <td>Drama</td>\n",
       "    </tr>\n",
       "    <tr>\n",
       "      <th>1</th>\n",
       "      <td>3</td>\n",
       "      <td>R</td>\n",
       "      <td>Drama|Science Fiction and Fantasy</td>\n",
       "      <td>David Cronenberg</td>\n",
       "      <td>David Cronenberg|Don DeLillo</td>\n",
       "      <td>108 minutes</td>\n",
       "      <td>Drama</td>\n",
       "    </tr>\n",
       "    <tr>\n",
       "      <th>1</th>\n",
       "      <td>3</td>\n",
       "      <td>R</td>\n",
       "      <td>Drama|Science Fiction and Fantasy</td>\n",
       "      <td>David Cronenberg</td>\n",
       "      <td>David Cronenberg|Don DeLillo</td>\n",
       "      <td>108 minutes</td>\n",
       "      <td>Science Fiction and Fantasy</td>\n",
       "    </tr>\n",
       "  </tbody>\n",
       "</table>\n",
       "</div>"
      ],
      "text/plain": [
       "   id rating                                genre          director  \\\n",
       "0   1      R  Action and Adventure|Classics|Drama  William Friedkin   \n",
       "0   1      R  Action and Adventure|Classics|Drama  William Friedkin   \n",
       "0   1      R  Action and Adventure|Classics|Drama  William Friedkin   \n",
       "1   3      R    Drama|Science Fiction and Fantasy  David Cronenberg   \n",
       "1   3      R    Drama|Science Fiction and Fantasy  David Cronenberg   \n",
       "\n",
       "                         writer      runtime               expanded_genre  \n",
       "0                Ernest Tidyman  104 minutes         Action and Adventure  \n",
       "0                Ernest Tidyman  104 minutes                     Classics  \n",
       "0                Ernest Tidyman  104 minutes                        Drama  \n",
       "1  David Cronenberg|Don DeLillo  108 minutes                        Drama  \n",
       "1  David Cronenberg|Don DeLillo  108 minutes  Science Fiction and Fantasy  "
      ]
     },
     "execution_count": 53,
     "metadata": {},
     "output_type": "execute_result"
    }
   ],
   "source": [
    "# Split genres and expand them into separate rows using the `split` method and `explode`\n",
    "rt_movie_info['genres_list'] = rt_movie_info['genre'].str.split('|')\n",
    "\n",
    "# Explode the genres_list column to create a new row for each genre\n",
    "rt_movie_info_expanded = rt_movie_info.explode('genres_list')\n",
    "\n",
    "# Rename the exploded column for clarity\n",
    "rt_movie_info_expanded = rt_movie_info_expanded.rename(columns={'genres_list': 'expanded_genre'})\n",
    "\n",
    "# Verify the result\n",
    "rt_movie_info_expanded.head()"
   ]
  },
  {
   "cell_type": "code",
   "execution_count": 54,
   "metadata": {},
   "outputs": [
    {
     "data": {
      "text/plain": [
       "'\"\\n# Split genres and expand them into separate rows using apply and pd.Series\\ngenres = rt_movie_info[\\'genre\\'].dropna().apply(lambda x: pd.Series(x.split(\\',\\'))).stack().reset_index(level=1, drop=True)\\n\\n# Set the name of the expanded column to avoid overlap\\ngenres.name = \\'expanded_genre\\'\\n\\n# Drop the original \\'genre\\' column if necessary\\nrt_movie_info = rt_movie_info.drop(\\'genre\\', axis=1)\\n\\n# Join the expanded genres back to the original DataFrame\\nrt_movie_info = rt_movie_info.join(genres)\\n\\n# Verify the result\\nrt_movie_info.head()\\n'"
      ]
     },
     "execution_count": 54,
     "metadata": {},
     "output_type": "execute_result"
    }
   ],
   "source": [
    "\"\"\"\"\n",
    "# Split genres and expand them into separate rows using apply and pd.Series\n",
    "genres = rt_movie_info['genre'].dropna().apply(lambda x: pd.Series(x.split(','))).stack().reset_index(level=1, drop=True)\n",
    "\n",
    "# Set the name of the expanded column to avoid overlap\n",
    "genres.name = 'expanded_genre'\n",
    "\n",
    "# Drop the original 'genre' column if necessary\n",
    "rt_movie_info = rt_movie_info.drop('genre', axis=1)\n",
    "\n",
    "# Join the expanded genres back to the original DataFrame\n",
    "rt_movie_info = rt_movie_info.join(genres)\n",
    "\n",
    "# Verify the result\n",
    "rt_movie_info.head()\n",
    "\"\"\""
   ]
  },
  {
   "cell_type": "markdown",
   "metadata": {},
   "source": [
    "## Dataset 4: Rotten Tomatoes Reviews (rt_reviews)"
   ]
  },
  {
   "cell_type": "code",
   "execution_count": 55,
   "metadata": {
    "run_control": {
     "marked": false
    }
   },
   "outputs": [
    {
     "data": {
      "text/html": [
       "<div>\n",
       "<style scoped>\n",
       "    .dataframe tbody tr th:only-of-type {\n",
       "        vertical-align: middle;\n",
       "    }\n",
       "\n",
       "    .dataframe tbody tr th {\n",
       "        vertical-align: top;\n",
       "    }\n",
       "\n",
       "    .dataframe thead th {\n",
       "        text-align: right;\n",
       "    }\n",
       "</style>\n",
       "<table border=\"1\" class=\"dataframe\">\n",
       "  <thead>\n",
       "    <tr style=\"text-align: right;\">\n",
       "      <th></th>\n",
       "      <th>id</th>\n",
       "      <th>review</th>\n",
       "      <th>rating</th>\n",
       "      <th>fresh</th>\n",
       "      <th>critic</th>\n",
       "      <th>top_critic</th>\n",
       "      <th>publisher</th>\n",
       "      <th>date</th>\n",
       "    </tr>\n",
       "  </thead>\n",
       "  <tbody>\n",
       "    <tr>\n",
       "      <th>0</th>\n",
       "      <td>3</td>\n",
       "      <td>A distinctly gallows take on contemporary fina...</td>\n",
       "      <td>3/5</td>\n",
       "      <td>fresh</td>\n",
       "      <td>PJ Nabarro</td>\n",
       "      <td>0</td>\n",
       "      <td>Patrick Nabarro</td>\n",
       "      <td>November 10, 2018</td>\n",
       "    </tr>\n",
       "    <tr>\n",
       "      <th>1</th>\n",
       "      <td>3</td>\n",
       "      <td>It's an allegory in search of a meaning that n...</td>\n",
       "      <td>NaN</td>\n",
       "      <td>rotten</td>\n",
       "      <td>Annalee Newitz</td>\n",
       "      <td>0</td>\n",
       "      <td>io9.com</td>\n",
       "      <td>May 23, 2018</td>\n",
       "    </tr>\n",
       "    <tr>\n",
       "      <th>2</th>\n",
       "      <td>3</td>\n",
       "      <td>... life lived in a bubble in financial dealin...</td>\n",
       "      <td>NaN</td>\n",
       "      <td>fresh</td>\n",
       "      <td>Sean Axmaker</td>\n",
       "      <td>0</td>\n",
       "      <td>Stream on Demand</td>\n",
       "      <td>January 4, 2018</td>\n",
       "    </tr>\n",
       "    <tr>\n",
       "      <th>3</th>\n",
       "      <td>3</td>\n",
       "      <td>Continuing along a line introduced in last yea...</td>\n",
       "      <td>NaN</td>\n",
       "      <td>fresh</td>\n",
       "      <td>Daniel Kasman</td>\n",
       "      <td>0</td>\n",
       "      <td>MUBI</td>\n",
       "      <td>November 16, 2017</td>\n",
       "    </tr>\n",
       "    <tr>\n",
       "      <th>4</th>\n",
       "      <td>3</td>\n",
       "      <td>... a perverse twist on neorealism...</td>\n",
       "      <td>NaN</td>\n",
       "      <td>fresh</td>\n",
       "      <td>NaN</td>\n",
       "      <td>0</td>\n",
       "      <td>Cinema Scope</td>\n",
       "      <td>October 12, 2017</td>\n",
       "    </tr>\n",
       "    <tr>\n",
       "      <th>...</th>\n",
       "      <td>...</td>\n",
       "      <td>...</td>\n",
       "      <td>...</td>\n",
       "      <td>...</td>\n",
       "      <td>...</td>\n",
       "      <td>...</td>\n",
       "      <td>...</td>\n",
       "      <td>...</td>\n",
       "    </tr>\n",
       "    <tr>\n",
       "      <th>54427</th>\n",
       "      <td>2000</td>\n",
       "      <td>The real charm of this trifle is the deadpan c...</td>\n",
       "      <td>NaN</td>\n",
       "      <td>fresh</td>\n",
       "      <td>Laura Sinagra</td>\n",
       "      <td>1</td>\n",
       "      <td>Village Voice</td>\n",
       "      <td>September 24, 2002</td>\n",
       "    </tr>\n",
       "    <tr>\n",
       "      <th>54428</th>\n",
       "      <td>2000</td>\n",
       "      <td>NaN</td>\n",
       "      <td>1/5</td>\n",
       "      <td>rotten</td>\n",
       "      <td>Michael Szymanski</td>\n",
       "      <td>0</td>\n",
       "      <td>Zap2it.com</td>\n",
       "      <td>September 21, 2005</td>\n",
       "    </tr>\n",
       "    <tr>\n",
       "      <th>54429</th>\n",
       "      <td>2000</td>\n",
       "      <td>NaN</td>\n",
       "      <td>2/5</td>\n",
       "      <td>rotten</td>\n",
       "      <td>Emanuel Levy</td>\n",
       "      <td>0</td>\n",
       "      <td>EmanuelLevy.Com</td>\n",
       "      <td>July 17, 2005</td>\n",
       "    </tr>\n",
       "    <tr>\n",
       "      <th>54430</th>\n",
       "      <td>2000</td>\n",
       "      <td>NaN</td>\n",
       "      <td>2.5/5</td>\n",
       "      <td>rotten</td>\n",
       "      <td>Christopher Null</td>\n",
       "      <td>0</td>\n",
       "      <td>Filmcritic.com</td>\n",
       "      <td>September 7, 2003</td>\n",
       "    </tr>\n",
       "    <tr>\n",
       "      <th>54431</th>\n",
       "      <td>2000</td>\n",
       "      <td>NaN</td>\n",
       "      <td>3/5</td>\n",
       "      <td>fresh</td>\n",
       "      <td>Nicolas Lacroix</td>\n",
       "      <td>0</td>\n",
       "      <td>Showbizz.net</td>\n",
       "      <td>November 12, 2002</td>\n",
       "    </tr>\n",
       "  </tbody>\n",
       "</table>\n",
       "<p>54432 rows × 8 columns</p>\n",
       "</div>"
      ],
      "text/plain": [
       "         id                                             review rating   fresh  \\\n",
       "0         3  A distinctly gallows take on contemporary fina...    3/5   fresh   \n",
       "1         3  It's an allegory in search of a meaning that n...    NaN  rotten   \n",
       "2         3  ... life lived in a bubble in financial dealin...    NaN   fresh   \n",
       "3         3  Continuing along a line introduced in last yea...    NaN   fresh   \n",
       "4         3             ... a perverse twist on neorealism...     NaN   fresh   \n",
       "...     ...                                                ...    ...     ...   \n",
       "54427  2000  The real charm of this trifle is the deadpan c...    NaN   fresh   \n",
       "54428  2000                                                NaN    1/5  rotten   \n",
       "54429  2000                                                NaN    2/5  rotten   \n",
       "54430  2000                                                NaN  2.5/5  rotten   \n",
       "54431  2000                                                NaN    3/5   fresh   \n",
       "\n",
       "                  critic  top_critic         publisher                date  \n",
       "0             PJ Nabarro           0   Patrick Nabarro   November 10, 2018  \n",
       "1         Annalee Newitz           0           io9.com        May 23, 2018  \n",
       "2           Sean Axmaker           0  Stream on Demand     January 4, 2018  \n",
       "3          Daniel Kasman           0              MUBI   November 16, 2017  \n",
       "4                    NaN           0      Cinema Scope    October 12, 2017  \n",
       "...                  ...         ...               ...                 ...  \n",
       "54427      Laura Sinagra           1     Village Voice  September 24, 2002  \n",
       "54428  Michael Szymanski           0        Zap2it.com  September 21, 2005  \n",
       "54429       Emanuel Levy           0   EmanuelLevy.Com       July 17, 2005  \n",
       "54430   Christopher Null           0    Filmcritic.com   September 7, 2003  \n",
       "54431    Nicolas Lacroix           0      Showbizz.net   November 12, 2002  \n",
       "\n",
       "[54432 rows x 8 columns]"
      ]
     },
     "execution_count": 55,
     "metadata": {},
     "output_type": "execute_result"
    }
   ],
   "source": [
    "rt_reviews = pd.read_csv(\"zippedData/rt.reviews.tsv.gz\", sep='\\t', encoding='windows-1252')\n",
    "rt_reviews"
   ]
  },
  {
   "cell_type": "code",
   "execution_count": 56,
   "metadata": {},
   "outputs": [],
   "source": [
    "rt_reviews = pd.DataFrame(rt_reviews)"
   ]
  },
  {
   "cell_type": "code",
   "execution_count": 57,
   "metadata": {},
   "outputs": [],
   "source": [
    "# Dropping unnecessary column from movie reviews data\n",
    "rt_reviews_info = ['review']\n",
    "rt_reviews = rt_reviews.drop(columns=rt_reviews_info, errors='ignore')"
   ]
  },
  {
   "cell_type": "code",
   "execution_count": 58,
   "metadata": {},
   "outputs": [
    {
     "data": {
      "text/plain": [
       "Index(['id', 'rating', 'fresh', 'critic', 'top_critic', 'publisher', 'date'], dtype='object')"
      ]
     },
     "execution_count": 58,
     "metadata": {},
     "output_type": "execute_result"
    }
   ],
   "source": [
    "rt_reviews.columns"
   ]
  },
  {
   "cell_type": "code",
   "execution_count": 59,
   "metadata": {},
   "outputs": [
    {
     "data": {
      "text/plain": [
       "(54432, 7)"
      ]
     },
     "execution_count": 59,
     "metadata": {},
     "output_type": "execute_result"
    }
   ],
   "source": [
    "rt_reviews.shape"
   ]
  },
  {
   "cell_type": "code",
   "execution_count": 60,
   "metadata": {
    "scrolled": true
   },
   "outputs": [
    {
     "data": {
      "text/plain": [
       "id                0\n",
       "rating        13517\n",
       "fresh             0\n",
       "critic         2722\n",
       "top_critic        0\n",
       "publisher       309\n",
       "date              0\n",
       "dtype: int64"
      ]
     },
     "execution_count": 60,
     "metadata": {},
     "output_type": "execute_result"
    }
   ],
   "source": [
    "rt_reviews.isnull().sum()"
   ]
  },
  {
   "cell_type": "code",
   "execution_count": 61,
   "metadata": {},
   "outputs": [
    {
     "data": {
      "text/html": [
       "<div>\n",
       "<style scoped>\n",
       "    .dataframe tbody tr th:only-of-type {\n",
       "        vertical-align: middle;\n",
       "    }\n",
       "\n",
       "    .dataframe tbody tr th {\n",
       "        vertical-align: top;\n",
       "    }\n",
       "\n",
       "    .dataframe thead th {\n",
       "        text-align: right;\n",
       "    }\n",
       "</style>\n",
       "<table border=\"1\" class=\"dataframe\">\n",
       "  <thead>\n",
       "    <tr style=\"text-align: right;\">\n",
       "      <th></th>\n",
       "      <th>id</th>\n",
       "      <th>rating</th>\n",
       "      <th>fresh</th>\n",
       "      <th>critic</th>\n",
       "      <th>top_critic</th>\n",
       "      <th>publisher</th>\n",
       "      <th>date</th>\n",
       "    </tr>\n",
       "  </thead>\n",
       "  <tbody>\n",
       "    <tr>\n",
       "      <th>0</th>\n",
       "      <td>3</td>\n",
       "      <td>3/5</td>\n",
       "      <td>fresh</td>\n",
       "      <td>PJ Nabarro</td>\n",
       "      <td>0</td>\n",
       "      <td>Patrick Nabarro</td>\n",
       "      <td>November 10, 2018</td>\n",
       "    </tr>\n",
       "    <tr>\n",
       "      <th>6</th>\n",
       "      <td>3</td>\n",
       "      <td>C</td>\n",
       "      <td>rotten</td>\n",
       "      <td>Eric D. Snider</td>\n",
       "      <td>0</td>\n",
       "      <td>EricDSnider.com</td>\n",
       "      <td>July 17, 2013</td>\n",
       "    </tr>\n",
       "    <tr>\n",
       "      <th>7</th>\n",
       "      <td>3</td>\n",
       "      <td>2/5</td>\n",
       "      <td>rotten</td>\n",
       "      <td>Matt Kelemen</td>\n",
       "      <td>0</td>\n",
       "      <td>Las Vegas CityLife</td>\n",
       "      <td>April 21, 2013</td>\n",
       "    </tr>\n",
       "    <tr>\n",
       "      <th>11</th>\n",
       "      <td>3</td>\n",
       "      <td>B-</td>\n",
       "      <td>fresh</td>\n",
       "      <td>Emanuel Levy</td>\n",
       "      <td>0</td>\n",
       "      <td>EmanuelLevy.Com</td>\n",
       "      <td>February 3, 2013</td>\n",
       "    </tr>\n",
       "    <tr>\n",
       "      <th>12</th>\n",
       "      <td>3</td>\n",
       "      <td>2/4</td>\n",
       "      <td>rotten</td>\n",
       "      <td>Christian Toto</td>\n",
       "      <td>0</td>\n",
       "      <td>Big Hollywood</td>\n",
       "      <td>January 15, 2013</td>\n",
       "    </tr>\n",
       "  </tbody>\n",
       "</table>\n",
       "</div>"
      ],
      "text/plain": [
       "    id rating   fresh          critic  top_critic           publisher  \\\n",
       "0    3    3/5   fresh      PJ Nabarro           0     Patrick Nabarro   \n",
       "6    3      C  rotten  Eric D. Snider           0     EricDSnider.com   \n",
       "7    3    2/5  rotten    Matt Kelemen           0  Las Vegas CityLife   \n",
       "11   3     B-   fresh    Emanuel Levy           0     EmanuelLevy.Com   \n",
       "12   3    2/4  rotten  Christian Toto           0       Big Hollywood   \n",
       "\n",
       "                 date  \n",
       "0   November 10, 2018  \n",
       "6       July 17, 2013  \n",
       "7      April 21, 2013  \n",
       "11   February 3, 2013  \n",
       "12   January 15, 2013  "
      ]
     },
     "execution_count": 61,
     "metadata": {},
     "output_type": "execute_result"
    }
   ],
   "source": [
    "# List of columns to drop null values\n",
    "columns_to_check = ['rating', 'critic', 'publisher']\n",
    "\n",
    "# Drop rows with null values in the specified columns and modify the original DataFrame\n",
    "rt_reviews.dropna(subset=columns_to_check, inplace=True)\n",
    "\n",
    "# Verify the updated DataFrame\n",
    "rt_reviews.head()"
   ]
  },
  {
   "cell_type": "code",
   "execution_count": 62,
   "metadata": {},
   "outputs": [
    {
     "data": {
      "text/plain": [
       "id            0\n",
       "rating        0\n",
       "fresh         0\n",
       "critic        0\n",
       "top_critic    0\n",
       "publisher     0\n",
       "date          0\n",
       "dtype: int64"
      ]
     },
     "execution_count": 62,
     "metadata": {},
     "output_type": "execute_result"
    }
   ],
   "source": [
    "rt_reviews.isnull().sum()"
   ]
  },
  {
   "cell_type": "code",
   "execution_count": 63,
   "metadata": {
    "run_control": {
     "marked": false
    }
   },
   "outputs": [
    {
     "data": {
      "text/html": [
       "<div>\n",
       "<style scoped>\n",
       "    .dataframe tbody tr th:only-of-type {\n",
       "        vertical-align: middle;\n",
       "    }\n",
       "\n",
       "    .dataframe tbody tr th {\n",
       "        vertical-align: top;\n",
       "    }\n",
       "\n",
       "    .dataframe thead th {\n",
       "        text-align: right;\n",
       "    }\n",
       "</style>\n",
       "<table border=\"1\" class=\"dataframe\">\n",
       "  <thead>\n",
       "    <tr style=\"text-align: right;\">\n",
       "      <th></th>\n",
       "      <th>id</th>\n",
       "      <th>rating_x</th>\n",
       "      <th>genre</th>\n",
       "      <th>director</th>\n",
       "      <th>writer</th>\n",
       "      <th>runtime</th>\n",
       "      <th>expanded_genre</th>\n",
       "      <th>rating_y</th>\n",
       "      <th>fresh</th>\n",
       "      <th>critic</th>\n",
       "      <th>top_critic</th>\n",
       "      <th>publisher</th>\n",
       "      <th>date</th>\n",
       "    </tr>\n",
       "  </thead>\n",
       "  <tbody>\n",
       "    <tr>\n",
       "      <th>0</th>\n",
       "      <td>3</td>\n",
       "      <td>R</td>\n",
       "      <td>Drama|Science Fiction and Fantasy</td>\n",
       "      <td>David Cronenberg</td>\n",
       "      <td>David Cronenberg|Don DeLillo</td>\n",
       "      <td>108 minutes</td>\n",
       "      <td>Drama</td>\n",
       "      <td>3/5</td>\n",
       "      <td>fresh</td>\n",
       "      <td>PJ Nabarro</td>\n",
       "      <td>0</td>\n",
       "      <td>Patrick Nabarro</td>\n",
       "      <td>November 10, 2018</td>\n",
       "    </tr>\n",
       "    <tr>\n",
       "      <th>1</th>\n",
       "      <td>3</td>\n",
       "      <td>R</td>\n",
       "      <td>Drama|Science Fiction and Fantasy</td>\n",
       "      <td>David Cronenberg</td>\n",
       "      <td>David Cronenberg|Don DeLillo</td>\n",
       "      <td>108 minutes</td>\n",
       "      <td>Drama</td>\n",
       "      <td>C</td>\n",
       "      <td>rotten</td>\n",
       "      <td>Eric D. Snider</td>\n",
       "      <td>0</td>\n",
       "      <td>EricDSnider.com</td>\n",
       "      <td>July 17, 2013</td>\n",
       "    </tr>\n",
       "    <tr>\n",
       "      <th>2</th>\n",
       "      <td>3</td>\n",
       "      <td>R</td>\n",
       "      <td>Drama|Science Fiction and Fantasy</td>\n",
       "      <td>David Cronenberg</td>\n",
       "      <td>David Cronenberg|Don DeLillo</td>\n",
       "      <td>108 minutes</td>\n",
       "      <td>Drama</td>\n",
       "      <td>2/5</td>\n",
       "      <td>rotten</td>\n",
       "      <td>Matt Kelemen</td>\n",
       "      <td>0</td>\n",
       "      <td>Las Vegas CityLife</td>\n",
       "      <td>April 21, 2013</td>\n",
       "    </tr>\n",
       "    <tr>\n",
       "      <th>3</th>\n",
       "      <td>3</td>\n",
       "      <td>R</td>\n",
       "      <td>Drama|Science Fiction and Fantasy</td>\n",
       "      <td>David Cronenberg</td>\n",
       "      <td>David Cronenberg|Don DeLillo</td>\n",
       "      <td>108 minutes</td>\n",
       "      <td>Drama</td>\n",
       "      <td>B-</td>\n",
       "      <td>fresh</td>\n",
       "      <td>Emanuel Levy</td>\n",
       "      <td>0</td>\n",
       "      <td>EmanuelLevy.Com</td>\n",
       "      <td>February 3, 2013</td>\n",
       "    </tr>\n",
       "    <tr>\n",
       "      <th>4</th>\n",
       "      <td>3</td>\n",
       "      <td>R</td>\n",
       "      <td>Drama|Science Fiction and Fantasy</td>\n",
       "      <td>David Cronenberg</td>\n",
       "      <td>David Cronenberg|Don DeLillo</td>\n",
       "      <td>108 minutes</td>\n",
       "      <td>Drama</td>\n",
       "      <td>2/4</td>\n",
       "      <td>rotten</td>\n",
       "      <td>Christian Toto</td>\n",
       "      <td>0</td>\n",
       "      <td>Big Hollywood</td>\n",
       "      <td>January 15, 2013</td>\n",
       "    </tr>\n",
       "  </tbody>\n",
       "</table>\n",
       "</div>"
      ],
      "text/plain": [
       "   id rating_x                              genre          director  \\\n",
       "0   3        R  Drama|Science Fiction and Fantasy  David Cronenberg   \n",
       "1   3        R  Drama|Science Fiction and Fantasy  David Cronenberg   \n",
       "2   3        R  Drama|Science Fiction and Fantasy  David Cronenberg   \n",
       "3   3        R  Drama|Science Fiction and Fantasy  David Cronenberg   \n",
       "4   3        R  Drama|Science Fiction and Fantasy  David Cronenberg   \n",
       "\n",
       "                         writer      runtime expanded_genre rating_y   fresh  \\\n",
       "0  David Cronenberg|Don DeLillo  108 minutes          Drama      3/5   fresh   \n",
       "1  David Cronenberg|Don DeLillo  108 minutes          Drama        C  rotten   \n",
       "2  David Cronenberg|Don DeLillo  108 minutes          Drama      2/5  rotten   \n",
       "3  David Cronenberg|Don DeLillo  108 minutes          Drama       B-   fresh   \n",
       "4  David Cronenberg|Don DeLillo  108 minutes          Drama      2/4  rotten   \n",
       "\n",
       "           critic  top_critic           publisher               date  \n",
       "0      PJ Nabarro           0     Patrick Nabarro  November 10, 2018  \n",
       "1  Eric D. Snider           0     EricDSnider.com      July 17, 2013  \n",
       "2    Matt Kelemen           0  Las Vegas CityLife     April 21, 2013  \n",
       "3    Emanuel Levy           0     EmanuelLevy.Com   February 3, 2013  \n",
       "4  Christian Toto           0       Big Hollywood   January 15, 2013  "
      ]
     },
     "execution_count": 63,
     "metadata": {},
     "output_type": "execute_result"
    }
   ],
   "source": [
    "rt_merged = pd.merge(rt_movie_info_expanded, rt_reviews, on='id', how='inner')\n",
    "rt_merged.head()"
   ]
  },
  {
   "cell_type": "markdown",
   "metadata": {},
   "source": [
    "### Dataset 5: tmdb Database"
   ]
  },
  {
   "cell_type": "code",
   "execution_count": 64,
   "metadata": {},
   "outputs": [
    {
     "data": {
      "text/html": [
       "<div>\n",
       "<style scoped>\n",
       "    .dataframe tbody tr th:only-of-type {\n",
       "        vertical-align: middle;\n",
       "    }\n",
       "\n",
       "    .dataframe tbody tr th {\n",
       "        vertical-align: top;\n",
       "    }\n",
       "\n",
       "    .dataframe thead th {\n",
       "        text-align: right;\n",
       "    }\n",
       "</style>\n",
       "<table border=\"1\" class=\"dataframe\">\n",
       "  <thead>\n",
       "    <tr style=\"text-align: right;\">\n",
       "      <th></th>\n",
       "      <th>Unnamed: 0</th>\n",
       "      <th>genre_ids</th>\n",
       "      <th>id</th>\n",
       "      <th>original_language</th>\n",
       "      <th>original_title</th>\n",
       "      <th>popularity</th>\n",
       "      <th>release_date</th>\n",
       "      <th>title</th>\n",
       "      <th>vote_average</th>\n",
       "      <th>vote_count</th>\n",
       "    </tr>\n",
       "  </thead>\n",
       "  <tbody>\n",
       "    <tr>\n",
       "      <th>0</th>\n",
       "      <td>0</td>\n",
       "      <td>[12, 14, 10751]</td>\n",
       "      <td>12444</td>\n",
       "      <td>en</td>\n",
       "      <td>Harry Potter and the Deathly Hallows: Part 1</td>\n",
       "      <td>33.533</td>\n",
       "      <td>2010-11-19</td>\n",
       "      <td>Harry Potter and the Deathly Hallows: Part 1</td>\n",
       "      <td>7.7</td>\n",
       "      <td>10788</td>\n",
       "    </tr>\n",
       "    <tr>\n",
       "      <th>1</th>\n",
       "      <td>1</td>\n",
       "      <td>[14, 12, 16, 10751]</td>\n",
       "      <td>10191</td>\n",
       "      <td>en</td>\n",
       "      <td>How to Train Your Dragon</td>\n",
       "      <td>28.734</td>\n",
       "      <td>2010-03-26</td>\n",
       "      <td>How to Train Your Dragon</td>\n",
       "      <td>7.7</td>\n",
       "      <td>7610</td>\n",
       "    </tr>\n",
       "    <tr>\n",
       "      <th>2</th>\n",
       "      <td>2</td>\n",
       "      <td>[12, 28, 878]</td>\n",
       "      <td>10138</td>\n",
       "      <td>en</td>\n",
       "      <td>Iron Man 2</td>\n",
       "      <td>28.515</td>\n",
       "      <td>2010-05-07</td>\n",
       "      <td>Iron Man 2</td>\n",
       "      <td>6.8</td>\n",
       "      <td>12368</td>\n",
       "    </tr>\n",
       "    <tr>\n",
       "      <th>3</th>\n",
       "      <td>3</td>\n",
       "      <td>[16, 35, 10751]</td>\n",
       "      <td>862</td>\n",
       "      <td>en</td>\n",
       "      <td>Toy Story</td>\n",
       "      <td>28.005</td>\n",
       "      <td>1995-11-22</td>\n",
       "      <td>Toy Story</td>\n",
       "      <td>7.9</td>\n",
       "      <td>10174</td>\n",
       "    </tr>\n",
       "    <tr>\n",
       "      <th>4</th>\n",
       "      <td>4</td>\n",
       "      <td>[28, 878, 12]</td>\n",
       "      <td>27205</td>\n",
       "      <td>en</td>\n",
       "      <td>Inception</td>\n",
       "      <td>27.920</td>\n",
       "      <td>2010-07-16</td>\n",
       "      <td>Inception</td>\n",
       "      <td>8.3</td>\n",
       "      <td>22186</td>\n",
       "    </tr>\n",
       "  </tbody>\n",
       "</table>\n",
       "</div>"
      ],
      "text/plain": [
       "   Unnamed: 0            genre_ids     id original_language  \\\n",
       "0           0      [12, 14, 10751]  12444                en   \n",
       "1           1  [14, 12, 16, 10751]  10191                en   \n",
       "2           2        [12, 28, 878]  10138                en   \n",
       "3           3      [16, 35, 10751]    862                en   \n",
       "4           4        [28, 878, 12]  27205                en   \n",
       "\n",
       "                                 original_title  popularity release_date  \\\n",
       "0  Harry Potter and the Deathly Hallows: Part 1      33.533   2010-11-19   \n",
       "1                      How to Train Your Dragon      28.734   2010-03-26   \n",
       "2                                    Iron Man 2      28.515   2010-05-07   \n",
       "3                                     Toy Story      28.005   1995-11-22   \n",
       "4                                     Inception      27.920   2010-07-16   \n",
       "\n",
       "                                          title  vote_average  vote_count  \n",
       "0  Harry Potter and the Deathly Hallows: Part 1           7.7       10788  \n",
       "1                      How to Train Your Dragon           7.7        7610  \n",
       "2                                    Iron Man 2           6.8       12368  \n",
       "3                                     Toy Story           7.9       10174  \n",
       "4                                     Inception           8.3       22186  "
      ]
     },
     "execution_count": 64,
     "metadata": {},
     "output_type": "execute_result"
    }
   ],
   "source": [
    "import pandas as pd\n",
    "tmdb = pd.read_csv(\"zippedData/tmdb.movies.csv.gz\")\n",
    "tmdb.head()"
   ]
  },
  {
   "cell_type": "markdown",
   "metadata": {},
   "source": [
    "## Dataset 6: IMDB Database"
   ]
  },
  {
   "cell_type": "markdown",
   "metadata": {},
   "source": [
    "# im.db.zip (SQLite Database)\n",
    "\n",
    "Description: Contains movie-related data from IMDB.\n",
    "\n",
    "Relevant Tables:\n",
    "\n",
    "movie_basics: Includes details like title, genres, runtime, and start year.\n",
    "\n",
    "movie_ratings: Contains average ratings and vote counts for movies."
   ]
  },
  {
   "cell_type": "code",
   "execution_count": 65,
   "metadata": {},
   "outputs": [],
   "source": [
    "# Execute SQL query using pandas read_sql() and pass the connection\n",
    "import sqlite3\n",
    "import pandas as pd\n",
    "conn = sqlite3.connect(\"zippedData/im.db\")"
   ]
  },
  {
   "cell_type": "code",
   "execution_count": 66,
   "metadata": {},
   "outputs": [
    {
     "data": {
      "text/html": [
       "<div>\n",
       "<style scoped>\n",
       "    .dataframe tbody tr th:only-of-type {\n",
       "        vertical-align: middle;\n",
       "    }\n",
       "\n",
       "    .dataframe tbody tr th {\n",
       "        vertical-align: top;\n",
       "    }\n",
       "\n",
       "    .dataframe thead th {\n",
       "        text-align: right;\n",
       "    }\n",
       "</style>\n",
       "<table border=\"1\" class=\"dataframe\">\n",
       "  <thead>\n",
       "    <tr style=\"text-align: right;\">\n",
       "      <th></th>\n",
       "      <th>type</th>\n",
       "      <th>name</th>\n",
       "      <th>tbl_name</th>\n",
       "      <th>rootpage</th>\n",
       "      <th>sql</th>\n",
       "    </tr>\n",
       "  </thead>\n",
       "  <tbody>\n",
       "    <tr>\n",
       "      <th>0</th>\n",
       "      <td>table</td>\n",
       "      <td>movie_basics</td>\n",
       "      <td>movie_basics</td>\n",
       "      <td>2</td>\n",
       "      <td>CREATE TABLE \"movie_basics\" (\\n\"movie_id\" TEXT...</td>\n",
       "    </tr>\n",
       "    <tr>\n",
       "      <th>1</th>\n",
       "      <td>table</td>\n",
       "      <td>directors</td>\n",
       "      <td>directors</td>\n",
       "      <td>3</td>\n",
       "      <td>CREATE TABLE \"directors\" (\\n\"movie_id\" TEXT,\\n...</td>\n",
       "    </tr>\n",
       "    <tr>\n",
       "      <th>2</th>\n",
       "      <td>table</td>\n",
       "      <td>known_for</td>\n",
       "      <td>known_for</td>\n",
       "      <td>4</td>\n",
       "      <td>CREATE TABLE \"known_for\" (\\n\"person_id\" TEXT,\\...</td>\n",
       "    </tr>\n",
       "    <tr>\n",
       "      <th>3</th>\n",
       "      <td>table</td>\n",
       "      <td>movie_akas</td>\n",
       "      <td>movie_akas</td>\n",
       "      <td>5</td>\n",
       "      <td>CREATE TABLE \"movie_akas\" (\\n\"movie_id\" TEXT,\\...</td>\n",
       "    </tr>\n",
       "    <tr>\n",
       "      <th>4</th>\n",
       "      <td>table</td>\n",
       "      <td>movie_ratings</td>\n",
       "      <td>movie_ratings</td>\n",
       "      <td>6</td>\n",
       "      <td>CREATE TABLE \"movie_ratings\" (\\n\"movie_id\" TEX...</td>\n",
       "    </tr>\n",
       "    <tr>\n",
       "      <th>5</th>\n",
       "      <td>table</td>\n",
       "      <td>persons</td>\n",
       "      <td>persons</td>\n",
       "      <td>7</td>\n",
       "      <td>CREATE TABLE \"persons\" (\\n\"person_id\" TEXT,\\n ...</td>\n",
       "    </tr>\n",
       "    <tr>\n",
       "      <th>6</th>\n",
       "      <td>table</td>\n",
       "      <td>principals</td>\n",
       "      <td>principals</td>\n",
       "      <td>8</td>\n",
       "      <td>CREATE TABLE \"principals\" (\\n\"movie_id\" TEXT,\\...</td>\n",
       "    </tr>\n",
       "    <tr>\n",
       "      <th>7</th>\n",
       "      <td>table</td>\n",
       "      <td>writers</td>\n",
       "      <td>writers</td>\n",
       "      <td>9</td>\n",
       "      <td>CREATE TABLE \"writers\" (\\n\"movie_id\" TEXT,\\n  ...</td>\n",
       "    </tr>\n",
       "  </tbody>\n",
       "</table>\n",
       "</div>"
      ],
      "text/plain": [
       "    type           name       tbl_name  rootpage  \\\n",
       "0  table   movie_basics   movie_basics         2   \n",
       "1  table      directors      directors         3   \n",
       "2  table      known_for      known_for         4   \n",
       "3  table     movie_akas     movie_akas         5   \n",
       "4  table  movie_ratings  movie_ratings         6   \n",
       "5  table        persons        persons         7   \n",
       "6  table     principals     principals         8   \n",
       "7  table        writers        writers         9   \n",
       "\n",
       "                                                 sql  \n",
       "0  CREATE TABLE \"movie_basics\" (\\n\"movie_id\" TEXT...  \n",
       "1  CREATE TABLE \"directors\" (\\n\"movie_id\" TEXT,\\n...  \n",
       "2  CREATE TABLE \"known_for\" (\\n\"person_id\" TEXT,\\...  \n",
       "3  CREATE TABLE \"movie_akas\" (\\n\"movie_id\" TEXT,\\...  \n",
       "4  CREATE TABLE \"movie_ratings\" (\\n\"movie_id\" TEX...  \n",
       "5  CREATE TABLE \"persons\" (\\n\"person_id\" TEXT,\\n ...  \n",
       "6  CREATE TABLE \"principals\" (\\n\"movie_id\" TEXT,\\...  \n",
       "7  CREATE TABLE \"writers\" (\\n\"movie_id\" TEXT,\\n  ...  "
      ]
     },
     "execution_count": 66,
     "metadata": {},
     "output_type": "execute_result"
    }
   ],
   "source": [
    "query = \"SELECT * FROM sqlite_master WHERE type='table';\"\n",
    "imdb = pd.read_sql(query, conn)\n",
    "imdb.head(10)"
   ]
  },
  {
   "cell_type": "code",
   "execution_count": 67,
   "metadata": {
    "scrolled": true
   },
   "outputs": [
    {
     "name": "stdout",
     "output_type": "stream",
     "text": [
      "Available tables:\n",
      "            name\n",
      "0   movie_basics\n",
      "1      directors\n",
      "2      known_for\n",
      "3     movie_akas\n",
      "4  movie_ratings\n",
      "5        persons\n",
      "6     principals\n",
      "7        writers\n"
     ]
    }
   ],
   "source": [
    "# Check if the table exists\n",
    "imdb = pd.read_sql(\"SELECT name FROM sqlite_master WHERE type='table';\", conn)\n",
    "print(\"Available tables:\")\n",
    "print(imdb)"
   ]
  },
  {
   "cell_type": "code",
   "execution_count": 68,
   "metadata": {},
   "outputs": [],
   "source": [
    "import pandas as pd\n",
    "\n",
    "# List of available tables\n",
    "tables = ['movie_basics', 'directors', 'known_for', 'movie_akas', 'movie_ratings', 'persons', 'principals', 'writers']\n",
    "\n",
    "# Loop through each table and get the imdb\n",
    "imdb = {}\n",
    "for table in tables:\n",
    "    query = f\"SELECT * FROM {table}\"\n",
    "    imdb[table] = pd.read_sql(query, conn)"
   ]
  },
  {
   "cell_type": "code",
   "execution_count": 69,
   "metadata": {},
   "outputs": [
    {
     "name": "stdout",
     "output_type": "stream",
     "text": [
      "Index(['movie_id', 'primary_title', 'original_title', 'start_year',\n",
      "       'runtime_minutes', 'genres'],\n",
      "      dtype='object')\n"
     ]
    }
   ],
   "source": [
    "# Access the 'movie_basics' imdbFrame\n",
    "movie_basics = imdb['movie_basics'].columns\n",
    "print(movie_basics)"
   ]
  },
  {
   "cell_type": "code",
   "execution_count": 70,
   "metadata": {},
   "outputs": [
    {
     "name": "stdout",
     "output_type": "stream",
     "text": [
      "Empty DataFrame\n",
      "Columns: [movie_id, primary_title, original_title, start_year, runtime_minutes, genres]\n",
      "Index: []\n",
      "Number of duplicate rows: 0\n"
     ]
    }
   ],
   "source": [
    "# Check for duplicates in the 'movie_basics' imdbFrame\n",
    "duplicates = imdb['movie_basics'].duplicated()\n",
    "\n",
    "# Print the rows that are duplicates\n",
    "print(imdb['movie_basics'][duplicates])\n",
    "\n",
    "# Optionally, count the number of duplicate rows\n",
    "duplicate_count = duplicates.sum()\n",
    "print(f\"Number of duplicate rows: {duplicate_count}\")\n"
   ]
  },
  {
   "cell_type": "code",
   "execution_count": 71,
   "metadata": {
    "code_folding": []
   },
   "outputs": [
    {
     "name": "stdout",
     "output_type": "stream",
     "text": [
      "Index(['movie_id', 'primary_title', 'start_year', 'runtime_minutes', 'genres'], dtype='object')\n"
     ]
    }
   ],
   "source": [
    "# Drop the 'numvotes' column from the 'movie_ratings' imdbFrame\n",
    "imdb['movie_basics'] = imdb['movie_basics'].drop(columns=['original_title'])\n",
    "\n",
    "# Verify the columns to ensure 'numvotes' has been dropped\n",
    "print(imdb['movie_basics'].columns)"
   ]
  },
  {
   "cell_type": "code",
   "execution_count": 72,
   "metadata": {},
   "outputs": [
    {
     "name": "stdout",
     "output_type": "stream",
     "text": [
      "    movie_id                    primary_title  start_year  runtime_minutes  \\\n",
      "0  tt0063540                        Sunghursh        2013            175.0   \n",
      "1  tt0066787  One Day Before the Rainy Season        2019            114.0   \n",
      "2  tt0069049       The Other Side of the Wind        2018            122.0   \n",
      "3  tt0069204                  Sabse Bada Sukh        2018              NaN   \n",
      "4  tt0100275         The Wandering Soap Opera        2017             80.0   \n",
      "\n",
      "                 genres  \n",
      "0    Action,Crime,Drama  \n",
      "1       Biography,Drama  \n",
      "2                 Drama  \n",
      "3          Comedy,Drama  \n",
      "4  Comedy,Drama,Fantasy  \n",
      "movie_id            object\n",
      "primary_title       object\n",
      "start_year           int64\n",
      "runtime_minutes    float64\n",
      "genres              object\n",
      "dtype: object\n",
      "Missing values in 'runtime_minutes': 31739\n"
     ]
    }
   ],
   "source": [
    "# Ensure that movie_basics is loaded properly\n",
    "if 'movie_basics' in imdb:\n",
    "    movie_basics = imdb['movie_basics']\n",
    "    \n",
    "    # Check the first few rows of movie_basics to verify the imdb\n",
    "    print(movie_basics.head())\n",
    "    \n",
    "    # Check the column names and their imdb types\n",
    "    print(movie_basics.dtypes)\n",
    "    \n",
    "    # Check for missing values in 'runtime_minutes'\n",
    "    missing_runtime = movie_basics['runtime_minutes'].isnull().sum()\n",
    "    print(f\"Missing values in 'runtime_minutes': {missing_runtime}\")\n",
    "else:\n",
    "    print(\"'movie_basics' table is not available.\")"
   ]
  },
  {
   "cell_type": "code",
   "execution_count": 73,
   "metadata": {},
   "outputs": [
    {
     "data": {
      "text/plain": [
       "0    175.0\n",
       "1    114.0\n",
       "2    122.0\n",
       "3     87.0\n",
       "4     80.0\n",
       "5     75.0\n",
       "6     87.0\n",
       "7     83.0\n",
       "8     87.0\n",
       "9     82.0\n",
       "Name: runtime_minutes, dtype: float64"
      ]
     },
     "execution_count": 73,
     "metadata": {},
     "output_type": "execute_result"
    }
   ],
   "source": [
    "# Fill missing runtime with the median value\n",
    "# Fill missing runtime_minutes with the median value and assign the result back to the DataFrame\n",
    "movie_basics['runtime_minutes'] = movie_basics['runtime_minutes'].fillna(movie_basics['runtime_minutes'].median())\n",
    "movie_basics['runtime_minutes'].head(10)"
   ]
  },
  {
   "cell_type": "code",
   "execution_count": 74,
   "metadata": {},
   "outputs": [
    {
     "data": {
      "text/plain": [
       "0"
      ]
     },
     "execution_count": 74,
     "metadata": {},
     "output_type": "execute_result"
    }
   ],
   "source": [
    "movie_basics['runtime_minutes'].isnull().sum()"
   ]
  },
  {
   "cell_type": "code",
   "execution_count": 75,
   "metadata": {},
   "outputs": [
    {
     "data": {
      "text/plain": [
       "0      [Action, Crime, Drama]\n",
       "1          [Biography, Drama]\n",
       "2                     [Drama]\n",
       "3             [Comedy, Drama]\n",
       "4    [Comedy, Drama, Fantasy]\n",
       "Name: genres, dtype: object"
      ]
     },
     "execution_count": 75,
     "metadata": {},
     "output_type": "execute_result"
    }
   ],
   "source": [
    "# Remove rows where 'genres' is null\n",
    "movie_basics = movie_basics[movie_basics['genres'].notna()]\n",
    "\n",
    "# Ensure 'genres' column is of string type, then split the genres into a list\n",
    "movie_basics.loc[:, 'genres'] = movie_basics['genres'].astype(str).str.split(',')\n",
    "\n",
    "# Take the first genre from the list (if multiple genres exist)\n",
    "#movie_basics.loc[:, 'genres'] = movie_basics['genres'].apply(lambda x: x[0] if isinstance(x, list) else x)\n",
    "\n",
    "movie_basics['genres'].head(5)"
   ]
  },
  {
   "cell_type": "code",
   "execution_count": 76,
   "metadata": {},
   "outputs": [
    {
     "data": {
      "text/plain": [
       "0"
      ]
     },
     "execution_count": 76,
     "metadata": {},
     "output_type": "execute_result"
    }
   ],
   "source": [
    "movie_basics['genres'].isnull().sum()"
   ]
  },
  {
   "cell_type": "code",
   "execution_count": 77,
   "metadata": {
    "code_folding": []
   },
   "outputs": [
    {
     "name": "stdout",
     "output_type": "stream",
     "text": [
      "     movie_id                          genres\n",
      "0   tt0063540          [Action, Crime, Drama]\n",
      "1   tt0066787              [Biography, Drama]\n",
      "2   tt0069049                         [Drama]\n",
      "3   tt0069204                 [Comedy, Drama]\n",
      "4   tt0100275        [Comedy, Drama, Fantasy]\n",
      "5   tt0111414                        [Comedy]\n",
      "6   tt0112502              [Horror, Thriller]\n",
      "7   tt0137204  [Adventure, Animation, Comedy]\n",
      "8   tt0139613          [Documentary, History]\n",
      "9   tt0144449                     [Biography]\n",
      "10  tt0146592                         [Drama]\n",
      "11  tt0154039                       [History]\n",
      "12  tt0159369                   [Documentary]\n",
      "13  tt0162942                         [Drama]\n",
      "14  tt0170651                   [Documentary]\n",
      "15  tt0176694     [Animation, Drama, History]\n",
      "17  tt0192528                         [Drama]\n",
      "18  tt0230212                         [Drama]\n",
      "19  tt0247643                [Drama, Mystery]\n",
      "20  tt0249516     [Action, Animation, Comedy]\n"
     ]
    }
   ],
   "source": [
    "# Check the first few rows of the raw data to inspect genres\n",
    "print(movie_basics[['movie_id', 'genres']].head(20))"
   ]
  },
  {
   "cell_type": "code",
   "execution_count": 78,
   "metadata": {
    "scrolled": true
   },
   "outputs": [],
   "source": [
    "# Remove duplicate rows based on 'movie_id'\n",
    "movie_basics = movie_basics.drop_duplicates(subset=['movie_id'])"
   ]
  },
  {
   "cell_type": "code",
   "execution_count": 79,
   "metadata": {},
   "outputs": [
    {
     "data": {
      "text/plain": [
       "Index(['movie_id', 'primary_title', 'start_year', 'runtime_minutes', 'genres'], dtype='object')"
      ]
     },
     "execution_count": 79,
     "metadata": {},
     "output_type": "execute_result"
    }
   ],
   "source": [
    "movie_basics.columns"
   ]
  },
  {
   "cell_type": "code",
   "execution_count": 80,
   "metadata": {},
   "outputs": [
    {
     "name": "stdout",
     "output_type": "stream",
     "text": [
      "Index(['movie_id', 'averagerating', 'numvotes'], dtype='object')\n"
     ]
    }
   ],
   "source": [
    "# Access the 'movie_rating' DataFrame\n",
    "movie_ratings = imdb['movie_ratings'].columns\n",
    "print(movie_ratings)"
   ]
  },
  {
   "cell_type": "code",
   "execution_count": 81,
   "metadata": {
    "scrolled": true
   },
   "outputs": [
    {
     "name": "stdout",
     "output_type": "stream",
     "text": [
      "Empty DataFrame\n",
      "Columns: [movie_id, averagerating, numvotes]\n",
      "Index: []\n",
      "Number of duplicate rows: 0\n"
     ]
    }
   ],
   "source": [
    "# Check for duplicates in the 'movie_basics' imdbFrame\n",
    "duplicates = imdb['movie_ratings'].duplicated()\n",
    "\n",
    "# Print the rows that are duplicates\n",
    "print(imdb['movie_ratings'][duplicates])\n",
    "\n",
    "# Optionally, count the number of duplicate rows\n",
    "duplicate_count = duplicates.sum()\n",
    "print(f\"Number of duplicate rows: {duplicate_count}\")"
   ]
  },
  {
   "cell_type": "code",
   "execution_count": 82,
   "metadata": {},
   "outputs": [
    {
     "data": {
      "text/plain": [
       "0"
      ]
     },
     "execution_count": 82,
     "metadata": {},
     "output_type": "execute_result"
    }
   ],
   "source": [
    "movie_ratings.isna().sum()"
   ]
  },
  {
   "cell_type": "code",
   "execution_count": 83,
   "metadata": {},
   "outputs": [
    {
     "data": {
      "text/plain": [
       "Index(['movie_id', 'ordering', 'person_id', 'category', 'job', 'characters'], dtype='object')"
      ]
     },
     "execution_count": 83,
     "metadata": {},
     "output_type": "execute_result"
    }
   ],
   "source": [
    "imdb['principals'].columns"
   ]
  },
  {
   "cell_type": "code",
   "execution_count": 84,
   "metadata": {},
   "outputs": [
    {
     "data": {
      "text/html": [
       "<div>\n",
       "<style scoped>\n",
       "    .dataframe tbody tr th:only-of-type {\n",
       "        vertical-align: middle;\n",
       "    }\n",
       "\n",
       "    .dataframe tbody tr th {\n",
       "        vertical-align: top;\n",
       "    }\n",
       "\n",
       "    .dataframe thead th {\n",
       "        text-align: right;\n",
       "    }\n",
       "</style>\n",
       "<table border=\"1\" class=\"dataframe\">\n",
       "  <thead>\n",
       "    <tr style=\"text-align: right;\">\n",
       "      <th></th>\n",
       "      <th>movie_id</th>\n",
       "      <th>person_id</th>\n",
       "      <th>category</th>\n",
       "    </tr>\n",
       "  </thead>\n",
       "  <tbody>\n",
       "    <tr>\n",
       "      <th>0</th>\n",
       "      <td>tt0111414</td>\n",
       "      <td>nm0246005</td>\n",
       "      <td>actor</td>\n",
       "    </tr>\n",
       "    <tr>\n",
       "      <th>1</th>\n",
       "      <td>tt0111414</td>\n",
       "      <td>nm0398271</td>\n",
       "      <td>director</td>\n",
       "    </tr>\n",
       "    <tr>\n",
       "      <th>2</th>\n",
       "      <td>tt0111414</td>\n",
       "      <td>nm3739909</td>\n",
       "      <td>producer</td>\n",
       "    </tr>\n",
       "    <tr>\n",
       "      <th>3</th>\n",
       "      <td>tt0323808</td>\n",
       "      <td>nm0059247</td>\n",
       "      <td>editor</td>\n",
       "    </tr>\n",
       "    <tr>\n",
       "      <th>4</th>\n",
       "      <td>tt0323808</td>\n",
       "      <td>nm3579312</td>\n",
       "      <td>actress</td>\n",
       "    </tr>\n",
       "    <tr>\n",
       "      <th>...</th>\n",
       "      <td>...</td>\n",
       "      <td>...</td>\n",
       "      <td>...</td>\n",
       "    </tr>\n",
       "    <tr>\n",
       "      <th>1028181</th>\n",
       "      <td>tt9692684</td>\n",
       "      <td>nm0186469</td>\n",
       "      <td>actor</td>\n",
       "    </tr>\n",
       "    <tr>\n",
       "      <th>1028182</th>\n",
       "      <td>tt9692684</td>\n",
       "      <td>nm4929530</td>\n",
       "      <td>self</td>\n",
       "    </tr>\n",
       "    <tr>\n",
       "      <th>1028183</th>\n",
       "      <td>tt9692684</td>\n",
       "      <td>nm10441594</td>\n",
       "      <td>director</td>\n",
       "    </tr>\n",
       "    <tr>\n",
       "      <th>1028184</th>\n",
       "      <td>tt9692684</td>\n",
       "      <td>nm6009913</td>\n",
       "      <td>writer</td>\n",
       "    </tr>\n",
       "    <tr>\n",
       "      <th>1028185</th>\n",
       "      <td>tt9692684</td>\n",
       "      <td>nm10441595</td>\n",
       "      <td>producer</td>\n",
       "    </tr>\n",
       "  </tbody>\n",
       "</table>\n",
       "<p>1028186 rows × 3 columns</p>\n",
       "</div>"
      ],
      "text/plain": [
       "          movie_id   person_id  category\n",
       "0        tt0111414   nm0246005     actor\n",
       "1        tt0111414   nm0398271  director\n",
       "2        tt0111414   nm3739909  producer\n",
       "3        tt0323808   nm0059247    editor\n",
       "4        tt0323808   nm3579312   actress\n",
       "...            ...         ...       ...\n",
       "1028181  tt9692684   nm0186469     actor\n",
       "1028182  tt9692684   nm4929530      self\n",
       "1028183  tt9692684  nm10441594  director\n",
       "1028184  tt9692684   nm6009913    writer\n",
       "1028185  tt9692684  nm10441595  producer\n",
       "\n",
       "[1028186 rows x 3 columns]"
      ]
     },
     "execution_count": 84,
     "metadata": {},
     "output_type": "execute_result"
    }
   ],
   "source": [
    "# Drop the 'ordering', 'job', and 'charaacter' columns from the 'principals' imdbFrame\n",
    "imdb['principals'] = imdb['principals'].drop(columns=['ordering', 'job', 'characters'])\n",
    "imdb['principals']"
   ]
  },
  {
   "cell_type": "code",
   "execution_count": 85,
   "metadata": {},
   "outputs": [
    {
     "data": {
      "text/plain": [
       "movie_id     0\n",
       "person_id    0\n",
       "category     0\n",
       "dtype: int64"
      ]
     },
     "execution_count": 85,
     "metadata": {},
     "output_type": "execute_result"
    }
   ],
   "source": [
    "imdb['principals'].isnull().sum()"
   ]
  },
  {
   "cell_type": "code",
   "execution_count": 86,
   "metadata": {},
   "outputs": [
    {
     "data": {
      "text/plain": [
       "Index(['movie_id', 'person_id'], dtype='object')"
      ]
     },
     "execution_count": 86,
     "metadata": {},
     "output_type": "execute_result"
    }
   ],
   "source": [
    "imdb['directors'].columns"
   ]
  },
  {
   "cell_type": "code",
   "execution_count": 87,
   "metadata": {},
   "outputs": [
    {
     "data": {
      "text/plain": [
       "movie_id     0\n",
       "person_id    0\n",
       "dtype: int64"
      ]
     },
     "execution_count": 87,
     "metadata": {},
     "output_type": "execute_result"
    }
   ],
   "source": [
    "imdb['directors'].isnull().sum()"
   ]
  },
  {
   "cell_type": "code",
   "execution_count": 88,
   "metadata": {},
   "outputs": [
    {
     "name": "stdout",
     "output_type": "stream",
     "text": [
      "dict_keys(['movie_basics', 'movie_ratings', 'directors', 'principals'])\n"
     ]
    }
   ],
   "source": [
    "# List of tables you want to keep\n",
    "tables_to_keep = ['movie_basics', 'movie_ratings', 'directors', 'principals']\n",
    "\n",
    "# Filter the imdb dictionary to keep only the desired tables\n",
    "imdb_filtered = {table: imdb[table] for table in tables_to_keep if table in imdb}\n",
    "\n",
    "# Now 'imdb_filtered' will only contain the tables you want to keep\n",
    "print(imdb_filtered.keys())  # To verify the remaining tables"
   ]
  },
  {
   "cell_type": "code",
   "execution_count": 89,
   "metadata": {
    "scrolled": true
   },
   "outputs": [
    {
     "data": {
      "text/plain": [
       "(26517, 10)"
      ]
     },
     "execution_count": 89,
     "metadata": {},
     "output_type": "execute_result"
    }
   ],
   "source": [
    "tmdb.shape"
   ]
  },
  {
   "cell_type": "code",
   "execution_count": 90,
   "metadata": {},
   "outputs": [
    {
     "name": "stdout",
     "output_type": "stream",
     "text": [
      "<class 'pandas.core.frame.DataFrame'>\n",
      "RangeIndex: 26517 entries, 0 to 26516\n",
      "Data columns (total 10 columns):\n",
      " #   Column             Non-Null Count  Dtype  \n",
      "---  ------             --------------  -----  \n",
      " 0   Unnamed: 0         26517 non-null  int64  \n",
      " 1   genre_ids          26517 non-null  object \n",
      " 2   id                 26517 non-null  int64  \n",
      " 3   original_language  26517 non-null  object \n",
      " 4   original_title     26517 non-null  object \n",
      " 5   popularity         26517 non-null  float64\n",
      " 6   release_date       26517 non-null  object \n",
      " 7   title              26517 non-null  object \n",
      " 8   vote_average       26517 non-null  float64\n",
      " 9   vote_count         26517 non-null  int64  \n",
      "dtypes: float64(2), int64(3), object(5)\n",
      "memory usage: 2.0+ MB\n"
     ]
    }
   ],
   "source": [
    "tmdb.info()"
   ]
  },
  {
   "cell_type": "code",
   "execution_count": 91,
   "metadata": {
    "scrolled": true
   },
   "outputs": [
    {
     "data": {
      "text/plain": [
       "Index(['Unnamed: 0', 'genre_ids', 'id', 'original_language', 'original_title',\n",
       "       'popularity', 'release_date', 'title', 'vote_average', 'vote_count'],\n",
       "      dtype='object')"
      ]
     },
     "execution_count": 91,
     "metadata": {},
     "output_type": "execute_result"
    }
   ],
   "source": [
    "tmdb.columns"
   ]
  },
  {
   "cell_type": "code",
   "execution_count": 92,
   "metadata": {},
   "outputs": [],
   "source": [
    "tmdb.rename(columns={'id': 'movie_id', 'vote_average': 'averagerating', 'vote_count': 'numvotes'}, inplace=True)"
   ]
  },
  {
   "cell_type": "code",
   "execution_count": 93,
   "metadata": {},
   "outputs": [
    {
     "data": {
      "text/html": [
       "<div>\n",
       "<style scoped>\n",
       "    .dataframe tbody tr th:only-of-type {\n",
       "        vertical-align: middle;\n",
       "    }\n",
       "\n",
       "    .dataframe tbody tr th {\n",
       "        vertical-align: top;\n",
       "    }\n",
       "\n",
       "    .dataframe thead th {\n",
       "        text-align: right;\n",
       "    }\n",
       "</style>\n",
       "<table border=\"1\" class=\"dataframe\">\n",
       "  <thead>\n",
       "    <tr style=\"text-align: right;\">\n",
       "      <th></th>\n",
       "      <th>genre_ids</th>\n",
       "      <th>movie_id</th>\n",
       "      <th>original_title</th>\n",
       "      <th>release_date</th>\n",
       "      <th>title</th>\n",
       "      <th>averagerating</th>\n",
       "      <th>numvotes</th>\n",
       "    </tr>\n",
       "  </thead>\n",
       "  <tbody>\n",
       "    <tr>\n",
       "      <th>0</th>\n",
       "      <td>[12, 14, 10751]</td>\n",
       "      <td>12444</td>\n",
       "      <td>Harry Potter and the Deathly Hallows: Part 1</td>\n",
       "      <td>2010-11-19</td>\n",
       "      <td>Harry Potter and the Deathly Hallows: Part 1</td>\n",
       "      <td>7.7</td>\n",
       "      <td>10788</td>\n",
       "    </tr>\n",
       "    <tr>\n",
       "      <th>1</th>\n",
       "      <td>[14, 12, 16, 10751]</td>\n",
       "      <td>10191</td>\n",
       "      <td>How to Train Your Dragon</td>\n",
       "      <td>2010-03-26</td>\n",
       "      <td>How to Train Your Dragon</td>\n",
       "      <td>7.7</td>\n",
       "      <td>7610</td>\n",
       "    </tr>\n",
       "    <tr>\n",
       "      <th>2</th>\n",
       "      <td>[12, 28, 878]</td>\n",
       "      <td>10138</td>\n",
       "      <td>Iron Man 2</td>\n",
       "      <td>2010-05-07</td>\n",
       "      <td>Iron Man 2</td>\n",
       "      <td>6.8</td>\n",
       "      <td>12368</td>\n",
       "    </tr>\n",
       "    <tr>\n",
       "      <th>3</th>\n",
       "      <td>[16, 35, 10751]</td>\n",
       "      <td>862</td>\n",
       "      <td>Toy Story</td>\n",
       "      <td>1995-11-22</td>\n",
       "      <td>Toy Story</td>\n",
       "      <td>7.9</td>\n",
       "      <td>10174</td>\n",
       "    </tr>\n",
       "    <tr>\n",
       "      <th>4</th>\n",
       "      <td>[28, 878, 12]</td>\n",
       "      <td>27205</td>\n",
       "      <td>Inception</td>\n",
       "      <td>2010-07-16</td>\n",
       "      <td>Inception</td>\n",
       "      <td>8.3</td>\n",
       "      <td>22186</td>\n",
       "    </tr>\n",
       "  </tbody>\n",
       "</table>\n",
       "</div>"
      ],
      "text/plain": [
       "             genre_ids  movie_id  \\\n",
       "0      [12, 14, 10751]     12444   \n",
       "1  [14, 12, 16, 10751]     10191   \n",
       "2        [12, 28, 878]     10138   \n",
       "3      [16, 35, 10751]       862   \n",
       "4        [28, 878, 12]     27205   \n",
       "\n",
       "                                 original_title release_date  \\\n",
       "0  Harry Potter and the Deathly Hallows: Part 1   2010-11-19   \n",
       "1                      How to Train Your Dragon   2010-03-26   \n",
       "2                                    Iron Man 2   2010-05-07   \n",
       "3                                     Toy Story   1995-11-22   \n",
       "4                                     Inception   2010-07-16   \n",
       "\n",
       "                                          title  averagerating  numvotes  \n",
       "0  Harry Potter and the Deathly Hallows: Part 1            7.7     10788  \n",
       "1                      How to Train Your Dragon            7.7      7610  \n",
       "2                                    Iron Man 2            6.8     12368  \n",
       "3                                     Toy Story            7.9     10174  \n",
       "4                                     Inception            8.3     22186  "
      ]
     },
     "execution_count": 93,
     "metadata": {},
     "output_type": "execute_result"
    }
   ],
   "source": [
    "# Remove the 'Unnamed: 0' column\n",
    "tmdb = tmdb.drop(columns=['Unnamed: 0', 'original_language', 'popularity'])\n",
    "\n",
    "# Check the DataFrame again\n",
    "tmdb.head()"
   ]
  },
  {
   "cell_type": "code",
   "execution_count": 94,
   "metadata": {},
   "outputs": [
    {
     "data": {
      "text/plain": [
       "Index(['genre_ids', 'movie_id', 'original_title', 'release_date', 'title',\n",
       "       'averagerating', 'numvotes'],\n",
       "      dtype='object')"
      ]
     },
     "execution_count": 94,
     "metadata": {},
     "output_type": "execute_result"
    }
   ],
   "source": [
    "tmdb.columns"
   ]
  },
  {
   "cell_type": "code",
   "execution_count": 95,
   "metadata": {},
   "outputs": [
    {
     "name": "stdout",
     "output_type": "stream",
     "text": [
      "<class 'pandas.core.frame.DataFrame'>\n",
      "     movie_id  averagerating  numvotes\n",
      "0  tt10356526            8.3        31\n",
      "1  tt10384606            8.9       559\n",
      "2   tt1042974            6.4        20\n",
      "3   tt1043726            4.2     50352\n",
      "4   tt1060240            6.5        21\n"
     ]
    }
   ],
   "source": [
    "print(type(imdb['movie_ratings']))\n",
    "print(imdb['movie_ratings'].head())  # Inspect the content"
   ]
  },
  {
   "cell_type": "code",
   "execution_count": 96,
   "metadata": {},
   "outputs": [
    {
     "name": "stdout",
     "output_type": "stream",
     "text": [
      "Index(['movie_id', 'primary_title', 'start_year', 'runtime_minutes', 'genres'], dtype='object')\n"
     ]
    }
   ],
   "source": [
    "print(movie_basics.columns)"
   ]
  },
  {
   "cell_type": "code",
   "execution_count": 97,
   "metadata": {},
   "outputs": [
    {
     "name": "stdout",
     "output_type": "stream",
     "text": [
      "Index(['movie_id', 'averagerating', 'numvotes'], dtype='object')\n"
     ]
    }
   ],
   "source": [
    "# Check if 'movie_id' column exists in movie_basics\n",
    "print(imdb['movie_ratings'].columns)"
   ]
  },
  {
   "cell_type": "code",
   "execution_count": 98,
   "metadata": {},
   "outputs": [],
   "source": [
    "movie = pd.merge(movie_basics, imdb['movie_ratings'], on='movie_id', how='left')"
   ]
  },
  {
   "cell_type": "code",
   "execution_count": 99,
   "metadata": {},
   "outputs": [
    {
     "data": {
      "text/html": [
       "<div>\n",
       "<style scoped>\n",
       "    .dataframe tbody tr th:only-of-type {\n",
       "        vertical-align: middle;\n",
       "    }\n",
       "\n",
       "    .dataframe tbody tr th {\n",
       "        vertical-align: top;\n",
       "    }\n",
       "\n",
       "    .dataframe thead th {\n",
       "        text-align: right;\n",
       "    }\n",
       "</style>\n",
       "<table border=\"1\" class=\"dataframe\">\n",
       "  <thead>\n",
       "    <tr style=\"text-align: right;\">\n",
       "      <th></th>\n",
       "      <th>movie_id</th>\n",
       "      <th>primary_title</th>\n",
       "      <th>start_year</th>\n",
       "      <th>runtime_minutes</th>\n",
       "      <th>genres</th>\n",
       "      <th>averagerating</th>\n",
       "      <th>numvotes</th>\n",
       "    </tr>\n",
       "  </thead>\n",
       "  <tbody>\n",
       "    <tr>\n",
       "      <th>0</th>\n",
       "      <td>tt0063540</td>\n",
       "      <td>Sunghursh</td>\n",
       "      <td>2013</td>\n",
       "      <td>175.0</td>\n",
       "      <td>[Action, Crime, Drama]</td>\n",
       "      <td>7.0</td>\n",
       "      <td>77.0</td>\n",
       "    </tr>\n",
       "    <tr>\n",
       "      <th>1</th>\n",
       "      <td>tt0066787</td>\n",
       "      <td>One Day Before the Rainy Season</td>\n",
       "      <td>2019</td>\n",
       "      <td>114.0</td>\n",
       "      <td>[Biography, Drama]</td>\n",
       "      <td>7.2</td>\n",
       "      <td>43.0</td>\n",
       "    </tr>\n",
       "    <tr>\n",
       "      <th>2</th>\n",
       "      <td>tt0069049</td>\n",
       "      <td>The Other Side of the Wind</td>\n",
       "      <td>2018</td>\n",
       "      <td>122.0</td>\n",
       "      <td>[Drama]</td>\n",
       "      <td>6.9</td>\n",
       "      <td>4517.0</td>\n",
       "    </tr>\n",
       "    <tr>\n",
       "      <th>3</th>\n",
       "      <td>tt0069204</td>\n",
       "      <td>Sabse Bada Sukh</td>\n",
       "      <td>2018</td>\n",
       "      <td>87.0</td>\n",
       "      <td>[Comedy, Drama]</td>\n",
       "      <td>6.1</td>\n",
       "      <td>13.0</td>\n",
       "    </tr>\n",
       "    <tr>\n",
       "      <th>4</th>\n",
       "      <td>tt0100275</td>\n",
       "      <td>The Wandering Soap Opera</td>\n",
       "      <td>2017</td>\n",
       "      <td>80.0</td>\n",
       "      <td>[Comedy, Drama, Fantasy]</td>\n",
       "      <td>6.5</td>\n",
       "      <td>119.0</td>\n",
       "    </tr>\n",
       "    <tr>\n",
       "      <th>5</th>\n",
       "      <td>tt0111414</td>\n",
       "      <td>A Thin Life</td>\n",
       "      <td>2018</td>\n",
       "      <td>75.0</td>\n",
       "      <td>[Comedy]</td>\n",
       "      <td>NaN</td>\n",
       "      <td>NaN</td>\n",
       "    </tr>\n",
       "    <tr>\n",
       "      <th>6</th>\n",
       "      <td>tt0112502</td>\n",
       "      <td>Bigfoot</td>\n",
       "      <td>2017</td>\n",
       "      <td>87.0</td>\n",
       "      <td>[Horror, Thriller]</td>\n",
       "      <td>4.1</td>\n",
       "      <td>32.0</td>\n",
       "    </tr>\n",
       "    <tr>\n",
       "      <th>7</th>\n",
       "      <td>tt0137204</td>\n",
       "      <td>Joe Finds Grace</td>\n",
       "      <td>2017</td>\n",
       "      <td>83.0</td>\n",
       "      <td>[Adventure, Animation, Comedy]</td>\n",
       "      <td>8.1</td>\n",
       "      <td>263.0</td>\n",
       "    </tr>\n",
       "    <tr>\n",
       "      <th>8</th>\n",
       "      <td>tt0139613</td>\n",
       "      <td>O Silêncio</td>\n",
       "      <td>2012</td>\n",
       "      <td>87.0</td>\n",
       "      <td>[Documentary, History]</td>\n",
       "      <td>NaN</td>\n",
       "      <td>NaN</td>\n",
       "    </tr>\n",
       "    <tr>\n",
       "      <th>9</th>\n",
       "      <td>tt0144449</td>\n",
       "      <td>Nema aviona za Zagreb</td>\n",
       "      <td>2012</td>\n",
       "      <td>82.0</td>\n",
       "      <td>[Biography]</td>\n",
       "      <td>NaN</td>\n",
       "      <td>NaN</td>\n",
       "    </tr>\n",
       "  </tbody>\n",
       "</table>\n",
       "</div>"
      ],
      "text/plain": [
       "    movie_id                    primary_title  start_year  runtime_minutes  \\\n",
       "0  tt0063540                        Sunghursh        2013            175.0   \n",
       "1  tt0066787  One Day Before the Rainy Season        2019            114.0   \n",
       "2  tt0069049       The Other Side of the Wind        2018            122.0   \n",
       "3  tt0069204                  Sabse Bada Sukh        2018             87.0   \n",
       "4  tt0100275         The Wandering Soap Opera        2017             80.0   \n",
       "5  tt0111414                      A Thin Life        2018             75.0   \n",
       "6  tt0112502                          Bigfoot        2017             87.0   \n",
       "7  tt0137204                  Joe Finds Grace        2017             83.0   \n",
       "8  tt0139613                       O Silêncio        2012             87.0   \n",
       "9  tt0144449            Nema aviona za Zagreb        2012             82.0   \n",
       "\n",
       "                           genres  averagerating  numvotes  \n",
       "0          [Action, Crime, Drama]            7.0      77.0  \n",
       "1              [Biography, Drama]            7.2      43.0  \n",
       "2                         [Drama]            6.9    4517.0  \n",
       "3                 [Comedy, Drama]            6.1      13.0  \n",
       "4        [Comedy, Drama, Fantasy]            6.5     119.0  \n",
       "5                        [Comedy]            NaN       NaN  \n",
       "6              [Horror, Thriller]            4.1      32.0  \n",
       "7  [Adventure, Animation, Comedy]            8.1     263.0  \n",
       "8          [Documentary, History]            NaN       NaN  \n",
       "9                     [Biography]            NaN       NaN  "
      ]
     },
     "execution_count": 99,
     "metadata": {},
     "output_type": "execute_result"
    }
   ],
   "source": [
    "movie.head(10)"
   ]
  },
  {
   "cell_type": "code",
   "execution_count": null,
   "metadata": {},
   "outputs": [],
   "source": []
  },
  {
   "cell_type": "code",
   "execution_count": 100,
   "metadata": {},
   "outputs": [],
   "source": [
    "movie2 = pd.merge(movie, imdb['principals'], on='movie_id', how='left')"
   ]
  },
  {
   "cell_type": "code",
   "execution_count": 101,
   "metadata": {},
   "outputs": [
    {
     "data": {
      "text/html": [
       "<div>\n",
       "<style scoped>\n",
       "    .dataframe tbody tr th:only-of-type {\n",
       "        vertical-align: middle;\n",
       "    }\n",
       "\n",
       "    .dataframe tbody tr th {\n",
       "        vertical-align: top;\n",
       "    }\n",
       "\n",
       "    .dataframe thead th {\n",
       "        text-align: right;\n",
       "    }\n",
       "</style>\n",
       "<table border=\"1\" class=\"dataframe\">\n",
       "  <thead>\n",
       "    <tr style=\"text-align: right;\">\n",
       "      <th></th>\n",
       "      <th>movie_id</th>\n",
       "      <th>primary_title</th>\n",
       "      <th>start_year</th>\n",
       "      <th>runtime_minutes</th>\n",
       "      <th>genres</th>\n",
       "      <th>averagerating</th>\n",
       "      <th>numvotes</th>\n",
       "      <th>person_id</th>\n",
       "      <th>category</th>\n",
       "    </tr>\n",
       "  </thead>\n",
       "  <tbody>\n",
       "    <tr>\n",
       "      <th>0</th>\n",
       "      <td>tt0063540</td>\n",
       "      <td>Sunghursh</td>\n",
       "      <td>2013</td>\n",
       "      <td>175.0</td>\n",
       "      <td>[Action, Crime, Drama]</td>\n",
       "      <td>7.0</td>\n",
       "      <td>77.0</td>\n",
       "      <td>nm0006210</td>\n",
       "      <td>composer</td>\n",
       "    </tr>\n",
       "    <tr>\n",
       "      <th>1</th>\n",
       "      <td>tt0063540</td>\n",
       "      <td>Sunghursh</td>\n",
       "      <td>2013</td>\n",
       "      <td>175.0</td>\n",
       "      <td>[Action, Crime, Drama]</td>\n",
       "      <td>7.0</td>\n",
       "      <td>77.0</td>\n",
       "      <td>nm0474801</td>\n",
       "      <td>actor</td>\n",
       "    </tr>\n",
       "    <tr>\n",
       "      <th>2</th>\n",
       "      <td>tt0063540</td>\n",
       "      <td>Sunghursh</td>\n",
       "      <td>2013</td>\n",
       "      <td>175.0</td>\n",
       "      <td>[Action, Crime, Drama]</td>\n",
       "      <td>7.0</td>\n",
       "      <td>77.0</td>\n",
       "      <td>nm0904537</td>\n",
       "      <td>actress</td>\n",
       "    </tr>\n",
       "    <tr>\n",
       "      <th>3</th>\n",
       "      <td>tt0063540</td>\n",
       "      <td>Sunghursh</td>\n",
       "      <td>2013</td>\n",
       "      <td>175.0</td>\n",
       "      <td>[Action, Crime, Drama]</td>\n",
       "      <td>7.0</td>\n",
       "      <td>77.0</td>\n",
       "      <td>nm0756379</td>\n",
       "      <td>actor</td>\n",
       "    </tr>\n",
       "    <tr>\n",
       "      <th>4</th>\n",
       "      <td>tt0063540</td>\n",
       "      <td>Sunghursh</td>\n",
       "      <td>2013</td>\n",
       "      <td>175.0</td>\n",
       "      <td>[Action, Crime, Drama]</td>\n",
       "      <td>7.0</td>\n",
       "      <td>77.0</td>\n",
       "      <td>nm0474876</td>\n",
       "      <td>actor</td>\n",
       "    </tr>\n",
       "  </tbody>\n",
       "</table>\n",
       "</div>"
      ],
      "text/plain": [
       "    movie_id primary_title  start_year  runtime_minutes  \\\n",
       "0  tt0063540     Sunghursh        2013            175.0   \n",
       "1  tt0063540     Sunghursh        2013            175.0   \n",
       "2  tt0063540     Sunghursh        2013            175.0   \n",
       "3  tt0063540     Sunghursh        2013            175.0   \n",
       "4  tt0063540     Sunghursh        2013            175.0   \n",
       "\n",
       "                   genres  averagerating  numvotes  person_id  category  \n",
       "0  [Action, Crime, Drama]            7.0      77.0  nm0006210  composer  \n",
       "1  [Action, Crime, Drama]            7.0      77.0  nm0474801     actor  \n",
       "2  [Action, Crime, Drama]            7.0      77.0  nm0904537   actress  \n",
       "3  [Action, Crime, Drama]            7.0      77.0  nm0756379     actor  \n",
       "4  [Action, Crime, Drama]            7.0      77.0  nm0474876     actor  "
      ]
     },
     "execution_count": 101,
     "metadata": {},
     "output_type": "execute_result"
    }
   ],
   "source": [
    "movie2.head(5)"
   ]
  },
  {
   "cell_type": "code",
   "execution_count": 102,
   "metadata": {},
   "outputs": [],
   "source": [
    "movie_imdb = pd.merge(movie2, imdb['directors'], on='movie_id', how='left')"
   ]
  },
  {
   "cell_type": "code",
   "execution_count": 103,
   "metadata": {},
   "outputs": [
    {
     "data": {
      "text/html": [
       "<div>\n",
       "<style scoped>\n",
       "    .dataframe tbody tr th:only-of-type {\n",
       "        vertical-align: middle;\n",
       "    }\n",
       "\n",
       "    .dataframe tbody tr th {\n",
       "        vertical-align: top;\n",
       "    }\n",
       "\n",
       "    .dataframe thead th {\n",
       "        text-align: right;\n",
       "    }\n",
       "</style>\n",
       "<table border=\"1\" class=\"dataframe\">\n",
       "  <thead>\n",
       "    <tr style=\"text-align: right;\">\n",
       "      <th></th>\n",
       "      <th>movie_id</th>\n",
       "      <th>primary_title</th>\n",
       "      <th>start_year</th>\n",
       "      <th>runtime_minutes</th>\n",
       "      <th>genres</th>\n",
       "      <th>averagerating</th>\n",
       "      <th>numvotes</th>\n",
       "      <th>person_id_x</th>\n",
       "      <th>category</th>\n",
       "      <th>person_id_y</th>\n",
       "    </tr>\n",
       "  </thead>\n",
       "  <tbody>\n",
       "    <tr>\n",
       "      <th>0</th>\n",
       "      <td>tt0063540</td>\n",
       "      <td>Sunghursh</td>\n",
       "      <td>2013</td>\n",
       "      <td>175.0</td>\n",
       "      <td>[Action, Crime, Drama]</td>\n",
       "      <td>7.0</td>\n",
       "      <td>77.0</td>\n",
       "      <td>nm0006210</td>\n",
       "      <td>composer</td>\n",
       "      <td>nm0712540</td>\n",
       "    </tr>\n",
       "    <tr>\n",
       "      <th>1</th>\n",
       "      <td>tt0063540</td>\n",
       "      <td>Sunghursh</td>\n",
       "      <td>2013</td>\n",
       "      <td>175.0</td>\n",
       "      <td>[Action, Crime, Drama]</td>\n",
       "      <td>7.0</td>\n",
       "      <td>77.0</td>\n",
       "      <td>nm0006210</td>\n",
       "      <td>composer</td>\n",
       "      <td>nm0712540</td>\n",
       "    </tr>\n",
       "    <tr>\n",
       "      <th>2</th>\n",
       "      <td>tt0063540</td>\n",
       "      <td>Sunghursh</td>\n",
       "      <td>2013</td>\n",
       "      <td>175.0</td>\n",
       "      <td>[Action, Crime, Drama]</td>\n",
       "      <td>7.0</td>\n",
       "      <td>77.0</td>\n",
       "      <td>nm0006210</td>\n",
       "      <td>composer</td>\n",
       "      <td>nm0712540</td>\n",
       "    </tr>\n",
       "    <tr>\n",
       "      <th>3</th>\n",
       "      <td>tt0063540</td>\n",
       "      <td>Sunghursh</td>\n",
       "      <td>2013</td>\n",
       "      <td>175.0</td>\n",
       "      <td>[Action, Crime, Drama]</td>\n",
       "      <td>7.0</td>\n",
       "      <td>77.0</td>\n",
       "      <td>nm0006210</td>\n",
       "      <td>composer</td>\n",
       "      <td>nm0712540</td>\n",
       "    </tr>\n",
       "    <tr>\n",
       "      <th>4</th>\n",
       "      <td>tt0063540</td>\n",
       "      <td>Sunghursh</td>\n",
       "      <td>2013</td>\n",
       "      <td>175.0</td>\n",
       "      <td>[Action, Crime, Drama]</td>\n",
       "      <td>7.0</td>\n",
       "      <td>77.0</td>\n",
       "      <td>nm0474801</td>\n",
       "      <td>actor</td>\n",
       "      <td>nm0712540</td>\n",
       "    </tr>\n",
       "  </tbody>\n",
       "</table>\n",
       "</div>"
      ],
      "text/plain": [
       "    movie_id primary_title  start_year  runtime_minutes  \\\n",
       "0  tt0063540     Sunghursh        2013            175.0   \n",
       "1  tt0063540     Sunghursh        2013            175.0   \n",
       "2  tt0063540     Sunghursh        2013            175.0   \n",
       "3  tt0063540     Sunghursh        2013            175.0   \n",
       "4  tt0063540     Sunghursh        2013            175.0   \n",
       "\n",
       "                   genres  averagerating  numvotes person_id_x  category  \\\n",
       "0  [Action, Crime, Drama]            7.0      77.0   nm0006210  composer   \n",
       "1  [Action, Crime, Drama]            7.0      77.0   nm0006210  composer   \n",
       "2  [Action, Crime, Drama]            7.0      77.0   nm0006210  composer   \n",
       "3  [Action, Crime, Drama]            7.0      77.0   nm0006210  composer   \n",
       "4  [Action, Crime, Drama]            7.0      77.0   nm0474801     actor   \n",
       "\n",
       "  person_id_y  \n",
       "0   nm0712540  \n",
       "1   nm0712540  \n",
       "2   nm0712540  \n",
       "3   nm0712540  \n",
       "4   nm0712540  "
      ]
     },
     "execution_count": 103,
     "metadata": {},
     "output_type": "execute_result"
    }
   ],
   "source": [
    "movie_imdb.head(5)"
   ]
  },
  {
   "cell_type": "code",
   "execution_count": 104,
   "metadata": {},
   "outputs": [
    {
     "data": {
      "text/plain": [
       "Index(['movie_id', 'primary_title', 'start_year', 'runtime_minutes', 'genres',\n",
       "       'averagerating', 'numvotes', 'person_id_x', 'category', 'person_id_y'],\n",
       "      dtype='object')"
      ]
     },
     "execution_count": 104,
     "metadata": {},
     "output_type": "execute_result"
    }
   ],
   "source": [
    "movie_imdb.columns"
   ]
  },
  {
   "cell_type": "code",
   "execution_count": 105,
   "metadata": {},
   "outputs": [
    {
     "data": {
      "text/html": [
       "<div>\n",
       "<style scoped>\n",
       "    .dataframe tbody tr th:only-of-type {\n",
       "        vertical-align: middle;\n",
       "    }\n",
       "\n",
       "    .dataframe tbody tr th {\n",
       "        vertical-align: top;\n",
       "    }\n",
       "\n",
       "    .dataframe thead th {\n",
       "        text-align: right;\n",
       "    }\n",
       "</style>\n",
       "<table border=\"1\" class=\"dataframe\">\n",
       "  <thead>\n",
       "    <tr style=\"text-align: right;\">\n",
       "      <th></th>\n",
       "      <th>movie_id</th>\n",
       "      <th>primary_title</th>\n",
       "      <th>start_year</th>\n",
       "      <th>runtime_minutes</th>\n",
       "      <th>genres</th>\n",
       "      <th>averagerating</th>\n",
       "      <th>numvotes</th>\n",
       "      <th>category</th>\n",
       "      <th>person_id</th>\n",
       "    </tr>\n",
       "  </thead>\n",
       "  <tbody>\n",
       "    <tr>\n",
       "      <th>0</th>\n",
       "      <td>tt0063540</td>\n",
       "      <td>Sunghursh</td>\n",
       "      <td>2013</td>\n",
       "      <td>175.0</td>\n",
       "      <td>[Action, Crime, Drama]</td>\n",
       "      <td>7.0</td>\n",
       "      <td>77.0</td>\n",
       "      <td>composer</td>\n",
       "      <td>nm0006210</td>\n",
       "    </tr>\n",
       "    <tr>\n",
       "      <th>1</th>\n",
       "      <td>tt0063540</td>\n",
       "      <td>Sunghursh</td>\n",
       "      <td>2013</td>\n",
       "      <td>175.0</td>\n",
       "      <td>[Action, Crime, Drama]</td>\n",
       "      <td>7.0</td>\n",
       "      <td>77.0</td>\n",
       "      <td>composer</td>\n",
       "      <td>nm0006210</td>\n",
       "    </tr>\n",
       "    <tr>\n",
       "      <th>2</th>\n",
       "      <td>tt0063540</td>\n",
       "      <td>Sunghursh</td>\n",
       "      <td>2013</td>\n",
       "      <td>175.0</td>\n",
       "      <td>[Action, Crime, Drama]</td>\n",
       "      <td>7.0</td>\n",
       "      <td>77.0</td>\n",
       "      <td>composer</td>\n",
       "      <td>nm0006210</td>\n",
       "    </tr>\n",
       "    <tr>\n",
       "      <th>3</th>\n",
       "      <td>tt0063540</td>\n",
       "      <td>Sunghursh</td>\n",
       "      <td>2013</td>\n",
       "      <td>175.0</td>\n",
       "      <td>[Action, Crime, Drama]</td>\n",
       "      <td>7.0</td>\n",
       "      <td>77.0</td>\n",
       "      <td>composer</td>\n",
       "      <td>nm0006210</td>\n",
       "    </tr>\n",
       "    <tr>\n",
       "      <th>4</th>\n",
       "      <td>tt0063540</td>\n",
       "      <td>Sunghursh</td>\n",
       "      <td>2013</td>\n",
       "      <td>175.0</td>\n",
       "      <td>[Action, Crime, Drama]</td>\n",
       "      <td>7.0</td>\n",
       "      <td>77.0</td>\n",
       "      <td>actor</td>\n",
       "      <td>nm0474801</td>\n",
       "    </tr>\n",
       "  </tbody>\n",
       "</table>\n",
       "</div>"
      ],
      "text/plain": [
       "    movie_id primary_title  start_year  runtime_minutes  \\\n",
       "0  tt0063540     Sunghursh        2013            175.0   \n",
       "1  tt0063540     Sunghursh        2013            175.0   \n",
       "2  tt0063540     Sunghursh        2013            175.0   \n",
       "3  tt0063540     Sunghursh        2013            175.0   \n",
       "4  tt0063540     Sunghursh        2013            175.0   \n",
       "\n",
       "                   genres  averagerating  numvotes  category  person_id  \n",
       "0  [Action, Crime, Drama]            7.0      77.0  composer  nm0006210  \n",
       "1  [Action, Crime, Drama]            7.0      77.0  composer  nm0006210  \n",
       "2  [Action, Crime, Drama]            7.0      77.0  composer  nm0006210  \n",
       "3  [Action, Crime, Drama]            7.0      77.0  composer  nm0006210  \n",
       "4  [Action, Crime, Drama]            7.0      77.0     actor  nm0474801  "
      ]
     },
     "execution_count": 105,
     "metadata": {},
     "output_type": "execute_result"
    }
   ],
   "source": [
    "# Combine person_id_x and person_id_y into one column\n",
    "movie_imdb['person_id'] = movie_imdb['person_id_x'].combine_first(movie_imdb['person_id_y'])\n",
    "\n",
    "# Optionally drop the original columns if they are no longer needed\n",
    "movie_imdb = movie_imdb.drop(['person_id_x', 'person_id_y'], axis=1)\n",
    "\n",
    "# Display the updated DataFrame\n",
    "movie_imdb.head()"
   ]
  },
  {
   "cell_type": "code",
   "execution_count": 106,
   "metadata": {},
   "outputs": [],
   "source": [
    "median_rating = movie_imdb['averagerating'].median()\n",
    "movie_imdb['averagerating'] = movie_imdb['averagerating'].fillna(median_rating)"
   ]
  },
  {
   "cell_type": "code",
   "execution_count": 107,
   "metadata": {},
   "outputs": [
    {
     "data": {
      "text/plain": [
       "0"
      ]
     },
     "execution_count": 107,
     "metadata": {},
     "output_type": "execute_result"
    }
   ],
   "source": [
    "movie_imdb['averagerating'].isnull().sum()"
   ]
  },
  {
   "cell_type": "code",
   "execution_count": 108,
   "metadata": {},
   "outputs": [
    {
     "data": {
      "text/plain": [
       "691838"
      ]
     },
     "execution_count": 108,
     "metadata": {},
     "output_type": "execute_result"
    }
   ],
   "source": [
    "movie_imdb['numvotes'].isnull().sum()"
   ]
  },
  {
   "cell_type": "code",
   "execution_count": 109,
   "metadata": {},
   "outputs": [],
   "source": [
    "# Dropping entire column having missing value\n",
    "movie_imdb = movie_imdb[movie_imdb['numvotes'].notna()]"
   ]
  },
  {
   "cell_type": "code",
   "execution_count": 110,
   "metadata": {},
   "outputs": [
    {
     "data": {
      "text/plain": [
       "(1650560, 9)"
      ]
     },
     "execution_count": 110,
     "metadata": {},
     "output_type": "execute_result"
    }
   ],
   "source": [
    "movie_imdb.shape"
   ]
  },
  {
   "cell_type": "code",
   "execution_count": 111,
   "metadata": {},
   "outputs": [
    {
     "data": {
      "text/plain": [
       "Index(['movie_id', 'primary_title', 'start_year', 'runtime_minutes', 'genres',\n",
       "       'averagerating', 'numvotes', 'category', 'person_id'],\n",
       "      dtype='object')"
      ]
     },
     "execution_count": 111,
     "metadata": {},
     "output_type": "execute_result"
    }
   ],
   "source": [
    "movie_imdb.columns"
   ]
  },
  {
   "cell_type": "code",
   "execution_count": 112,
   "metadata": {},
   "outputs": [
    {
     "data": {
      "text/plain": [
       "Index(['genre_ids', 'movie_id', 'original_title', 'release_date', 'title',\n",
       "       'averagerating', 'numvotes'],\n",
       "      dtype='object')"
      ]
     },
     "execution_count": 112,
     "metadata": {},
     "output_type": "execute_result"
    }
   ],
   "source": [
    "tmdb.columns"
   ]
  },
  {
   "cell_type": "code",
   "execution_count": 113,
   "metadata": {},
   "outputs": [],
   "source": [
    "movie_imdb['movie_id'] = movie_imdb['movie_id'].astype(str)\n",
    "tmdb['movie_id'] = tmdb['movie_id'].astype(str)"
   ]
  },
  {
   "cell_type": "code",
   "execution_count": 114,
   "metadata": {},
   "outputs": [
    {
     "name": "stdout",
     "output_type": "stream",
     "text": [
      "0    tt0063540\n",
      "1    tt0063540\n",
      "2    tt0063540\n",
      "3    tt0063540\n",
      "4    tt0063540\n",
      "Name: movie_id, dtype: object\n",
      "0    12444\n",
      "1    10191\n",
      "2    10138\n",
      "3      862\n",
      "4    27205\n",
      "Name: movie_id, dtype: object\n"
     ]
    }
   ],
   "source": [
    "print(movie_imdb['movie_id'].head())\n",
    "print(tmdb['movie_id'].head())"
   ]
  },
  {
   "cell_type": "code",
   "execution_count": 115,
   "metadata": {},
   "outputs": [
    {
     "name": "stdout",
     "output_type": "stream",
     "text": [
      "_merge\n",
      "left_only     1650560\n",
      "right_only      26517\n",
      "both                0\n",
      "Name: count, dtype: int64\n"
     ]
    }
   ],
   "source": [
    "database_merged = pd.merge(movie_imdb, tmdb, on='movie_id', how='outer', indicator=True)\n",
    "print(database_merged['_merge'].value_counts())"
   ]
  },
  {
   "cell_type": "code",
   "execution_count": 116,
   "metadata": {},
   "outputs": [
    {
     "data": {
      "text/html": [
       "<div>\n",
       "<style scoped>\n",
       "    .dataframe tbody tr th:only-of-type {\n",
       "        vertical-align: middle;\n",
       "    }\n",
       "\n",
       "    .dataframe tbody tr th {\n",
       "        vertical-align: top;\n",
       "    }\n",
       "\n",
       "    .dataframe thead th {\n",
       "        text-align: right;\n",
       "    }\n",
       "</style>\n",
       "<table border=\"1\" class=\"dataframe\">\n",
       "  <thead>\n",
       "    <tr style=\"text-align: right;\">\n",
       "      <th></th>\n",
       "      <th>movie_id</th>\n",
       "      <th>primary_title</th>\n",
       "      <th>start_year</th>\n",
       "      <th>runtime_minutes</th>\n",
       "      <th>genres</th>\n",
       "      <th>averagerating_x</th>\n",
       "      <th>numvotes_x</th>\n",
       "      <th>category</th>\n",
       "      <th>person_id</th>\n",
       "      <th>genre_ids</th>\n",
       "      <th>original_title</th>\n",
       "      <th>release_date</th>\n",
       "      <th>title</th>\n",
       "      <th>averagerating_y</th>\n",
       "      <th>numvotes_y</th>\n",
       "      <th>_merge</th>\n",
       "    </tr>\n",
       "  </thead>\n",
       "  <tbody>\n",
       "    <tr>\n",
       "      <th>0</th>\n",
       "      <td>100009</td>\n",
       "      <td>NaN</td>\n",
       "      <td>NaN</td>\n",
       "      <td>NaN</td>\n",
       "      <td>NaN</td>\n",
       "      <td>NaN</td>\n",
       "      <td>NaN</td>\n",
       "      <td>NaN</td>\n",
       "      <td>NaN</td>\n",
       "      <td>[27]</td>\n",
       "      <td>DevilDolls</td>\n",
       "      <td>2012-01-01</td>\n",
       "      <td>DevilDolls</td>\n",
       "      <td>4.0</td>\n",
       "      <td>4.0</td>\n",
       "      <td>right_only</td>\n",
       "    </tr>\n",
       "    <tr>\n",
       "      <th>1</th>\n",
       "      <td>100042</td>\n",
       "      <td>NaN</td>\n",
       "      <td>NaN</td>\n",
       "      <td>NaN</td>\n",
       "      <td>NaN</td>\n",
       "      <td>NaN</td>\n",
       "      <td>NaN</td>\n",
       "      <td>NaN</td>\n",
       "      <td>NaN</td>\n",
       "      <td>[35]</td>\n",
       "      <td>Dumb and Dumber To</td>\n",
       "      <td>2014-11-14</td>\n",
       "      <td>Dumb and Dumber To</td>\n",
       "      <td>5.5</td>\n",
       "      <td>1842.0</td>\n",
       "      <td>right_only</td>\n",
       "    </tr>\n",
       "    <tr>\n",
       "      <th>2</th>\n",
       "      <td>100046</td>\n",
       "      <td>NaN</td>\n",
       "      <td>NaN</td>\n",
       "      <td>NaN</td>\n",
       "      <td>NaN</td>\n",
       "      <td>NaN</td>\n",
       "      <td>NaN</td>\n",
       "      <td>NaN</td>\n",
       "      <td>NaN</td>\n",
       "      <td>[35, 18, 10749]</td>\n",
       "      <td>The Giant Mechanical Man</td>\n",
       "      <td>2012-04-27</td>\n",
       "      <td>The Giant Mechanical Man</td>\n",
       "      <td>6.3</td>\n",
       "      <td>70.0</td>\n",
       "      <td>right_only</td>\n",
       "    </tr>\n",
       "    <tr>\n",
       "      <th>3</th>\n",
       "      <td>100057</td>\n",
       "      <td>NaN</td>\n",
       "      <td>NaN</td>\n",
       "      <td>NaN</td>\n",
       "      <td>NaN</td>\n",
       "      <td>NaN</td>\n",
       "      <td>NaN</td>\n",
       "      <td>NaN</td>\n",
       "      <td>NaN</td>\n",
       "      <td>[35, 18]</td>\n",
       "      <td>American Animal</td>\n",
       "      <td>2012-05-18</td>\n",
       "      <td>American Animal</td>\n",
       "      <td>4.6</td>\n",
       "      <td>7.0</td>\n",
       "      <td>right_only</td>\n",
       "    </tr>\n",
       "    <tr>\n",
       "      <th>4</th>\n",
       "      <td>100082</td>\n",
       "      <td>NaN</td>\n",
       "      <td>NaN</td>\n",
       "      <td>NaN</td>\n",
       "      <td>NaN</td>\n",
       "      <td>NaN</td>\n",
       "      <td>NaN</td>\n",
       "      <td>NaN</td>\n",
       "      <td>NaN</td>\n",
       "      <td>[18, 27, 53]</td>\n",
       "      <td>American Maniacs</td>\n",
       "      <td>2012-04-24</td>\n",
       "      <td>American Maniacs</td>\n",
       "      <td>3.0</td>\n",
       "      <td>2.0</td>\n",
       "      <td>right_only</td>\n",
       "    </tr>\n",
       "    <tr>\n",
       "      <th>5</th>\n",
       "      <td>100089</td>\n",
       "      <td>NaN</td>\n",
       "      <td>NaN</td>\n",
       "      <td>NaN</td>\n",
       "      <td>NaN</td>\n",
       "      <td>NaN</td>\n",
       "      <td>NaN</td>\n",
       "      <td>NaN</td>\n",
       "      <td>NaN</td>\n",
       "      <td>[12, 28, 27, 878, 53]</td>\n",
       "      <td>Nazis at the Center of the Earth</td>\n",
       "      <td>2012-04-24</td>\n",
       "      <td>Nazis at the Center of the Earth</td>\n",
       "      <td>3.4</td>\n",
       "      <td>46.0</td>\n",
       "      <td>right_only</td>\n",
       "    </tr>\n",
       "    <tr>\n",
       "      <th>6</th>\n",
       "      <td>100095</td>\n",
       "      <td>NaN</td>\n",
       "      <td>NaN</td>\n",
       "      <td>NaN</td>\n",
       "      <td>NaN</td>\n",
       "      <td>NaN</td>\n",
       "      <td>NaN</td>\n",
       "      <td>NaN</td>\n",
       "      <td>NaN</td>\n",
       "      <td>[12, 28, 37, 10751]</td>\n",
       "      <td>Cowboys &amp; Indians</td>\n",
       "      <td>2011-01-01</td>\n",
       "      <td>Cowboys &amp; Indians</td>\n",
       "      <td>1.5</td>\n",
       "      <td>2.0</td>\n",
       "      <td>right_only</td>\n",
       "    </tr>\n",
       "    <tr>\n",
       "      <th>7</th>\n",
       "      <td>100116</td>\n",
       "      <td>NaN</td>\n",
       "      <td>NaN</td>\n",
       "      <td>NaN</td>\n",
       "      <td>NaN</td>\n",
       "      <td>NaN</td>\n",
       "      <td>NaN</td>\n",
       "      <td>NaN</td>\n",
       "      <td>NaN</td>\n",
       "      <td>[99]</td>\n",
       "      <td>Margaret Thatcher: The Iron Lady</td>\n",
       "      <td>2012-04-10</td>\n",
       "      <td>Margaret Thatcher: The Iron Lady</td>\n",
       "      <td>6.0</td>\n",
       "      <td>1.0</td>\n",
       "      <td>right_only</td>\n",
       "    </tr>\n",
       "    <tr>\n",
       "      <th>8</th>\n",
       "      <td>100138</td>\n",
       "      <td>NaN</td>\n",
       "      <td>NaN</td>\n",
       "      <td>NaN</td>\n",
       "      <td>NaN</td>\n",
       "      <td>NaN</td>\n",
       "      <td>NaN</td>\n",
       "      <td>NaN</td>\n",
       "      <td>NaN</td>\n",
       "      <td>[99]</td>\n",
       "      <td>CAPiTA: Defenders of Awesome</td>\n",
       "      <td>2011-09-29</td>\n",
       "      <td>CAPiTA: Defenders of Awesome</td>\n",
       "      <td>4.8</td>\n",
       "      <td>2.0</td>\n",
       "      <td>right_only</td>\n",
       "    </tr>\n",
       "    <tr>\n",
       "      <th>9</th>\n",
       "      <td>10020</td>\n",
       "      <td>NaN</td>\n",
       "      <td>NaN</td>\n",
       "      <td>NaN</td>\n",
       "      <td>NaN</td>\n",
       "      <td>NaN</td>\n",
       "      <td>NaN</td>\n",
       "      <td>NaN</td>\n",
       "      <td>NaN</td>\n",
       "      <td>[10749, 10751, 16, 14]</td>\n",
       "      <td>Beauty and the Beast</td>\n",
       "      <td>2012-01-13</td>\n",
       "      <td>Beauty and the Beast</td>\n",
       "      <td>7.7</td>\n",
       "      <td>5730.0</td>\n",
       "      <td>right_only</td>\n",
       "    </tr>\n",
       "  </tbody>\n",
       "</table>\n",
       "</div>"
      ],
      "text/plain": [
       "  movie_id primary_title  start_year  runtime_minutes genres  averagerating_x  \\\n",
       "0   100009           NaN         NaN              NaN    NaN              NaN   \n",
       "1   100042           NaN         NaN              NaN    NaN              NaN   \n",
       "2   100046           NaN         NaN              NaN    NaN              NaN   \n",
       "3   100057           NaN         NaN              NaN    NaN              NaN   \n",
       "4   100082           NaN         NaN              NaN    NaN              NaN   \n",
       "5   100089           NaN         NaN              NaN    NaN              NaN   \n",
       "6   100095           NaN         NaN              NaN    NaN              NaN   \n",
       "7   100116           NaN         NaN              NaN    NaN              NaN   \n",
       "8   100138           NaN         NaN              NaN    NaN              NaN   \n",
       "9    10020           NaN         NaN              NaN    NaN              NaN   \n",
       "\n",
       "   numvotes_x category person_id               genre_ids  \\\n",
       "0         NaN      NaN       NaN                    [27]   \n",
       "1         NaN      NaN       NaN                    [35]   \n",
       "2         NaN      NaN       NaN         [35, 18, 10749]   \n",
       "3         NaN      NaN       NaN                [35, 18]   \n",
       "4         NaN      NaN       NaN            [18, 27, 53]   \n",
       "5         NaN      NaN       NaN   [12, 28, 27, 878, 53]   \n",
       "6         NaN      NaN       NaN     [12, 28, 37, 10751]   \n",
       "7         NaN      NaN       NaN                    [99]   \n",
       "8         NaN      NaN       NaN                    [99]   \n",
       "9         NaN      NaN       NaN  [10749, 10751, 16, 14]   \n",
       "\n",
       "                     original_title release_date  \\\n",
       "0                        DevilDolls   2012-01-01   \n",
       "1                Dumb and Dumber To   2014-11-14   \n",
       "2          The Giant Mechanical Man   2012-04-27   \n",
       "3                   American Animal   2012-05-18   \n",
       "4                  American Maniacs   2012-04-24   \n",
       "5  Nazis at the Center of the Earth   2012-04-24   \n",
       "6                 Cowboys & Indians   2011-01-01   \n",
       "7  Margaret Thatcher: The Iron Lady   2012-04-10   \n",
       "8      CAPiTA: Defenders of Awesome   2011-09-29   \n",
       "9              Beauty and the Beast   2012-01-13   \n",
       "\n",
       "                              title  averagerating_y  numvotes_y      _merge  \n",
       "0                        DevilDolls              4.0         4.0  right_only  \n",
       "1                Dumb and Dumber To              5.5      1842.0  right_only  \n",
       "2          The Giant Mechanical Man              6.3        70.0  right_only  \n",
       "3                   American Animal              4.6         7.0  right_only  \n",
       "4                  American Maniacs              3.0         2.0  right_only  \n",
       "5  Nazis at the Center of the Earth              3.4        46.0  right_only  \n",
       "6                 Cowboys & Indians              1.5         2.0  right_only  \n",
       "7  Margaret Thatcher: The Iron Lady              6.0         1.0  right_only  \n",
       "8      CAPiTA: Defenders of Awesome              4.8         2.0  right_only  \n",
       "9              Beauty and the Beast              7.7      5730.0  right_only  "
      ]
     },
     "execution_count": 116,
     "metadata": {},
     "output_type": "execute_result"
    }
   ],
   "source": [
    "database_merged.head(10)"
   ]
  },
  {
   "cell_type": "code",
   "execution_count": 117,
   "metadata": {},
   "outputs": [
    {
     "data": {
      "text/plain": [
       "Index(['movie_id', 'primary_title', 'start_year', 'runtime_minutes', 'genres',\n",
       "       'averagerating_x', 'numvotes_x', 'category', 'person_id', 'genre_ids',\n",
       "       'original_title', 'release_date', 'title', 'averagerating_y',\n",
       "       'numvotes_y', '_merge'],\n",
       "      dtype='object')"
      ]
     },
     "execution_count": 117,
     "metadata": {},
     "output_type": "execute_result"
    }
   ],
   "source": [
    "database_merged.columns"
   ]
  },
  {
   "cell_type": "code",
   "execution_count": 118,
   "metadata": {},
   "outputs": [
    {
     "name": "stdout",
     "output_type": "stream",
     "text": [
      "  movie_id primary_title  start_year  runtime_minutes genres category  \\\n",
      "0   100009           NaN         NaN              NaN    NaN      NaN   \n",
      "1   100042           NaN         NaN              NaN    NaN      NaN   \n",
      "2   100046           NaN         NaN              NaN    NaN      NaN   \n",
      "3   100057           NaN         NaN              NaN    NaN      NaN   \n",
      "4   100082           NaN         NaN              NaN    NaN      NaN   \n",
      "\n",
      "  person_id        genre_ids            original_title release_date  \\\n",
      "0       NaN             [27]                DevilDolls   2012-01-01   \n",
      "1       NaN             [35]        Dumb and Dumber To   2014-11-14   \n",
      "2       NaN  [35, 18, 10749]  The Giant Mechanical Man   2012-04-27   \n",
      "3       NaN         [35, 18]           American Animal   2012-05-18   \n",
      "4       NaN     [18, 27, 53]          American Maniacs   2012-04-24   \n",
      "\n",
      "                      title      _merge  averagerating  numvotes  \n",
      "0                DevilDolls  right_only            4.0       4.0  \n",
      "1        Dumb and Dumber To  right_only            5.5    1842.0  \n",
      "2  The Giant Mechanical Man  right_only            6.3      70.0  \n",
      "3           American Animal  right_only            4.6       7.0  \n",
      "4          American Maniacs  right_only            3.0       2.0  \n"
     ]
    }
   ],
   "source": [
    "# Define the columns to merge\n",
    "columns_to_merge = ['averagerating', 'numvotes']\n",
    "\n",
    "# Iterate over each column pair (_x and _y)\n",
    "for col in columns_to_merge:\n",
    "    x_col = f\"{col}_x\"\n",
    "    y_col = f\"{col}_y\"\n",
    "    merged_col = col  # The new column without the _x or _y suffix\n",
    "\n",
    "    # Combine _x and _y, prioritizing _x\n",
    "    database_merged[merged_col] = database_merged[x_col].combine_first(database_merged[y_col])\n",
    "\n",
    "    # Optionally drop the original _x and _y columns\n",
    "    database_merged = database_merged.drop([x_col, y_col], axis=1)\n",
    "\n",
    "# Display the updated DataFrame\n",
    "print(database_merged.head())"
   ]
  },
  {
   "cell_type": "code",
   "execution_count": 119,
   "metadata": {},
   "outputs": [
    {
     "data": {
      "text/plain": [
       "Index(['movie_id', 'primary_title', 'start_year', 'runtime_minutes', 'genres',\n",
       "       'category', 'person_id', 'genre_ids', 'original_title', 'release_date',\n",
       "       'title', '_merge', 'averagerating', 'numvotes'],\n",
       "      dtype='object')"
      ]
     },
     "execution_count": 119,
     "metadata": {},
     "output_type": "execute_result"
    }
   ],
   "source": [
    "database_merged.columns"
   ]
  },
  {
   "cell_type": "code",
   "execution_count": 120,
   "metadata": {},
   "outputs": [
    {
     "data": {
      "text/plain": [
       "26517"
      ]
     },
     "execution_count": 120,
     "metadata": {},
     "output_type": "execute_result"
    }
   ],
   "source": [
    "database_merged['genres'].isnull().sum()"
   ]
  },
  {
   "cell_type": "code",
   "execution_count": 121,
   "metadata": {},
   "outputs": [
    {
     "name": "stdout",
     "output_type": "stream",
     "text": [
      "0\n",
      "(1650560, 14)\n"
     ]
    }
   ],
   "source": [
    "# Drop rows where 'genres' is NaN\n",
    "database_merged = database_merged.dropna(subset=['genres'])\n",
    "\n",
    "# Verify that null values are removed\n",
    "print(database_merged['genres'].isnull().sum())  # Should print 0\n",
    "\n",
    "# Optional: Check the shape of the updated DataFrame\n",
    "print(database_merged.shape)"
   ]
  },
  {
   "cell_type": "code",
   "execution_count": 122,
   "metadata": {},
   "outputs": [
    {
     "data": {
      "text/html": [
       "<div>\n",
       "<style scoped>\n",
       "    .dataframe tbody tr th:only-of-type {\n",
       "        vertical-align: middle;\n",
       "    }\n",
       "\n",
       "    .dataframe tbody tr th {\n",
       "        vertical-align: top;\n",
       "    }\n",
       "\n",
       "    .dataframe thead th {\n",
       "        text-align: right;\n",
       "    }\n",
       "</style>\n",
       "<table border=\"1\" class=\"dataframe\">\n",
       "  <thead>\n",
       "    <tr style=\"text-align: right;\">\n",
       "      <th></th>\n",
       "      <th>movie_id</th>\n",
       "      <th>primary_title</th>\n",
       "      <th>start_year</th>\n",
       "      <th>runtime_minutes</th>\n",
       "      <th>genres</th>\n",
       "      <th>category</th>\n",
       "      <th>person_id</th>\n",
       "      <th>genre_ids</th>\n",
       "      <th>original_title</th>\n",
       "      <th>release_date</th>\n",
       "      <th>title</th>\n",
       "      <th>_merge</th>\n",
       "      <th>averagerating</th>\n",
       "      <th>numvotes</th>\n",
       "      <th>genres_list</th>\n",
       "    </tr>\n",
       "  </thead>\n",
       "  <tbody>\n",
       "    <tr>\n",
       "      <th>26517</th>\n",
       "      <td>tt0063540</td>\n",
       "      <td>Sunghursh</td>\n",
       "      <td>2013.0</td>\n",
       "      <td>175.0</td>\n",
       "      <td>[Action, Crime, Drama]</td>\n",
       "      <td>composer</td>\n",
       "      <td>nm0006210</td>\n",
       "      <td>NaN</td>\n",
       "      <td>NaN</td>\n",
       "      <td>NaN</td>\n",
       "      <td>NaN</td>\n",
       "      <td>left_only</td>\n",
       "      <td>7.0</td>\n",
       "      <td>77.0</td>\n",
       "      <td>Action</td>\n",
       "    </tr>\n",
       "    <tr>\n",
       "      <th>26517</th>\n",
       "      <td>tt0063540</td>\n",
       "      <td>Sunghursh</td>\n",
       "      <td>2013.0</td>\n",
       "      <td>175.0</td>\n",
       "      <td>[Action, Crime, Drama]</td>\n",
       "      <td>composer</td>\n",
       "      <td>nm0006210</td>\n",
       "      <td>NaN</td>\n",
       "      <td>NaN</td>\n",
       "      <td>NaN</td>\n",
       "      <td>NaN</td>\n",
       "      <td>left_only</td>\n",
       "      <td>7.0</td>\n",
       "      <td>77.0</td>\n",
       "      <td>Crime</td>\n",
       "    </tr>\n",
       "    <tr>\n",
       "      <th>26517</th>\n",
       "      <td>tt0063540</td>\n",
       "      <td>Sunghursh</td>\n",
       "      <td>2013.0</td>\n",
       "      <td>175.0</td>\n",
       "      <td>[Action, Crime, Drama]</td>\n",
       "      <td>composer</td>\n",
       "      <td>nm0006210</td>\n",
       "      <td>NaN</td>\n",
       "      <td>NaN</td>\n",
       "      <td>NaN</td>\n",
       "      <td>NaN</td>\n",
       "      <td>left_only</td>\n",
       "      <td>7.0</td>\n",
       "      <td>77.0</td>\n",
       "      <td>Drama</td>\n",
       "    </tr>\n",
       "    <tr>\n",
       "      <th>26518</th>\n",
       "      <td>tt0063540</td>\n",
       "      <td>Sunghursh</td>\n",
       "      <td>2013.0</td>\n",
       "      <td>175.0</td>\n",
       "      <td>[Action, Crime, Drama]</td>\n",
       "      <td>composer</td>\n",
       "      <td>nm0006210</td>\n",
       "      <td>NaN</td>\n",
       "      <td>NaN</td>\n",
       "      <td>NaN</td>\n",
       "      <td>NaN</td>\n",
       "      <td>left_only</td>\n",
       "      <td>7.0</td>\n",
       "      <td>77.0</td>\n",
       "      <td>Action</td>\n",
       "    </tr>\n",
       "    <tr>\n",
       "      <th>26518</th>\n",
       "      <td>tt0063540</td>\n",
       "      <td>Sunghursh</td>\n",
       "      <td>2013.0</td>\n",
       "      <td>175.0</td>\n",
       "      <td>[Action, Crime, Drama]</td>\n",
       "      <td>composer</td>\n",
       "      <td>nm0006210</td>\n",
       "      <td>NaN</td>\n",
       "      <td>NaN</td>\n",
       "      <td>NaN</td>\n",
       "      <td>NaN</td>\n",
       "      <td>left_only</td>\n",
       "      <td>7.0</td>\n",
       "      <td>77.0</td>\n",
       "      <td>Crime</td>\n",
       "    </tr>\n",
       "  </tbody>\n",
       "</table>\n",
       "</div>"
      ],
      "text/plain": [
       "        movie_id primary_title  start_year  runtime_minutes  \\\n",
       "26517  tt0063540     Sunghursh      2013.0            175.0   \n",
       "26517  tt0063540     Sunghursh      2013.0            175.0   \n",
       "26517  tt0063540     Sunghursh      2013.0            175.0   \n",
       "26518  tt0063540     Sunghursh      2013.0            175.0   \n",
       "26518  tt0063540     Sunghursh      2013.0            175.0   \n",
       "\n",
       "                       genres  category  person_id genre_ids original_title  \\\n",
       "26517  [Action, Crime, Drama]  composer  nm0006210       NaN            NaN   \n",
       "26517  [Action, Crime, Drama]  composer  nm0006210       NaN            NaN   \n",
       "26517  [Action, Crime, Drama]  composer  nm0006210       NaN            NaN   \n",
       "26518  [Action, Crime, Drama]  composer  nm0006210       NaN            NaN   \n",
       "26518  [Action, Crime, Drama]  composer  nm0006210       NaN            NaN   \n",
       "\n",
       "      release_date title     _merge  averagerating  numvotes genres_list  \n",
       "26517          NaN   NaN  left_only            7.0      77.0      Action  \n",
       "26517          NaN   NaN  left_only            7.0      77.0       Crime  \n",
       "26517          NaN   NaN  left_only            7.0      77.0       Drama  \n",
       "26518          NaN   NaN  left_only            7.0      77.0      Action  \n",
       "26518          NaN   NaN  left_only            7.0      77.0       Crime  "
      ]
     },
     "execution_count": 122,
     "metadata": {},
     "output_type": "execute_result"
    }
   ],
   "source": [
    "# Ensure all genres are strings and split them using '|'\n",
    "database_merged['genres_list'] = database_merged['genres'].dropna().apply(\n",
    "    lambda x: x if isinstance(x, list) else str(x).split('|')\n",
    ")\n",
    "\n",
    "# Explode the list into separate rows\n",
    "database_merged = database_merged.explode('genres_list')\n",
    "\n",
    "# Verify the expanded DataFrame\n",
    "database_merged.head()"
   ]
  },
  {
   "cell_type": "code",
   "execution_count": 123,
   "metadata": {},
   "outputs": [
    {
     "data": {
      "text/plain": [
       "115"
      ]
     },
     "execution_count": 123,
     "metadata": {},
     "output_type": "execute_result"
    }
   ],
   "source": [
    "database_merged['category'].isnull().sum()"
   ]
  },
  {
   "cell_type": "code",
   "execution_count": 124,
   "metadata": {},
   "outputs": [
    {
     "name": "stdout",
     "output_type": "stream",
     "text": [
      "0\n",
      "(3142430, 15)\n"
     ]
    }
   ],
   "source": [
    "# Drop rows where 'category' is NaN\n",
    "database_merged = database_merged.dropna(subset=['category'])\n",
    "\n",
    "# Verify that null values are removed\n",
    "print(database_merged['category'].isnull().sum())  # Should print 0\n",
    "\n",
    "# Optional: Check the shape of the updated DataFrame\n",
    "print(database_merged.shape)"
   ]
  },
  {
   "cell_type": "code",
   "execution_count": 125,
   "metadata": {},
   "outputs": [
    {
     "data": {
      "text/plain": [
       "0"
      ]
     },
     "execution_count": 125,
     "metadata": {},
     "output_type": "execute_result"
    }
   ],
   "source": [
    "database_merged['person_id'].isnull().sum()"
   ]
  },
  {
   "cell_type": "code",
   "execution_count": 126,
   "metadata": {},
   "outputs": [
    {
     "data": {
      "text/plain": [
       "movie_id                 0\n",
       "primary_title            0\n",
       "start_year               0\n",
       "runtime_minutes          0\n",
       "genres                   0\n",
       "category                 0\n",
       "person_id                0\n",
       "genre_ids          3142430\n",
       "original_title     3142430\n",
       "release_date       3142430\n",
       "title              3142430\n",
       "_merge                   0\n",
       "averagerating            0\n",
       "numvotes                 0\n",
       "genres_list              0\n",
       "dtype: int64"
      ]
     },
     "execution_count": 126,
     "metadata": {},
     "output_type": "execute_result"
    }
   ],
   "source": [
    "database_merged.isnull().sum()"
   ]
  },
  {
   "cell_type": "code",
   "execution_count": 127,
   "metadata": {},
   "outputs": [
    {
     "data": {
      "text/plain": [
       "(3142430, 15)"
      ]
     },
     "execution_count": 127,
     "metadata": {},
     "output_type": "execute_result"
    }
   ],
   "source": [
    "database_merged.shape"
   ]
  },
  {
   "cell_type": "code",
   "execution_count": 128,
   "metadata": {},
   "outputs": [],
   "source": [
    "# Drop the columns\n",
    "database_merged.drop(columns=['primary_title', 'start_year', 'genre_ids', 'original_title', 'release_date', 'title', '_merge'],  inplace=True)"
   ]
  },
  {
   "cell_type": "code",
   "execution_count": 129,
   "metadata": {},
   "outputs": [
    {
     "data": {
      "text/plain": [
       "(3142430, 8)"
      ]
     },
     "execution_count": 129,
     "metadata": {},
     "output_type": "execute_result"
    }
   ],
   "source": [
    "database_merged.shape"
   ]
  },
  {
   "cell_type": "code",
   "execution_count": 130,
   "metadata": {},
   "outputs": [
    {
     "data": {
      "text/plain": [
       "movie_id           0\n",
       "runtime_minutes    0\n",
       "genres             0\n",
       "category           0\n",
       "person_id          0\n",
       "averagerating      0\n",
       "numvotes           0\n",
       "genres_list        0\n",
       "dtype: int64"
      ]
     },
     "execution_count": 130,
     "metadata": {},
     "output_type": "execute_result"
    }
   ],
   "source": [
    "database_merged.isnull().sum()"
   ]
  },
  {
   "cell_type": "code",
   "execution_count": 131,
   "metadata": {},
   "outputs": [
    {
     "data": {
      "text/plain": [
       "Index(['id', 'release_date', 'title', 'production_budget', 'worldwide_gross',\n",
       "       'gross_profit', 'movie_year', 'release_year', 'release_month', 'roi',\n",
       "       'investment_outcome', 'quartile', 'budget_range', 'domestic_gross',\n",
       "       'month', 'season'],\n",
       "      dtype='object')"
      ]
     },
     "execution_count": 131,
     "metadata": {},
     "output_type": "execute_result"
    }
   ],
   "source": [
    "tn_bom.columns"
   ]
  },
  {
   "cell_type": "code",
   "execution_count": 132,
   "metadata": {},
   "outputs": [],
   "source": [
    "def clean_currency(value):\n",
    "    \"\"\"\n",
    "    Cleans a currency value by:\n",
    "    - Removing dollar signs ($) and commas (,)\n",
    "    - Converting abbreviations like K (thousands) and B (billions) into numerical values\n",
    "    \"\"\"\n",
    "    if isinstance(value, str):\n",
    "        if 'B' in value:  # Handle billions\n",
    "            return float(value.replace('B', '').replace(',', '').replace('$', '')) * 1_000_000_000\n",
    "        elif 'M' in value:  # Handle millions\n",
    "            return float(value.replace('M', '').replace(',', '').replace('$', '')) * 1_000_000\n",
    "        elif 'K' in value:  # Handle thousands\n",
    "            return float(value.replace('K', '').replace(',', '').replace('$', '')) * 1_000\n",
    "        else:\n",
    "            return float(value.replace(',', '').replace('$', ''))\n",
    "    return value  # Return as-is if not a string"
   ]
  },
  {
   "cell_type": "code",
   "execution_count": 133,
   "metadata": {},
   "outputs": [
    {
     "data": {
      "text/html": [
       "<div>\n",
       "<style scoped>\n",
       "    .dataframe tbody tr th:only-of-type {\n",
       "        vertical-align: middle;\n",
       "    }\n",
       "\n",
       "    .dataframe tbody tr th {\n",
       "        vertical-align: top;\n",
       "    }\n",
       "\n",
       "    .dataframe thead th {\n",
       "        text-align: right;\n",
       "    }\n",
       "</style>\n",
       "<table border=\"1\" class=\"dataframe\">\n",
       "  <thead>\n",
       "    <tr style=\"text-align: right;\">\n",
       "      <th></th>\n",
       "      <th>id</th>\n",
       "      <th>release_date</th>\n",
       "      <th>title</th>\n",
       "      <th>production_budget</th>\n",
       "      <th>worldwide_gross</th>\n",
       "      <th>gross_profit</th>\n",
       "      <th>movie_year</th>\n",
       "      <th>release_year</th>\n",
       "      <th>release_month</th>\n",
       "      <th>roi</th>\n",
       "      <th>investment_outcome</th>\n",
       "      <th>quartile</th>\n",
       "      <th>budget_range</th>\n",
       "      <th>domestic_gross</th>\n",
       "      <th>month</th>\n",
       "      <th>season</th>\n",
       "    </tr>\n",
       "  </thead>\n",
       "  <tbody>\n",
       "    <tr>\n",
       "      <th>0</th>\n",
       "      <td>1</td>\n",
       "      <td>2009-12-18</td>\n",
       "      <td>Avatar</td>\n",
       "      <td>425000000.0</td>\n",
       "      <td>2.8B</td>\n",
       "      <td>2.400000e+09</td>\n",
       "      <td>2009</td>\n",
       "      <td>2009</td>\n",
       "      <td>12</td>\n",
       "      <td>5.532577</td>\n",
       "      <td>1</td>\n",
       "      <td>Top 25</td>\n",
       "      <td>High Budget</td>\n",
       "      <td>760500000.0</td>\n",
       "      <td>12</td>\n",
       "      <td>Winter</td>\n",
       "    </tr>\n",
       "    <tr>\n",
       "      <th>1</th>\n",
       "      <td>2</td>\n",
       "      <td>2011-05-20</td>\n",
       "      <td>Pirates of the Caribbean: On Stranger Tides</td>\n",
       "      <td>410600000.0</td>\n",
       "      <td>1.0B</td>\n",
       "      <td>6.351000e+08</td>\n",
       "      <td>2011</td>\n",
       "      <td>2011</td>\n",
       "      <td>5</td>\n",
       "      <td>1.546673</td>\n",
       "      <td>1</td>\n",
       "      <td>Top 25</td>\n",
       "      <td>High Budget</td>\n",
       "      <td>241100000.0</td>\n",
       "      <td>5</td>\n",
       "      <td>Spring</td>\n",
       "    </tr>\n",
       "    <tr>\n",
       "      <th>2</th>\n",
       "      <td>3</td>\n",
       "      <td>2019-06-07</td>\n",
       "      <td>Dark Phoenix</td>\n",
       "      <td>350000000.0</td>\n",
       "      <td>149.8M</td>\n",
       "      <td>-2.002376e+08</td>\n",
       "      <td>2019</td>\n",
       "      <td>2019</td>\n",
       "      <td>6</td>\n",
       "      <td>-0.572108</td>\n",
       "      <td>0</td>\n",
       "      <td>Top 25</td>\n",
       "      <td>High Budget</td>\n",
       "      <td>42800000.0</td>\n",
       "      <td>6</td>\n",
       "      <td>Summer</td>\n",
       "    </tr>\n",
       "    <tr>\n",
       "      <th>3</th>\n",
       "      <td>4</td>\n",
       "      <td>2015-05-01</td>\n",
       "      <td>Avengers: Age of Ultron</td>\n",
       "      <td>330600000.0</td>\n",
       "      <td>1.4B</td>\n",
       "      <td>1.100000e+09</td>\n",
       "      <td>2015</td>\n",
       "      <td>2015</td>\n",
       "      <td>5</td>\n",
       "      <td>3.243841</td>\n",
       "      <td>1</td>\n",
       "      <td>Top 25</td>\n",
       "      <td>High Budget</td>\n",
       "      <td>459000000.0</td>\n",
       "      <td>5</td>\n",
       "      <td>Spring</td>\n",
       "    </tr>\n",
       "    <tr>\n",
       "      <th>4</th>\n",
       "      <td>5</td>\n",
       "      <td>2017-12-15</td>\n",
       "      <td>Star Wars Ep. VIII: The Last Jedi</td>\n",
       "      <td>317000000.0</td>\n",
       "      <td>1.3B</td>\n",
       "      <td>9.997000e+08</td>\n",
       "      <td>2017</td>\n",
       "      <td>2017</td>\n",
       "      <td>12</td>\n",
       "      <td>3.153696</td>\n",
       "      <td>1</td>\n",
       "      <td>Top 25</td>\n",
       "      <td>High Budget</td>\n",
       "      <td>620200000.0</td>\n",
       "      <td>12</td>\n",
       "      <td>Winter</td>\n",
       "    </tr>\n",
       "  </tbody>\n",
       "</table>\n",
       "</div>"
      ],
      "text/plain": [
       "   id release_date                                        title  \\\n",
       "0   1   2009-12-18                                       Avatar   \n",
       "1   2   2011-05-20  Pirates of the Caribbean: On Stranger Tides   \n",
       "2   3   2019-06-07                                 Dark Phoenix   \n",
       "3   4   2015-05-01                      Avengers: Age of Ultron   \n",
       "4   5   2017-12-15            Star Wars Ep. VIII: The Last Jedi   \n",
       "\n",
       "   production_budget worldwide_gross  gross_profit  movie_year  release_year  \\\n",
       "0        425000000.0            2.8B  2.400000e+09        2009          2009   \n",
       "1        410600000.0            1.0B  6.351000e+08        2011          2011   \n",
       "2        350000000.0          149.8M -2.002376e+08        2019          2019   \n",
       "3        330600000.0            1.4B  1.100000e+09        2015          2015   \n",
       "4        317000000.0            1.3B  9.997000e+08        2017          2017   \n",
       "\n",
       "   release_month       roi  investment_outcome quartile budget_range  \\\n",
       "0             12  5.532577                   1   Top 25  High Budget   \n",
       "1              5  1.546673                   1   Top 25  High Budget   \n",
       "2              6 -0.572108                   0   Top 25  High Budget   \n",
       "3              5  3.243841                   1   Top 25  High Budget   \n",
       "4             12  3.153696                   1   Top 25  High Budget   \n",
       "\n",
       "   domestic_gross  month  season  \n",
       "0     760500000.0     12  Winter  \n",
       "1     241100000.0      5  Spring  \n",
       "2      42800000.0      6  Summer  \n",
       "3     459000000.0      5  Spring  \n",
       "4     620200000.0     12  Winter  "
      ]
     },
     "execution_count": 133,
     "metadata": {},
     "output_type": "execute_result"
    }
   ],
   "source": [
    "# Apply the updated clean_currency function to the columns\n",
    "tn_bom['production_budget'] = tn_bom['production_budget'].apply(clean_currency)\n",
    "tn_bom['domestic_gross'] = tn_bom['domestic_gross'].apply(clean_currency)\n",
    "tn_bom['gross_profit'] = tn_bom['gross_profit'].apply(clean_currency)\n",
    "\n",
    "# Verify the cleaned data\n",
    "tn_bom.head()"
   ]
  },
  {
   "cell_type": "code",
   "execution_count": 134,
   "metadata": {},
   "outputs": [],
   "source": [
    "database_merged.to_csv(\"database_merged.csv\")"
   ]
  },
  {
   "cell_type": "code",
   "execution_count": 135,
   "metadata": {},
   "outputs": [],
   "source": [
    "rt_merged.to_csv(\"rt_merged_data.csv\")"
   ]
  },
  {
   "cell_type": "code",
   "execution_count": 136,
   "metadata": {},
   "outputs": [],
   "source": [
    "tn_bom.to_csv(\"tn_bom_merged.csv\")"
   ]
  },
  {
   "cell_type": "code",
   "execution_count": 137,
   "metadata": {},
   "outputs": [
    {
     "data": {
      "text/plain": [
       "Index(['movie_id', 'runtime_minutes', 'genres', 'category', 'person_id',\n",
       "       'averagerating', 'numvotes', 'genres_list'],\n",
       "      dtype='object')"
      ]
     },
     "execution_count": 137,
     "metadata": {},
     "output_type": "execute_result"
    }
   ],
   "source": [
    "database_merged.columns"
   ]
  },
  {
   "cell_type": "code",
   "execution_count": 138,
   "metadata": {},
   "outputs": [
    {
     "data": {
      "text/plain": [
       "(3142430, 8)"
      ]
     },
     "execution_count": 138,
     "metadata": {},
     "output_type": "execute_result"
    }
   ],
   "source": [
    "database_merged.shape"
   ]
  },
  {
   "cell_type": "code",
   "execution_count": 139,
   "metadata": {},
   "outputs": [
    {
     "data": {
      "text/plain": [
       "Index(['id', 'rating_x', 'genre', 'director', 'writer', 'runtime',\n",
       "       'expanded_genre', 'rating_y', 'fresh', 'critic', 'top_critic',\n",
       "       'publisher', 'date'],\n",
       "      dtype='object')"
      ]
     },
     "execution_count": 139,
     "metadata": {},
     "output_type": "execute_result"
    }
   ],
   "source": [
    "rt_merged.columns"
   ]
  },
  {
   "cell_type": "code",
   "execution_count": 140,
   "metadata": {},
   "outputs": [
    {
     "data": {
      "text/plain": [
       "(64933, 13)"
      ]
     },
     "execution_count": 140,
     "metadata": {},
     "output_type": "execute_result"
    }
   ],
   "source": [
    "rt_merged.shape"
   ]
  },
  {
   "cell_type": "markdown",
   "metadata": {},
   "source": [
    "### Check for outliers"
   ]
  },
  {
   "cell_type": "code",
   "execution_count": 141,
   "metadata": {},
   "outputs": [
    {
     "data": {
      "text/plain": [
       "<Axes: >"
      ]
     },
     "execution_count": 141,
     "metadata": {},
     "output_type": "execute_result"
    },
    {
     "data": {
      "image/png": "[encoded data removed]",
      "text/plain": [
       "<Figure size 640x480 with 1 Axes>"
      ]
     },
     "metadata": {},
     "output_type": "display_data"
    }
   ],
   "source": [
    "#checking for outlier #use boxplot to check cr column\n",
    "sns.boxplot(tn_bom)"
   ]
  },
  {
   "cell_type": "markdown",
   "metadata": {},
   "source": [
    "## Objective one"
   ]
  },
  {
   "cell_type": "code",
   "execution_count": 142,
   "metadata": {},
   "outputs": [
    {
     "data": {
      "text/html": [
       "<div>\n",
       "<style scoped>\n",
       "    .dataframe tbody tr th:only-of-type {\n",
       "        vertical-align: middle;\n",
       "    }\n",
       "\n",
       "    .dataframe tbody tr th {\n",
       "        vertical-align: top;\n",
       "    }\n",
       "\n",
       "    .dataframe thead th {\n",
       "        text-align: right;\n",
       "    }\n",
       "</style>\n",
       "<table border=\"1\" class=\"dataframe\">\n",
       "  <thead>\n",
       "    <tr style=\"text-align: right;\">\n",
       "      <th></th>\n",
       "      <th>movie_id</th>\n",
       "      <th>primary_title</th>\n",
       "      <th>runtime_minutes</th>\n",
       "      <th>averagerating</th>\n",
       "      <th>numvotes</th>\n",
       "      <th>genres</th>\n",
       "      <th>region_count</th>\n",
       "    </tr>\n",
       "  </thead>\n",
       "  <tbody>\n",
       "    <tr>\n",
       "      <th>0</th>\n",
       "      <td>tt2488496</td>\n",
       "      <td>Star Wars: Episode VII - The Force Awakens</td>\n",
       "      <td>136.0</td>\n",
       "      <td>8.0</td>\n",
       "      <td>784780</td>\n",
       "      <td>Action,Adventure,Fantasy</td>\n",
       "      <td>59</td>\n",
       "    </tr>\n",
       "    <tr>\n",
       "      <th>1</th>\n",
       "      <td>tt1201607</td>\n",
       "      <td>Harry Potter and the Deathly Hallows: Part 2</td>\n",
       "      <td>130.0</td>\n",
       "      <td>8.1</td>\n",
       "      <td>691835</td>\n",
       "      <td>Adventure,Drama,Fantasy</td>\n",
       "      <td>54</td>\n",
       "    </tr>\n",
       "    <tr>\n",
       "      <th>2</th>\n",
       "      <td>tt2310332</td>\n",
       "      <td>The Hobbit: The Battle of the Five Armies</td>\n",
       "      <td>144.0</td>\n",
       "      <td>7.4</td>\n",
       "      <td>438621</td>\n",
       "      <td>Adventure,Fantasy</td>\n",
       "      <td>54</td>\n",
       "    </tr>\n",
       "    <tr>\n",
       "      <th>3</th>\n",
       "      <td>tt1790809</td>\n",
       "      <td>Pirates of the Caribbean: Dead Men Tell No Tales</td>\n",
       "      <td>129.0</td>\n",
       "      <td>6.6</td>\n",
       "      <td>228592</td>\n",
       "      <td>Action,Adventure,Fantasy</td>\n",
       "      <td>52</td>\n",
       "    </tr>\n",
       "    <tr>\n",
       "      <th>4</th>\n",
       "      <td>tt2278871</td>\n",
       "      <td>Blue Is the Warmest Color</td>\n",
       "      <td>180.0</td>\n",
       "      <td>7.8</td>\n",
       "      <td>124409</td>\n",
       "      <td>Drama,Romance</td>\n",
       "      <td>52</td>\n",
       "    </tr>\n",
       "  </tbody>\n",
       "</table>\n",
       "</div>"
      ],
      "text/plain": [
       "    movie_id                                     primary_title  \\\n",
       "0  tt2488496        Star Wars: Episode VII - The Force Awakens   \n",
       "1  tt1201607      Harry Potter and the Deathly Hallows: Part 2   \n",
       "2  tt2310332         The Hobbit: The Battle of the Five Armies   \n",
       "3  tt1790809  Pirates of the Caribbean: Dead Men Tell No Tales   \n",
       "4  tt2278871                         Blue Is the Warmest Color   \n",
       "\n",
       "   runtime_minutes  averagerating  numvotes                    genres  \\\n",
       "0            136.0            8.0    784780  Action,Adventure,Fantasy   \n",
       "1            130.0            8.1    691835   Adventure,Drama,Fantasy   \n",
       "2            144.0            7.4    438621         Adventure,Fantasy   \n",
       "3            129.0            6.6    228592  Action,Adventure,Fantasy   \n",
       "4            180.0            7.8    124409             Drama,Romance   \n",
       "\n",
       "   region_count  \n",
       "0            59  \n",
       "1            54  \n",
       "2            54  \n",
       "3            52  \n",
       "4            52  "
      ]
     },
     "execution_count": 142,
     "metadata": {},
     "output_type": "execute_result"
    }
   ],
   "source": [
    "#consolidating target dataframe from tables through .join()\n",
    "df1=pd.read_sql(\"\"\"\n",
    "    SELECT\n",
    "        movie_ratings.movie_id,\n",
    "        movie_basics.primary_title,\n",
    "        movie_basics.runtime_minutes,\n",
    "        movie_ratings.averagerating,\n",
    "        movie_ratings.numvotes,\n",
    "        movie_basics.genres,\n",
    "        COUNT(movie_akas.region) AS region_count\n",
    "    FROM movie_ratings\n",
    "    JOIN movie_basics\n",
    "        ON movie_ratings.movie_id = movie_basics.movie_id\n",
    "    JOIN movie_akas\n",
    "        ON movie_ratings.movie_id = movie_akas.movie_id\n",
    "    GROUP BY\n",
    "        movie_ratings.movie_id,\n",
    "        movie_basics.primary_title,\n",
    "        movie_ratings.averagerating,\n",
    "        movie_ratings.numvotes\n",
    "    ORDER BY region_count DESC;\n",
    "\"\"\", conn)\n",
    "\n",
    "df1.head()\n"
   ]
  },
  {
   "cell_type": "code",
   "execution_count": 143,
   "metadata": {},
   "outputs": [
    {
     "data": {
      "text/plain": [
       "movie_id            object\n",
       "title               object\n",
       "runtime_minutes    float64\n",
       "averagerating       object\n",
       "numvotes             int64\n",
       "genres              object\n",
       "region_count        object\n",
       "dtype: object"
      ]
     },
     "execution_count": 143,
     "metadata": {},
     "output_type": "execute_result"
    }
   ],
   "source": [
    "#changing data type and column name for some columns to aid in analysis\n",
    "df1['region_count'] = df1['region_count'].astype(str)\n",
    "df1['runtime_minutes'] = df1['runtime_minutes'].astype(float)\n",
    "df1['averagerating'] = df1['averagerating'].astype(str)\n",
    "df1.rename(columns={'primary_title': 'title'}, inplace=True)\n",
    "df1.dtypes"
   ]
  },
  {
   "cell_type": "code",
   "execution_count": 144,
   "metadata": {},
   "outputs": [],
   "source": [
    "#dropping the movie_id column\n",
    "df1.drop(columns='movie_id', inplace=True)"
   ]
  },
  {
   "cell_type": "code",
   "execution_count": 145,
   "metadata": {},
   "outputs": [],
   "source": [
    "#dropping the null values\n",
    "df1.dropna(inplace=True)"
   ]
  },
  {
   "cell_type": "code",
   "execution_count": 146,
   "metadata": {},
   "outputs": [
    {
     "data": {
      "text/html": [
       "<div>\n",
       "<style scoped>\n",
       "    .dataframe tbody tr th:only-of-type {\n",
       "        vertical-align: middle;\n",
       "    }\n",
       "\n",
       "    .dataframe tbody tr th {\n",
       "        vertical-align: top;\n",
       "    }\n",
       "\n",
       "    .dataframe thead th {\n",
       "        text-align: right;\n",
       "    }\n",
       "</style>\n",
       "<table border=\"1\" class=\"dataframe\">\n",
       "  <thead>\n",
       "    <tr style=\"text-align: right;\">\n",
       "      <th></th>\n",
       "      <th>id</th>\n",
       "      <th>release_date</th>\n",
       "      <th>movie</th>\n",
       "      <th>production_budget</th>\n",
       "      <th>domestic_gross</th>\n",
       "      <th>worldwide_gross</th>\n",
       "    </tr>\n",
       "  </thead>\n",
       "  <tbody>\n",
       "    <tr>\n",
       "      <th>0</th>\n",
       "      <td>1</td>\n",
       "      <td>Dec 18, 2009</td>\n",
       "      <td>Avatar</td>\n",
       "      <td>$425,000,000</td>\n",
       "      <td>$760,507,625</td>\n",
       "      <td>$2,776,345,279</td>\n",
       "    </tr>\n",
       "    <tr>\n",
       "      <th>1</th>\n",
       "      <td>2</td>\n",
       "      <td>May 20, 2011</td>\n",
       "      <td>Pirates of the Caribbean: On Stranger Tides</td>\n",
       "      <td>$410,600,000</td>\n",
       "      <td>$241,063,875</td>\n",
       "      <td>$1,045,663,875</td>\n",
       "    </tr>\n",
       "    <tr>\n",
       "      <th>2</th>\n",
       "      <td>3</td>\n",
       "      <td>Jun 7, 2019</td>\n",
       "      <td>Dark Phoenix</td>\n",
       "      <td>$350,000,000</td>\n",
       "      <td>$42,762,350</td>\n",
       "      <td>$149,762,350</td>\n",
       "    </tr>\n",
       "    <tr>\n",
       "      <th>3</th>\n",
       "      <td>4</td>\n",
       "      <td>May 1, 2015</td>\n",
       "      <td>Avengers: Age of Ultron</td>\n",
       "      <td>$330,600,000</td>\n",
       "      <td>$459,005,868</td>\n",
       "      <td>$1,403,013,963</td>\n",
       "    </tr>\n",
       "    <tr>\n",
       "      <th>4</th>\n",
       "      <td>5</td>\n",
       "      <td>Dec 15, 2017</td>\n",
       "      <td>Star Wars Ep. VIII: The Last Jedi</td>\n",
       "      <td>$317,000,000</td>\n",
       "      <td>$620,181,382</td>\n",
       "      <td>$1,316,721,747</td>\n",
       "    </tr>\n",
       "  </tbody>\n",
       "</table>\n",
       "</div>"
      ],
      "text/plain": [
       "   id  release_date                                        movie  \\\n",
       "0   1  Dec 18, 2009                                       Avatar   \n",
       "1   2  May 20, 2011  Pirates of the Caribbean: On Stranger Tides   \n",
       "2   3   Jun 7, 2019                                 Dark Phoenix   \n",
       "3   4   May 1, 2015                      Avengers: Age of Ultron   \n",
       "4   5  Dec 15, 2017            Star Wars Ep. VIII: The Last Jedi   \n",
       "\n",
       "  production_budget domestic_gross worldwide_gross  \n",
       "0      $425,000,000   $760,507,625  $2,776,345,279  \n",
       "1      $410,600,000   $241,063,875  $1,045,663,875  \n",
       "2      $350,000,000    $42,762,350    $149,762,350  \n",
       "3      $330,600,000   $459,005,868  $1,403,013,963  \n",
       "4      $317,000,000   $620,181,382  $1,316,721,747  "
      ]
     },
     "execution_count": 146,
     "metadata": {},
     "output_type": "execute_result"
    }
   ],
   "source": [
    "# Objectives: 1.Create a table linking movie ratings, vote counts, and box office revenues.\n",
    "# Reading and loading the dataset\n",
    "movie_budget= pd.read_csv(\"zippedData/tn.movie_budgets.csv.gz\")\n",
    "movie_budget.head()"
   ]
  },
  {
   "cell_type": "code",
   "execution_count": 147,
   "metadata": {},
   "outputs": [],
   "source": [
    "#changing name of movie column to title\n",
    "movie_budget.rename(columns={'movie': 'title'}, inplace=True)"
   ]
  },
  {
   "cell_type": "code",
   "execution_count": 148,
   "metadata": {},
   "outputs": [],
   "source": [
    "# Dropping 'id' column\n",
    "movie_budget.drop(columns=['id','release_date'], inplace=True)"
   ]
  },
  {
   "cell_type": "code",
   "execution_count": 149,
   "metadata": {},
   "outputs": [
    {
     "name": "stdout",
     "output_type": "stream",
     "text": [
      "DataFrame after dropping duplicates:\n",
      "(5698, 4)\n"
     ]
    }
   ],
   "source": [
    "# Drop duplicated rows based on 'title' column, keeping the first occurrence\n",
    "movie_budget.drop_duplicates(subset='title', keep='first',inplace=True)\n",
    "\n",
    "print(\"DataFrame after dropping duplicates:\")\n",
    "print(movie_budget.shape)"
   ]
  },
  {
   "cell_type": "code",
   "execution_count": 150,
   "metadata": {},
   "outputs": [
    {
     "data": {
      "text/plain": [
       "title                object\n",
       "production_budget    object\n",
       "domestic_gross       object\n",
       "worldwide_gross      object\n",
       "dtype: object"
      ]
     },
     "execution_count": 150,
     "metadata": {},
     "output_type": "execute_result"
    }
   ],
   "source": [
    "#stripping the '$' sign before the columns and changing there datatype to int\n",
    "to_change = movie_budget.columns[1:]\n",
    "for char in to_change:\n",
    "    \n",
    "    # Check the max value in the column before conversion\n",
    "    movie_budget[char].apply(pd.to_numeric, errors='coerce').max()\n",
    "\n",
    "\n",
    "movie_budget.dtypes"
   ]
  },
  {
   "cell_type": "markdown",
   "metadata": {},
   "source": [
    "### Creating a dataframe with all the datasets\n",
    "Merging DataFrames with Fuzzy Matching on Titles"
   ]
  },
  {
   "cell_type": "code",
   "execution_count": 151,
   "metadata": {
    "scrolled": false
   },
   "outputs": [
    {
     "ename": "SyntaxError",
     "evalue": "incomplete input (401355813.py, line 1)",
     "output_type": "error",
     "traceback": [
      "\u001b[1;36m  Cell \u001b[1;32mIn[151], line 1\u001b[1;36m\u001b[0m\n\u001b[1;33m    \"\"\"\u001b[0m\n\u001b[1;37m    ^\u001b[0m\n\u001b[1;31mSyntaxError\u001b[0m\u001b[1;31m:\u001b[0m incomplete input\n"
     ]
    }
   ],
   "source": [
    "\"\"\"\n",
    "# We use fuzzywuzzy (or thefuzz) to match similar titles across datasets.\n",
    "# Install fuzzywuzzy if not already installed\n",
    "!pip install thefuzz\n",
    "\n",
    "# Import required libraries\n",
    "import pandas as pd\n",
    "from thefuzz import process"
   ]
  },
  {
   "cell_type": "code",
   "execution_count": null,
   "metadata": {},
   "outputs": [],
   "source": [
    "\"\"\"\n",
    "#2. Standardize Movie Titles\n",
    "# Before fuzzy matching, clean the movie titles to remove inconsistencies.Reduces mismatches due to capitalization, extra spaces, or minor differences.\n",
    "def clean_title(title):\n",
    "    return title.strip().lower()  # Remove spaces & lowercase\n",
    "\n",
    "# Apply to all DataFrames\n",
    "df1['title'] = df1['title'].apply(clean_title)\n",
    "movie_budget['title'] = movie_budget['title'].apply(clean_title)\n"
   ]
  },
  {
   "cell_type": "code",
   "execution_count": null,
   "metadata": {},
   "outputs": [],
   "source": [
    "\"\"\"\n",
    "# 3. Fuzzy Matching Titles Across DataFrames\n",
    "# Ensures we merge using the closest match instead of exact matches\n",
    "# Find the best match for each title in the main DataFrame (movie_budget).\n",
    "def match_titles(title, choices):\n",
    "    match, score = process.extractOne(title, choices)  # Get best match & similarity score\n",
    "    return match if score > 80 else None  # Only keep matches above 80% similarity\n",
    "\n",
    "\n",
    "# Apply Fuzzy Matching to movie_budget\n",
    "#Each title in movie_budget is matched with the best available title in df1 and matched titles stored in a new column matched_title in movie_budget.\n",
    "movie_budget['matched_title'] = movie_budget['title'].apply(lambda x: match_titles(x, df1['title'].tolist()))"
   ]
  },
  {
   "cell_type": "code",
   "execution_count": null,
   "metadata": {},
   "outputs": [],
   "source": [
    "\"\"\"\n",
    "# Ensure the matched_title Column is Correct\n",
    "# Before merging, check how many titles were successfully matched:\n",
    "movie_budget['matched_title'].isnull().sum()  # Count unmatched titles"
   ]
  },
  {
   "cell_type": "code",
   "execution_count": null,
   "metadata": {
    "code_folding": []
   },
   "outputs": [],
   "source": [
    "\"\"\"\n",
    "# Display rows where 'matched_title' is missing\n",
    "movie_budget[movie_budget['matched_title'].isnull()]['title']"
   ]
  },
  {
   "cell_type": "code",
   "execution_count": null,
   "metadata": {},
   "outputs": [],
   "source": [
    "\"\"\"\n",
    "#dropping this null values from movie_budget['matched_title']\n",
    "movie_budget.dropna(subset=['matched_title'], inplace=True)"
   ]
  },
  {
   "cell_type": "code",
   "execution_count": null,
   "metadata": {},
   "outputs": [],
   "source": [
    "\"\"\"\n",
    "#checking\n",
    "movie_budget['matched_title'].isnull().sum()"
   ]
  },
  {
   "cell_type": "code",
   "execution_count": null,
   "metadata": {},
   "outputs": [],
   "source": [
    "\"\"\"\n",
    "# Filter df1 to Keep Only Matched Titles\n",
    "df1_filtered = df1[df1['title'].isin(movie_budget['matched_title'])]\n",
    "# This removes extra rows from df1, keeping only those that were matched to movies in movie_budget."
   ]
  },
  {
   "cell_type": "code",
   "execution_count": null,
   "metadata": {},
   "outputs": [],
   "source": [
    "\"\"\"\n",
    "#  Merge the DataFrames on Matched Titles\n",
    "movie_df = movie_budget.merge(df1_filtered, left_on='matched_title', right_on='title', how='left')\n",
    "movie_df.head()"
   ]
  },
  {
   "cell_type": "code",
   "execution_count": null,
   "metadata": {},
   "outputs": [],
   "source": [
    "\"\"\"\n",
    "# Drop Extra Columns (Optional)\n",
    "movie_df.drop(columns=['matched_title','title_y'], inplace=True)"
   ]
  },
  {
   "cell_type": "code",
   "execution_count": null,
   "metadata": {},
   "outputs": [],
   "source": [
    "\"\"\"\"\n",
    "# Find and remove duplicates\n",
    "duplicates = movie_df.duplicated()\n",
    "movie_df = movie_df.drop_duplicates()"
   ]
  },
  {
   "cell_type": "code",
   "execution_count": null,
   "metadata": {},
   "outputs": [],
   "source": [
    "\"\"\"\n",
    "#changing datatype of region_count\n",
    "movie_df['region_count'] = movie_df['region_count'].astype(int)"
   ]
  },
  {
   "cell_type": "code",
   "execution_count": null,
   "metadata": {},
   "outputs": [],
   "source": [
    "\"\"\"\n",
    "#changing column names\n",
    "movie_df.rename(columns={'title_x': 'title'}, inplace=True)\n",
    "movie_df.head()"
   ]
  },
  {
   "cell_type": "code",
   "execution_count": null,
   "metadata": {},
   "outputs": [],
   "source": [
    "\"\"\"\n",
    "#After merging, we save the final dataset for further EDA.\n",
    "movie_df.to_csv(\"merged_movie_imdb.csv\", index=False)"
   ]
  },
  {
   "cell_type": "markdown",
   "metadata": {},
   "source": [
    "### Merge imdb Database Tables(movie_akas and movie_basics)"
   ]
  },
  {
   "cell_type": "code",
   "execution_count": null,
   "metadata": {},
   "outputs": [],
   "source": [
    "# Read the movie basic table\n",
    "basic = pd.read_sql(\"\"\"SELECT *\n",
    "                FROM movie_basics;\n",
    "                \"\"\",conn)\n",
    "basic"
   ]
  },
  {
   "cell_type": "code",
   "execution_count": null,
   "metadata": {},
   "outputs": [],
   "source": [
    "# Read the movie akas table\n",
    "akas = pd.read_sql(\"\"\"SELECT *\n",
    "                FROM movie_akas;\n",
    "                \"\"\",conn)\n",
    "akas"
   ]
  },
  {
   "cell_type": "code",
   "execution_count": null,
   "metadata": {},
   "outputs": [],
   "source": [
    "# Merge the tables\n",
    "basic_akas_imdb = pd.merge(basic, akas, how='left', on=\"movie_id\")\n",
    "basic_akas_imdb"
   ]
  },
  {
   "cell_type": "code",
   "execution_count": null,
   "metadata": {},
   "outputs": [],
   "source": [
    "basic_akas_imdb.isna().sum()"
   ]
  },
  {
   "cell_type": "code",
   "execution_count": null,
   "metadata": {},
   "outputs": [],
   "source": [
    "# Select the wanted columns\n",
    "basic_akas = basic_akas_imdb[['movie_id', 'genres','title']]\n",
    "basic_akas"
   ]
  },
  {
   "cell_type": "code",
   "execution_count": null,
   "metadata": {},
   "outputs": [],
   "source": [
    "basic_akas.isna().sum()"
   ]
  },
  {
   "cell_type": "code",
   "execution_count": null,
   "metadata": {},
   "outputs": [],
   "source": [
    "# Drop null values\n",
    "basic_akas = basic_akas.dropna()\n",
    "basic_akas.isna().sum()"
   ]
  },
  {
   "cell_type": "code",
   "execution_count": null,
   "metadata": {},
   "outputs": [],
   "source": []
  },
  {
   "cell_type": "markdown",
   "metadata": {},
   "source": [
    "### combine tn_bom and basic_akas"
   ]
  },
  {
   "cell_type": "code",
   "execution_count": null,
   "metadata": {
    "scrolled": false
   },
   "outputs": [],
   "source": [
    "tn_bombasic_akas = pd.merge(tn_bom, basic_akas, how=\"inner\", on=\"title\")\n",
    "tn_bombasic_akas"
   ]
  },
  {
   "cell_type": "markdown",
   "metadata": {},
   "source": [
    "### Save the new dataset to csv"
   ]
  },
  {
   "cell_type": "code",
   "execution_count": null,
   "metadata": {},
   "outputs": [],
   "source": [
    "tn_bombasic_akas.to_csv(\"new_movie.csv\")"
   ]
  },
  {
   "cell_type": "markdown",
   "metadata": {},
   "source": [
    "### Merge The Numbers(tn) with imdb Database"
   ]
  },
  {
   "cell_type": "code",
   "execution_count": null,
   "metadata": {},
   "outputs": [],
   "source": [
    "# merge movie_basics and budget on movie and movie_title\n",
    "merged_tn_imdb = pd.merge(imdb, tn, left_on=\"movie_title\", right_on=\"title\", how=\"inner\")"
   ]
  },
  {
   "cell_type": "markdown",
   "metadata": {},
   "source": [
    "1. Separated and analyzed the 'Genre' column. \n",
    "2. Selecting the first listed genre as the primary genre for further analysis. \n",
    "3. Identified the top 5 genres that appeared most frequently with the highest ratings."
   ]
  },
  {
   "cell_type": "code",
   "execution_count": null,
   "metadata": {},
   "outputs": [],
   "source": [
    "# Using str.split() and str.get() to extract the first genre\n",
    "merged_tn_imdb['main_genre'] = merged_tn_imdb['genres'].str.split(',').str.get(0)\n",
    "merged_tn_imdb"
   ]
  },
  {
   "cell_type": "code",
   "execution_count": null,
   "metadata": {},
   "outputs": [],
   "source": [
    "# Split genres and expand them into separate rows using apply and pd.Series\n",
    "# Filter out None or NaN values before applying split\n",
    "merged_tn_imdb_exp = merged_tn_imdb['genres'].dropna().apply(lambda x: pd.Series(x.split(','))).stack().reset_index(level=1, drop=True)\n",
    "\n",
    "# Set the name of the expanded column\n",
    "merged_tn_imdb_exp.name = 'genres'\n",
    "\n",
    "# Join the expanded genres with the original dataframe\n",
    "merged_tn_imdb = merged_tn_imdb.drop('genres', axis=1).join(merged_tn_imdb_exp)\n",
    "\n",
    "# Verify the result\n",
    "merged_tn_imdb.head()"
   ]
  },
  {
   "cell_type": "code",
   "execution_count": null,
   "metadata": {},
   "outputs": [],
   "source": [
    "merged_tn_imdb.to_csv(\"tn_imbd.csv\")"
   ]
  },
  {
   "cell_type": "markdown",
   "metadata": {},
   "source": [
    "## OBJECTIVE 2\n",
    "\n",
    "\n",
    "Develop a regression model to predict box office profits based on the following key features:\n",
    "\n",
    "        1. Production Budget: The financial investment required to produce the film.\n",
    "\n",
    "        2. Genre: The category or type of movie (e.g., action, drama, comedy).\n",
    "\n",
    "        3. Runtime: The duration of the movie in minutes.\n",
    "\n",
    "        4. Release Date: The timing of the film's release, which may impact audience turnout.\n",
    "\n",
    "        5. Domestic Gross Revenue: The total revenue generated within the domestic market.\n",
    "\n",
    "        6. Worldwide Gross Revenue: The total revenue generated globally.\n",
    "\n",
    "        7. Foreign Gross Revenue: The revenue generated outside the domestic market.\n",
    "\n",
    "        8. Ratings: Audience and critic reviews, reflecting the perceived quality of the movie.\n",
    "\n",
    "        9. Number of Votes: The total number of ratings received, indicating audience engagement.\n",
    "\n",
    "This model aims to forecast profitability for upcoming projects, enabling the studio to make data-driven decisions regarding production, marketing, and release strategies."
   ]
  },
  {
   "cell_type": "markdown",
   "metadata": {},
   "source": [
    "# EDA/ Data Visualization"
   ]
  },
  {
   "cell_type": "markdown",
   "metadata": {},
   "source": [
    "#### Identifying high performing movie genres"
   ]
  },
  {
   "cell_type": "code",
   "execution_count": null,
   "metadata": {},
   "outputs": [],
   "source": [
    "#creatinf new column of total gross for a movie for analysis\n",
    "movie_df['total_gross'] = movie_df['domestic_gross'] + movie_df['worldwide_gross']"
   ]
  },
  {
   "cell_type": "code",
   "execution_count": null,
   "metadata": {},
   "outputs": [],
   "source": [
    "#cleaning the genre column to single values\n",
    "# 1.Split the genres by comma (,) to separate them into a list.\n",
    "# Split the genre by comma and keep the first genre, Select the first genre from each list and reassign\n",
    "movie_df['genres'] = movie_df['genres'].str.split(',').str[0]\n",
    "movie_df.genres.head(5)"
   ]
  },
  {
   "cell_type": "code",
   "execution_count": null,
   "metadata": {},
   "outputs": [],
   "source": [
    "# Understanding Genre Performance\n",
    "movie_df['genres'].value_counts().plot(kind='bar', title=\"Number of Movies per Genre\");"
   ]
  },
  {
   "cell_type": "code",
   "execution_count": null,
   "metadata": {},
   "outputs": [],
   "source": [
    "# Number of Movies per Genre:\n",
    "# Shows how frequently a genre is produced.\n",
    "# Calculation: df['genre'].value_counts()\n",
    "movie_df['genres'].value_counts()"
   ]
  },
  {
   "cell_type": "markdown",
   "metadata": {},
   "source": [
    "Helps identify which genres are most and least produced. Genre Most produced are Dramas"
   ]
  },
  {
   "cell_type": "markdown",
   "metadata": {},
   "source": [
    "### Revenue & Budget Distribution"
   ]
  },
  {
   "cell_type": "code",
   "execution_count": null,
   "metadata": {
    "scrolled": false
   },
   "outputs": [],
   "source": [
    "# Are revenues and budgets normally distributed? or not\n",
    "plt.figure(figsize=(12,5))\n",
    "\n",
    "# Revenue distribution\n",
    "plt.subplot(1,2,1)\n",
    "sns.histplot(movie_df['total_gross'], bins=30, kde=True, color='blue')\n",
    "plt.title(\"Revenue Distribution\")\n",
    "\n",
    "# Budget distribution\n",
    "plt.subplot(1,2,2)\n",
    "sns.histplot(movie_df['production_budget'], bins=30, kde=True, color='red')\n",
    "plt.title(\"Budget Distribution\")\n",
    "\n",
    "plt.show()"
   ]
  },
  {
   "cell_type": "markdown",
   "metadata": {},
   "source": [
    "Our data is right-skewed,common in datasets involving revenue and production budgets, as a small number of movies (blockbusters) tend to generate significantly higher revenues or have higher budgets compared to the majority.Most of the values are concentrated around the lower end of the range (e.g., smaller production budgets or lower revenues), while the tail on the right side represents a small number of movies with extraordinarily high values (e.g., blockbuster hits)."
   ]
  },
  {
   "cell_type": "code",
   "execution_count": null,
   "metadata": {},
   "outputs": [],
   "source": [
    "# Apply log transformation (adding a small constant to avoid log(0) if necessary)\n",
    "movie_df['log_production_budget'] = np.log(movie_df['production_budget'] + 1)\n",
    "movie_df['log_total_gross'] = np.log(movie_df['total_gross'] + 1)\n",
    "\n",
    "# Plot the log-transformed data\n",
    "plt.figure(figsize=(10, 6))\n",
    "plt.hist(movie_df['log_production_budget'], bins=30, edgecolor='black')\n",
    "plt.title('Log-Transformed Production Budget')\n",
    "plt.xlabel('Log of Production Budget')\n",
    "plt.ylabel('Frequency')\n",
    "plt.show()\n",
    "\n",
    "plt.figure(figsize=(10, 6))\n",
    "plt.hist(movie_df['log_total_gross'], bins=30, edgecolor='black')\n",
    "plt.title('Log-transformed total_gross')\n",
    "plt.xlabel('Log of total_gross')\n",
    "plt.ylabel('Frequency')\n",
    "plt.show()\n",
    "# Applying Log transformations  to handle this right-skewed data.\n",
    "# It compresses the higher values (long tail) and makes the data distribution more symmetric."
   ]
  },
  {
   "cell_type": "markdown",
   "metadata": {},
   "source": [
    "### Calculating profitability"
   ]
  },
  {
   "cell_type": "code",
   "execution_count": null,
   "metadata": {},
   "outputs": [],
   "source": [
    "# Remove dollar signs and commas, then convert to numeric for relevant columns\n",
    "tn['production_budget'] = tn['production_budget'].replace({'\\$': '', ',': ''}, regex=True).astype(float)\n",
    "tn['domestic_gross'] = tn['domestic_gross'].replace({'\\$': '', ',': ''}, regex=True).astype(float)\n",
    "tn['worldwide_gross'] = tn['worldwide_gross'].replace({'\\$': '', ',': ''}, regex=True).astype(float)\n",
    "\n",
    "# Check the data types to ensure proper conversion\n",
    "print(tn[['production_budget', 'domestic_gross', 'worldwide_gross']].dtypes)"
   ]
  },
  {
   "cell_type": "code",
   "execution_count": null,
   "metadata": {},
   "outputs": [],
   "source": [
    "# Calculating profit and profitability ratio using worldwide gross\n",
    "tn['profit'] = tn['worldwide_gross'] - tn['production_budget']\n",
    "tn['profitability_ratio'] = tn['worldwide_gross'] / tn['production_budget']"
   ]
  },
  {
   "cell_type": "markdown",
   "metadata": {},
   "source": [
    "### Correlation between budget and the World-wide gross(Revenue)"
   ]
  },
  {
   "cell_type": "code",
   "execution_count": null,
   "metadata": {},
   "outputs": [],
   "source": [
    "# Calculate correlation between budget and worldwide gross\n",
    "correlation = tn[['production_budget', 'worldwide_gross']].corr()\n",
    "print(correlation)"
   ]
  },
  {
   "cell_type": "markdown",
   "metadata": {},
   "source": [
    "correlation between production budget and worldwide gross is 0.7483 which indicates a strong positive relationship between the two variables.In general, movies with higher production budgets may tend to have higher worldwide gross earnings this means that production budget is an importantfactor in determining box office revenue ,although there are still variations to this"
   ]
  },
  {
   "cell_type": "code",
   "execution_count": null,
   "metadata": {},
   "outputs": [],
   "source": [
    "# Scatter plot with a line of best fit to visualize Budget vs Worldwide Gross\n",
    "plt.figure(figsize=(10, 6))\n",
    "sns.regplot(x='production_budget', y='worldwide_gross', data=tn, scatter_kws={'s': 50}, line_kws={'color': 'red', 'lw': 2})\n",
    "\n",
    "# Add labels and title\n",
    "plt.title('Production Budget vs Worldwide Gross (Revenue) with Line of Best Fit')\n",
    "plt.xlabel('Production Budget (in dollars)')\n",
    "plt.ylabel('Worldwide Gross (in dollars)')\n",
    "plt.show()"
   ]
  },
  {
   "cell_type": "markdown",
   "metadata": {},
   "source": [
    "There is a positive correlation of 0.748306 between production budget and World-wide gross (Revenue)"
   ]
  },
  {
   "cell_type": "code",
   "execution_count": null,
   "metadata": {},
   "outputs": [],
   "source": [
    "# Sort by profitability ratio\n",
    "high_profitability = tn.sort_values(by='profitability_ratio', ascending=False).head(10)\n",
    "print(high_profitability[['production_budget', 'worldwide_gross', 'profitability_ratio']])"
   ]
  },
  {
   "cell_type": "markdown",
   "metadata": {},
   "source": [
    "Lower budget films can sometimes out perform high budget films when it comes to profitability.this can be seen from the first film which has a budget of 25000 and has the highest profitability ratio.\n",
    "\n",
    "As budget increases ,there is also a tendency of having diminishing returns in the sense that despite increasing the production budget and having large revenues ,this profitability ratio may be small compared to smaller-budget films.\n",
    "\n",
    "This clearly shows that a higher production budget is not necessarily an indicator of higher profitability and there are other factors involved in achieving profitability"
   ]
  },
  {
   "cell_type": "code",
   "execution_count": null,
   "metadata": {},
   "outputs": [],
   "source": [
    "# Define budget ranges\n",
    "bins = [0, 1e6, 1e7, 5e7, 1e8, 5e8, 1e9]\n",
    "labels = ['$0-1M', '$1M-10M', '$10M-50M', '$50M-100M', '$100M-500M', '$500M+']\n",
    "tn['budget_range'] = pd.cut(tn['production_budget'], bins=bins, labels=labels)\n",
    "\n",
    "# Calculate the average revenue-to-budget ratio for each budget range\n",
    "tn['revenue_to_budget'] = tn['worldwide_gross'] / tn['production_budget']\n",
    "revenue_by_budget_range = tn.groupby('budget_range')['revenue_to_budget'].mean()\n",
    "print(revenue_by_budget_range)"
   ]
  },
  {
   "cell_type": "code",
   "execution_count": null,
   "metadata": {},
   "outputs": [],
   "source": [
    "# Box plot to visualize the distribution of worldwide gross across budget ranges\n",
    "plt.figure(figsize=(10, 6))\n",
    "sns.boxplot(x='budget_range', y='worldwide_gross', data=tn)\n",
    "plt.title('Revenue Distribution by Budget Range')\n",
    "plt.xlabel('budget_range')\n",
    "plt.ylabel('Worldwide Gross')\n",
    "plt.show()"
   ]
  },
  {
   "cell_type": "markdown",
   "metadata": {},
   "source": [
    "As the production budget increases, the revenue-to-budget ratio decreases. Larger-budget films, especially those in the $10M-100M range, are less efficient in turning budget into revenue.\n",
    "\n",
    "Moderate budgets films offer good return on Investment From the ranges in the 1M - 10M and\n",
    "10M-50M they have strong returns, although these returns become more variable as the budget grows."
   ]
  },
  {
   "cell_type": "code",
   "execution_count": null,
   "metadata": {},
   "outputs": [],
   "source": [
    "# Load the dataset\n",
    "file = \"new_movie.csv\"\n",
    "data = pd.read_csv(file)\n",
    "data"
   ]
  },
  {
   "cell_type": "code",
   "execution_count": null,
   "metadata": {},
   "outputs": [],
   "source": [
    "data['profitable_ratio'] = data['global_gross']/data['budget']\n",
    "data.info()"
   ]
  },
  {
   "cell_type": "markdown",
   "metadata": {},
   "source": [
    "### Univariate Analysis"
   ]
  },
  {
   "cell_type": "code",
   "execution_count": null,
   "metadata": {},
   "outputs": [],
   "source": [
    "# Summary statistics for numerical columns\n",
    "numerical_cols = ['budget', 'global_gross', 'profitable_ratio']\n",
    "print(data[numerical_cols].describe())\n",
    "# Histograms for numerical variables\n",
    "for col in numerical_cols:\n",
    "    plt.figure(figsize=(8, 4))\n",
    "    sns.histplot(data[col], bins=30, kde=True, color='skyblue')\n",
    "    plt.title(f'Distribution of {col.capitalize()}', fontsize=14)\n",
    "    plt.xlabel(col.capitalize())\n",
    "    plt.ylabel('Frequency')\n",
    "    plt.grid(axis='y', linestyle='--', linewidth=0.5)\n",
    "    plt.show()"
   ]
  },
  {
   "cell_type": "markdown",
   "metadata": {},
   "source": [
    "- Visualize the distribution of continuous variables like budget, global_gross, and profitability_ratio.\n",
    "- sns.histplot() adds a kernel density estimate (KDE) to show the distribution's shape"
   ]
  },
  {
   "cell_type": "markdown",
   "metadata": {},
   "source": [
    "### Bivariate Analysis"
   ]
  },
  {
   "cell_type": "markdown",
   "metadata": {},
   "source": [
    "### Key Metrics of Success\n",
    "\n",
    "To determine which genres perform best at the box office, consider these key metrics:"
   ]
  },
  {
   "cell_type": "markdown",
   "metadata": {},
   "source": [
    "### 1. Financial Metrics (Revenue-Based)"
   ]
  },
  {
   "cell_type": "markdown",
   "metadata": {},
   "source": [
    "#### Total & Average Revenue per Genre\n",
    "\n",
    "Helps Identifies top-earning genres. We are analyzing how the sum and average of the revenue vary across different genres, with each metric providing different insights"
   ]
  },
  {
   "cell_type": "code",
   "execution_count": null,
   "metadata": {},
   "outputs": [],
   "source": [
    "# 1. Financial Metrics (Revenue-Based)\n",
    "# Total Box Office Revenue: (Measures overall performance of a genre.)\n",
    "# The total revenue for each genre is the sum of the revenue generated by all movies in that genre.\n",
    "# This metric is helpful for understanding which genres, as a whole, contribute the most to overall revenue.\n",
    "# High total revenue can indicate that the genre has a large number of films (even if individual movies perform moderately) or that it has a few high-performing blockbusters that dom\n",
    "gross_by_genre = movie_df[['genres', 'total_gross']]\n",
    "gross_by_genre.groupby('genres').sum().sort_values(by='total_gross', ascending=False).head(5)"
   ]
  },
  {
   "cell_type": "code",
   "execution_count": null,
   "metadata": {},
   "outputs": [],
   "source": [
    "# Total Revenue gives you an idea of which genre is the most commercially successful overall.\n",
    "movie_df.groupby('genres')['total_gross'].sum().sort_values(ascending=False).plot\n",
    "(kind='bar', title=\"Total Revenue per Genre\")"
   ]
  },
  {
   "cell_type": "markdown",
   "metadata": {},
   "source": [
    "collectively, all the action movies in your dataset have earned the most money compared to movies in other genres. (This could be due to a large number of action movies, or the action movies themselves may have performed exceptionally well in terms of revenue.) High total revenue doesn't necessarily mean high average revenue. If a genre has a large number of films, but they are mostly lower-revenue films, the total revenue might be high, but the average revenue could still be low."
   ]
  },
  {
   "cell_type": "code",
   "execution_count": null,
   "metadata": {},
   "outputs": [],
   "source": [
    "# Average Revenue per Movie (Mean Gross):\n",
    "# Helps compare genres with different numbers of movies.\n",
    "# The average revenue is the mean of all revenue values within a genre.\n",
    "# This tells you how much a typical movie in that genre makes on average.\n",
    "# Calculation: total_revenue / number_of_movies_per_genre\n",
    "movie_df.groupby('genres')['total_gross'].mean().sort_values( ascending=False).head(5)"
   ]
  },
  {
   "cell_type": "code",
   "execution_count": null,
   "metadata": {},
   "outputs": [],
   "source": [
    "# Average Revenue helps you understand which genre produces higher-grossing \n",
    "# films on average, regardless of how many movies belong to that genre.\n",
    "movie_df.groupby('genres')['total_gross'].mean().sort_values(ascending=False).plot\n",
    "(kind='bar', title=\"Average Revenue per Genre\");"
   ]
  },
  {
   "cell_type": "markdown",
   "metadata": {},
   "source": [
    "The average is useful for understanding which genres typically perform well on an individual basis.\n",
    " A high average revenue suggests that the movies in that genre, on average, tend to perform well.If a genre has a low average revenue, it might indicate that while the genre has a few successful films, most films underperform.Average revenue is more stable than total revenue since it accounts for the number of movies and helps isolate the performance of typical films in each genre\n",
    "\n",
    " indicates that, on average, each sci-fi movie has earned more than other genres. **Action** movies may be more numerous  boosting their total revenue.**Sci-fi** movies, although fewer, may have a few high-performing films that push the average revenue higher."
   ]
  },
  {
   "cell_type": "markdown",
   "metadata": {},
   "source": [
    "### Median Revenue per Genre:"
   ]
  },
  {
   "cell_type": "markdown",
   "metadata": {},
   "source": [
    "The median (represents the middle value when all revenues within a genre are sorted), itis less sensitive to outliers than the mean, providing a better measure of central tendency for data with skewness or extreme values. If certain genres (Mystery,Action,Adventure,Western,Sci-fi) have higher median revenue values compared to others, it suggests that these genres are more likely to generate higher revenues on average. Genres with low or consistent median revenue might indicate that these genres do not perform as well financially, or that movies in these genres are more likely to have lower or similar revenue outcomes, indicating that these films tend to attract smaller audiences or have niche markets."
   ]
  },
  {
   "cell_type": "code",
   "execution_count": null,
   "metadata": {},
   "outputs": [],
   "source": [
    "# Reduces the effect of outliers (huge blockbusters vs. small films).\n",
    "# Calculation: df.groupby('genre')['total_revenue'].median()\n",
    "movie_df.groupby('genres')['total_gross'].median().sort_values(ascending=False).plot(kind='bar', title=\"Median Revenue per Genre\");"
   ]
  },
  {
   "cell_type": "markdown",
   "metadata": {},
   "source": [
    "The median revenue values for each genre will tell you the central tendency of the revenue within that genre. Genres with a high median value suggest that the typical movie in that genre performs well financially."
   ]
  },
  {
   "cell_type": "markdown",
   "metadata": {},
   "source": [
    "#### Outliers and Revenue Distribution\n",
    "\n",
    "Even though the median is robust against extreme values, we went a step further to investigate the distribution within each genre (top 3 and bottom 3) using Boxplots or histograms to reveal if a genre has a wide range of revenue, where a few movies in the genre might perform extremely well (outliers).\n",
    "\n",
    "A high median with large variation could suggest that while most movies in the genre perform well, there are some extremely high-performing outliers."
   ]
  },
  {
   "cell_type": "code",
   "execution_count": null,
   "metadata": {},
   "outputs": [],
   "source": [
    "# Calculate median total gross revenue per genre\n",
    "median_revenue_per_genre = movie_df.groupby('genres')['total_gross'].median().sort_values(ascending=False)\n",
    "\n",
    "# Get top 3 and bottom 3 genres based on median total revenue\n",
    "top_5_genres = median_revenue_per_genre.head(5).index\n",
    "bottom_2_genres = median_revenue_per_genre.tail(2).index\n",
    "\n",
    "# Filter the DataFrame for the top 3 and bottom 3 genres\n",
    "top_bottom_genres_df = movie_df[movie_df['genres'].isin(top_3_genres.append(bottom_3_genres))]\n",
    "\n",
    "# Set up the plotting area\n",
    "plt.figure(figsize=(14, 7))\n",
    "\n",
    "# Plot the distribution of total gross for top 3 genres\n",
    "plt.subplot(1, 2, 1)\n",
    "sns.boxplot(x='genres', y='total_gross', data=top_bottom_genres_df, palette='coolwarm')\n",
    "plt.title('Top 5 and Bottom 2 Genres - Boxplot')\n",
    "plt.xlabel('Genre')\n",
    "plt.ylabel('Total Gross')\n",
    "plt.xticks(rotation=45)\n",
    "plt.show()\n",
    "plt.savefig('revenue_distribution_per_genre.png', dpi=300);"
   ]
  },
  {
   "cell_type": "markdown",
   "metadata": {},
   "source": [
    "This boxplot visualizes the total gross revenue of movies across various genres, focusing on the top 5 high-performing genres (Action, Adventure, Sci-Fi, Mystery) and the bottom 2 genres (Western, History, Musical).\n",
    "\n",
    "Numerous outliers are visible above the whiskers, indicating the presence of a few movies that performed exceptionally well.\n",
    "\n",
    "1. Identifying High-Performing Genres: Action, Adventure, and Sci-Fi have the largest median revenues compared to other genres, suggesting consistent performance at the box office. These genres also display numerous outliers above the upper whisker, indicating that a few movies significantly outperformed their peers, contributing to their high overall revenue. Mystery follows as a relatively strong performer but shows less variation compared to the top 3 genres. These genres could be considered high-performing because of both their high medians and presence of blockbuster outliers.\n",
    "\n",
    "2. Outliers and Revenue Distribution: The Action and Adventure genres exhibit the widest range in revenue, with many outliers in the upper range. This suggests a mix of moderately performing movies and a few exceptional box office hits driving the genre's overall performance. Sci-Fi also has notable variation, but its distribution appears slightly more centralized than Action and Adventure (this can be because there are only 29 sci-fi films in the dataset). Mystery shows moderate variability with fewer extreme outliers, suggesting it is less reliant on blockbusters for its median performance. In contrast, Western, History, and Musical show much smaller revenue distributions, with low medians and fewer outliers. These genres consistently underperform relative to the top genres.\n",
    "\n",
    "3. Recommendations for Investigating Further: Action and Adventure genres should be analyzed to understand what factors contribute to the outliers (e.g., franchise movies, high budgets, specific directors). Investigate the correlation between production budgets and box office success in Sci-Fi movies to determine if higher spending consistently leads to better performance. Consider genre combinations or trends (e.g., Sci-Fi Adventure) to pinpoint patterns that contribute to high revenues. Study the performance of niche genres like Mystery to explore their potential for profitability in specific markets."
   ]
  },
  {
   "cell_type": "markdown",
   "metadata": {},
   "source": [
    "###  Revenue Distribution per Genre:"
   ]
  },
  {
   "cell_type": "code",
   "execution_count": null,
   "metadata": {},
   "outputs": [],
   "source": [
    "# Understanding variability within genres.\n",
    "# Calculation: df.groupby('genre')['total_revenue'].describe()\n",
    "movie_df.groupby('genres')['total_gross'].describe()"
   ]
  },
  {
   "cell_type": "markdown",
   "metadata": {},
   "source": [
    "The table provides summary statistics for total gross revenue per genre, helping us understand variability, skewness, and revenue trends in the movie industry.\n",
    "\n",
    "Key Observations\n",
    "1. **Highest-Grossing Genres (on Average)**\n",
    "Sci-Fi (225M), Adventure (221M), and Action (210M) have the highest mean revenues, indicating they are generally profitable.\n",
    "These genres also have high standard deviations, meaning revenue varies widely (some movies perform exceptionally well, while others underperform).\n",
    "Maximum values for these genres reach into the billions, suggesting blockbuster hits.\n",
    "2.  **High Variability Genres(Large Standard Deviation)**\n",
    "Action, Adventure, and Horror exhibit large standard deviations (300M+), meaning revenues within these genres are highly inconsistent.\n",
    "These genres often have big-budget hits and major flops.\n",
    "The max revenue for Horror (3.5B) is an outlier, possibly due to a single extraordinarily successful film.\n",
    "3.  **More Consistent Genres (Lower Standard Deviation)**\n",
    "Documentary (179M), Biography (178M), and Comedy (144M) have lower standard deviations, meaning revenue distribution is more predictable.\n",
    "The revenue differences within these genres are relatively smaller, and extreme hits are rarer.\n",
    "4.  **Right-Skewed Distributions (Mean > Median)**\n",
    "Action, Adventure, and Horror have means much higher than their medians, indicating a right-skewed distribution.\n",
    "A few blockbuster movies drive up the mean, while most movies earn significantly less.\n",
    "5.  **Genres with Low Revenue and Small Sample Sizes**\n",
    "Musical, Sport, and War genres have very few movies (≤ 3 entries), making their revenue stats less reliable.\n",
    "Western (2 movies) and History (2 movies) have low counts, meaning any outliers have a major effect on the mean.\n",
    "The War genre has only one movie, so the standard deviation is NaN (not applicable).\n",
    "6.  **The Impact of Outliers**\n",
    "Horror: Despite a median revenue of 40M, its mean is 110M, and its max is 3.5B—indicating a massive blockbuster affecting the average.\n",
    "Action: Has a max of 2.9B, pulling the mean upwards even though its median is only 83M.\n",
    "Final Insights\n",
    "Action, Adventure, and Sci-Fi are the highest-earning genres on average, but their revenue is highly variable.\n",
    "Horror has a few extremely high-grossing films, but most movies make significantly less than the top performers.\n",
    "Comedy and Drama have more stable revenues, meaning earnings in these genres are more predictable.\n",
    "The median is a better measure than the mean for skewed distributions like Action and Horror, where a few massive hits distort the average.\n",
    "Genres with low sample sizes (Sport, Musical, War, Western) need careful interpretation, as their statistics may not be reliable."
   ]
  },
  {
   "cell_type": "code",
   "execution_count": null,
   "metadata": {},
   "outputs": [],
   "source": [
    "# Boxplot: Revenue Distribution per Genre\n",
    "plt.figure(figsize=(14, 6))\n",
    "sns.boxplot(data=movie_df, x=movie_df.genres, y=movie_df.total_gross, showfliers=True)\n",
    "plt.xticks(rotation=90)\n",
    "plt.yscale('log')  # Using log scale to better visualize differences\n",
    "plt.title(\"Revenue Distribution per Genre\")\n",
    "plt.xlabel(\"Genres\")\n",
    "plt.ylabel(\"Total Gross Revenue (Log Scale)\")\n",
    "plt.show()"
   ]
  },
  {
   "cell_type": "markdown",
   "metadata": {},
   "source": [
    "### Revenue vs. Budget (Does Spending More Lead to Higher Earnings?)"
   ]
  },
  {
   "cell_type": "markdown",
   "metadata": {},
   "source": [
    "scatter plot or correlation analysis between total revenue and production budget helps us determine whether higher spending leads to higher earning"
   ]
  },
  {
   "cell_type": "code",
   "execution_count": null,
   "metadata": {},
   "outputs": [],
   "source": [
    "sns.scatterplot(x=movie_df['production_budget'], y=movie_df['total_gross'], alpha=0.5)\n",
    "plt.title(\"Production Budget vs. Revenue\")\n",
    "plt.xlabel(\"Production Budget\")\n",
    "plt.ylabel(\"Total Revenue\")\n",
    "plt.show()"
   ]
  },
  {
   "cell_type": "code",
   "execution_count": null,
   "metadata": {},
   "outputs": [],
   "source": [
    "movie_df.production_budget.corr(movie_df.total_gross)"
   ]
  },
  {
   "cell_type": "markdown",
   "metadata": {},
   "source": [
    "A positive correlation (higher budget → higher revenue). The plot displays a positive correlation between production budget and total revenue. As the production budget increases, the total revenue tends to increase as well. However, the correlation is not perfectly linear—there is noticeable spread in the data points.\n",
    "\n",
    "Detailed Analysis:\n",
    "\n",
    "**Strong clustering at lower budgets**:\n",
    "\n",
    "A significant number of movies have low production budgets (under 50 million), and their revenues are spread widely, ranging from minimal to moderately high revenue. This indicates that a low-budget movie can either underperform or occasionally achieve high revenue, but the latter is less frequent.\n",
    "\n",
    "**High-budget outliers**:\n",
    "\n",
    "Movies with production budgets exceeding 200 million tend to generate much higher revenues, often surpassing $1 billion. These are likely blockbuster movies with significant marketing and franchise value (e.g., superhero movies, sequels).\n",
    "\n",
    "**Diminishing returns**:\n",
    "\n",
    "While higher budgets often result in higher revenues, the relationship appears to plateau at very high budgets (e.g., above 300 million). Beyond this point, increasing the budget does not guarantee a proportional increase in revenue."
   ]
  },
  {
   "cell_type": "code",
   "execution_count": null,
   "metadata": {},
   "outputs": [],
   "source": [
    "# Boxplot: Distribution of Production Cost per Genre\n",
    "# A boxplot shows the spread of production costs within each genre and highlights outliers.\n",
    "plt.figure(figsize=(14, 6))\n",
    "sns.boxplot(data=movie_df, x=movie_df.genres, y=movie_df.production_budget, showfliers=True)\n",
    "plt.xticks(rotation=90)\n",
    "plt.yscale('log')  # Log scale to improve visibility of variations\n",
    "plt.title(\"Production Budget Distribution per Genre\")\n",
    "plt.xlabel(\"Genre\")\n",
    "plt.ylabel(\"Production Budget (Log Scale)\")\n",
    "plt.show()"
   ]
  },
  {
   "cell_type": "markdown",
   "metadata": {},
   "source": [
    "Outliers (dots above the whiskers) represent exceptionally high-budget films.\n",
    "\n",
    "The medians (middle line in the box) do not vary significantly across the genres, suggesting that some genres have consistently higher production costs."
   ]
  },
  {
   "cell_type": "code",
   "execution_count": null,
   "metadata": {},
   "outputs": [],
   "source": [
    "# Bar Chart: Average Production Cost per Genre\n",
    "# This shows the mean production budget for each genre.\n",
    "avg_budget = movie_df.groupby('genres')['production_budget'].mean().sort_values()\n",
    "plt.figure(figsize=(14, 6))\n",
    "sns.barplot(x=avg_budget.index, y=avg_budget.values, palette=\"coolwarm\")\n",
    "plt.xticks(rotation=90)\n",
    "plt.title(\"Average Production Budget per Genre\")\n",
    "plt.xlabel(\"Genre\")\n",
    "plt.ylabel(\"Average Production Budget\")\n",
    "plt.show();"
   ]
  },
  {
   "cell_type": "markdown",
   "metadata": {},
   "source": [
    "Higher bars indicate genres with larger average production costs.\n",
    "\n",
    "genres like Action, Sci-Fi, Adventure, Western has the highest bars, it suggests big-budget productions are common in these genres.\n",
    "\n",
    "Lower bars (e.g. musical, History) suggest most movies in these genres are low-budget."
   ]
  },
  {
   "cell_type": "markdown",
   "metadata": {},
   "source": [
    "### 2. Popularity & Market Share"
   ]
  },
  {
   "cell_type": "code",
   "execution_count": null,
   "metadata": {},
   "outputs": [],
   "source": [
    "# Rating vs. Revenue\n",
    "# Do highly-rated movies earn more? Helps determine if ratings impact revenue.\n",
    "sns.scatterplot(x=movie_df['averagerating'], y=movie_df['total_gross'])\n",
    "plt.title(\"IMDb Rating vs. Revenue\")\n",
    "plt.xlabel(\"IMDb Rating\")\n",
    "plt.ylabel(\"Total Revenue\")\n",
    "plt.show()"
   ]
  },
  {
   "cell_type": "markdown",
   "metadata": {},
   "source": [
    "**Trend:**\n",
    "\n",
    "There is a general upward trend, indicating that movies with higher ratings tend to earn more revenue. However, this relationship is not perfectly linear, as some low-rated movies also earn significant revenue.\n",
    "Clusters:\n",
    "\n",
    "**Many movies with moderate ratings (around 5 to 7) cluster in the lower revenue range**.\n",
    "A smaller number of movies with very high ratings (8 or above) achieve much higher revenue levels.\n",
    "Outliers:\n",
    "\n",
    "A **few movies with exceptional revenue (above $3 billion) have relatively high ratings (7 to 8)**.\n",
    "\n",
    "The plot aims to investigate whether highly-rated movies earn more revenue, helping determine the impact of ratings on box office success. While higher ratings generally correspond to higher revenue, other factors (e.g., marketing, genre, and production budget) likely also play a significant role."
   ]
  },
  {
   "cell_type": "code",
   "execution_count": null,
   "metadata": {},
   "outputs": [],
   "source": [
    "# Correlation Analysis\n",
    "# Calculate the Pearson correlation coefficient between ratings and revenue:\n",
    "movie_df['averagerating'] = movie_df['averagerating'].astype(float)\n",
    "movie_df[['averagerating', 'total_gross']].corr().iloc[0, 1]"
   ]
  },
  {
   "cell_type": "markdown",
   "metadata": {},
   "source": [
    "The Pearson correlation coefficient measures the linear relationship between ratings and revenue:\n",
    "\n",
    "**r > 0**: There is a positive correlation; higher-rated movies tend to have higher revenue.\n",
    "\n",
    "**r = 0**: No linear relationship between ratings and revenue.\n",
    "\n",
    "**r < 0**: There is a negative correlation; higher-rated movies tend to have lower revenue.\n",
    "\n",
    " **0.071289** indicates a very weak positive correlation between movie ratings (averagerating) and total revenue (total_gross).\n",
    "\n",
    " Correlation value close to 0 suggests that there is almost no linear relationship between the two variables. In other words, movie ratings have very little impact on total revenue.\n",
    "\n",
    " The small positive value (0.07) shows that there may be a slight tendency for higher-rated movies to have slightly higher revenues, but this relationship is weak and not very significant.\n",
    "\n",
    " The weak correlation suggests that other factors (such as marketing, genre, cast, etc.) might have a much larger impact on revenue than the movie ratings alone"
   ]
  },
  {
   "cell_type": "markdown",
   "metadata": {},
   "source": [
    "### Market Share per Genre:"
   ]
  },
  {
   "cell_type": "code",
   "execution_count": null,
   "metadata": {},
   "outputs": [],
   "source": [
    "# How much revenue each genre contributes to total earnings.\n",
    "# Calculate total revenue\n",
    "total_revenue = movie_df['total_gross'].sum()\n",
    "\n",
    "# Calculate total revenue per genre\n",
    "genre_revenue = movie_df.groupby('genres')['total_gross'].sum()\n",
    "\n",
    "# Calculate market share per genre\n",
    "market_share = (genre_revenue / total_revenue) * 100\n",
    "\n",
    "# Sort market share in descending order\n",
    "market_share_sorted = market_share.sort_values(ascending=False)\n",
    "\n",
    "# Plotting\n",
    "market_share_sorted.plot(kind='barh', color='lightcoral', figsize=(10, 6))\n",
    "plt.title('Market Share per Genre')\n",
    "plt.xlabel('Market Share (%)')\n",
    "plt.ylabel('Genre')\n",
    "plt.show()\n",
    "\n",
    "# Print market share\n",
    "print(market_share_sorted)"
   ]
  },
  {
   "cell_type": "markdown",
   "metadata": {},
   "source": [
    "The chart will show how much each genre contributes to the total box office revenue, with larger bars representing genres with higher market share.\n",
    "\n",
    "Genres like **Action,Drama,Adventure,Comedy** dominate the market, while others, like **History,War,Musical,Sport,Western** had the smallest share.\n",
    "\n",
    "This provides insight into which genres are more commercially successful and which are underrepresented."
   ]
  },
  {
   "cell_type": "markdown",
   "metadata": {},
   "source": [
    "### 3. Budget & Profitability Metrics"
   ]
  },
  {
   "cell_type": "markdown",
   "metadata": {},
   "source": [
    "**ROI (Return on Investment)** is a financial metric used to evaluate the profitability or effectiveness of an investment relative to its cost. It measures how much profit or gain you make from an investment compared to the initial amount you invested.\n",
    "\n",
    "We will analyze both the **Worldwide ROI** and **Box Office ROI** and to get a full picture of immediate and long-term profitability for different genres.\n",
    "\n",
    "A positive ROI indicates that the investment has made a profit.\n",
    "A negative ROI indicates that the investment has resulted in a loss.\n",
    "The higher the ROI, the more profitable the investment is.\n",
    "\n",
    "**Key Differences in Interpretation:**\n",
    "\n",
    "**Revenue Focus:**\n",
    "\n",
    "Worldwide Gross ROI:\n",
    "\n",
    "Focuses on **all sources of revenue** (box office, streaming, merchandising, etc.). A high ROI here might indicate strong cross-platform success.\n",
    "\n",
    "*Box Office ROI:*\n",
    "\n",
    "**Focuses solely on box office performance.** A high ROI here reflects strong theater success relative to the movie's budget.\n",
    "\n",
    "**Granularity:**\n",
    "\n",
    "*Worldwide ROI:*\n",
    "\n",
    "Calculated at the individual movie level, then aggregated to genres.\n",
    "\n",
    "*Box Office ROI:*\n",
    "\n",
    "Calculated at the genre level directly (after averaging ROI for each movie within a genre).\n",
    "\n",
    "**Profitability in Broader vs. Specific Contexts:**\n",
    "\n",
    "*Worldwide Gross ROI:*\n",
    "\n",
    "Useful for **understanding overall profitability across all revenue channels**. It may indicate whether a genre is benefiting from ongoing revenue after release (e.g., through DVD or streaming sales).\n",
    "\n",
    "*Box Office ROI*:\n",
    "\n",
    "Useful for **understanding the immediate success of a movie in theaters**. It helps gauge how well the genre performs in the cinematic market.\n",
    "\n",
    "**Long-term vs. Immediate Returns:**\n",
    "\n",
    "*Worldwide Gross ROI:*\n",
    "\n",
    "Can **indicate long-term profitability**, considering ongoing revenue sources beyond the box office (streaming, TV, DVD sales, etc.).\n",
    "\n",
    "*Box Office ROI: *\n",
    "\n",
    "**Provides a snapshot of the immediate return on investment from theaters alone**.\n"
   ]
  },
  {
   "cell_type": "markdown",
   "metadata": {},
   "source": [
    "## **WorldWide ROI**\n",
    "\n",
    "**Focus:** This approach **measures how profitable each individual movie is in terms of its total earnings** (revenue from all sources, such as box office, streaming, etc.) relative to its production budget, it includes not just box office revenue but also other sources such as DVD sales, streaming, merchandise, and licensing deals.\n",
    "\n",
    "**High ROI**: If a genre has a high ROI, it means that movies in that genre are generating much more income than their production budgets across all revenue sources and might indicate that these movies tend to perform well across multiple platforms (theater, TV, streaming, and merchandising), not just in theaters.\n",
    "\n",
    "**Low or Negative ROI**: A negative or low ROI for a genre means that, on average, movies in that genre are not covering their production costs, considering all sources of revenue. This might suggest that the genre is failing to attract enough attention across all revenue channels to justify its production budget.\n",
    "\n",
    "The ROI calculated here is based on the **global earnings or worldwide gross**, which includes all the revenue sources for the movie.\n",
    "\n",
    "**Use Case:** It's useful for assessing the **overall profitability** of each movie and, when aggregated, gives insights into how the entire genre is performing in terms of return on its production costs.(in the broader context of a movie's entire revenue generation, not just in theaters.)\n",
    "\n",
    "**It can help you determine which genres are successful in multiple revenue streams.**"
   ]
  },
  {
   "cell_type": "code",
   "execution_count": null,
   "metadata": {},
   "outputs": [],
   "source": [
    "# Return on Investment (ROI):\n",
    "# Shows how profitable a genre is\n",
    "# Calculate ROI\n",
    "movie_df['roi'] = (movie_df['worldwide_gross'] - movie_df['production_budget']) / movie_df['production_budget']\n",
    "\n",
    "# Group by genre and calculate the mean ROI\n",
    "mean_roi_per_genre = movie_df.groupby('genres')['roi'].mean().sort_values(ascending=False)\n",
    "\n",
    "# Plotting\n",
    "mean_roi_per_genre.plot(kind='barh', color='lightgreen', figsize=(10, 6))\n",
    "plt.title('Return on Investment (ROI) per Genre')\n",
    "plt.xlabel('Average ROI')\n",
    "plt.ylabel('Genre')\n",
    "plt.show()\n",
    "\n",
    "# Print mean ROI per genre\n",
    "print(mean_roi_per_genre)"
   ]
  },
  {
   "cell_type": "markdown",
   "metadata": {},
   "source": [
    "The **ROI tells us how profitable a genre is relative to its production budget. A higher ROI means the genre is more profitable.**\n",
    "\n",
    "1. For example, if Adventure has an ROI of 6.801783, it means, on average, for every dollar spent on production, Action movies make 6.8 dollars in gross revenue.\n",
    "\n",
    "2. Conversely, a genre like Music with an ROI of 1.3 would mean that for every dollar spent, only 80 cents is returned, indicating lower profitability.\n",
    "\n",
    "3. If ROI (Return on Investment) is negative e.g. history with -0.8 , it indicates that the investment has resulted in a loss, meaning that the revenue or returns generated from the investment are less than the initial cost. Loss of Investment: A negative ROI means that the movie (or any investment) was not profitable. It generated less revenue than the initial cost, resulting in a loss. Business Implications: A negative ROI can be concerning, especially in the context of movie production, where high production budgets are common. It suggests that the movie did not perform well at the box office or did not recover its production costs through other revenue channels\n",
    "\n",
    "4. Negative Impact on Genre or Franchise: If a genre consistently shows a negative ROI, it might indicate that movies in that genre are, on average, not producing sufficient returns, leading studios or investors to reconsider their future investments in that genre.\n",
    "**A negative ROI is a red flag that signals an unprofitable investmen**\n",
    "\n",
    "Genres with **high average ROI** e.g.\n",
    "\n",
    "Adventure - 6.801783\n",
    "\n",
    "Horror - 5.385776\n",
    "\n",
    "Fantasy - 4.431837\n",
    "\n",
    "are likely producing profitable movies relative to their budgets.\n",
    "\n",
    "While genres with **lower ROI** \\are less efficient in terms of returns.\n",
    "\n",
    "Musical - (-0.332265)\n",
    "\n",
    "Sport - (-0.362080)\n",
    "\n",
    "Western - (-0.524518)\n",
    "\n",
    "History - (-0.785259)"
   ]
  },
  {
   "cell_type": "markdown",
   "metadata": {},
   "source": [
    " ## Box Office ROI\n",
    "\n",
    "This ROI measures the profitability of movies based on just their box office revenue relative to the production budget.\n",
    "\n",
    "Provides a focused view of how well a genre performs in theaters\n",
    "\n",
    "**High ROI:** If a genre has a high ROI from box office earnings, it indicates that movies in that genre are performing **exceptionally well** in theaters compared to their production costs. This is especially important for studios or investors concerned about the financial performance in cinemas, as **it directly measures the return on the money spent in movie production**.\n",
    "\n",
    "Example: If Action movies have a high ROI from the box office, it could mean that action-packed blockbusters tend to draw large audiences to theaters and have high ticket sales relative to their production budgets.\n",
    "\n",
    "**Low or Negative ROI:** A low or negative ROI for a genre indicates that, on average, movies in that genre are not generating enough box office revenue to justify their production costs. This can be an important indicator of a genre that is underperforming in theaters.\n",
    "\n",
    " If Horror movies have low ROI, it **might** mean that while **some horror films do well in theaters, many may not perform sufficiently well to cover their production costs.**\n",
    "\n",
    "**Use Case:**\n",
    "\n",
    "This ROI is important if you are specifically concerned with the box office performance of movies. It helps you assess how a genre is performing in theaters alone, which can be useful for making decisions about marketing and releasing movies.\n",
    "\n",
    "**Studios and investors may prioritize this ROI because box office performance is often a key factor in a movie's initial financial success.**"
   ]
  },
  {
   "cell_type": "code",
   "execution_count": null,
   "metadata": {},
   "outputs": [],
   "source": [
    "# Calculate Box Office ROI\n",
    "movie_df['roi'] = (movie_df['total_gross'] - movie_df['production_budget']) / movie_df['production_budget']\n",
    "\n",
    "# Group by genre and calculate the mean ROI\n",
    "roi_per_genre = movie_df.groupby('genres')['roi'].mean().sort_values(ascending=False)\n",
    "\n",
    "# Display the ROI table\n",
    "print(roi_per_genre)"
   ]
  },
  {
   "cell_type": "markdown",
   "metadata": {},
   "source": [
    "Box Office ROI is more Focused on **box office earnings**, which **may not fully reflect the true profitability of a movie or genre** (especially if other revenue sources are significant\n",
    "\n",
    "## Interpretation of Box Office ROI:\n",
    "\n",
    "Positive Box Office ROI:\n",
    "\n",
    "**High ROI (> 1 or > 100%):** If the ROI is greater than 1 (or 100%), the movie made more than the initial investment, which is a strong indication that the movie was financially successful. For example, if a movie has a Box Office ROI of 3.85 (in millions), it means that for every dollar spent on production, the movie earned 3.85 dollars from the box office.\n",
    "\n",
    "**Moderate ROI (~ 1 or 100%):** An ROI close to 1 means that the movie broke even. It did not make a huge profit, but it didn't lose money either.\n",
    "\n",
    "**Low ROI (0 - 1):** A low ROI means the movie barely made back its production costs from the box office. For instance, a Box Office ROI of 0.5 means the movie earned only 50% of its production budget, which is not ideal for profitability.\n",
    "\n",
    "**Negative ROI (< 0 or < 0%):**\n",
    "\n",
    "Negative ROI: If the ROI is negative, it means the movie's box office gross didn't even cover its production budget. A Box Office ROI of -0.5 would indicate the movie made only half of its production cost back, and it’s considered a financial failure.\n",
    "\n",
    "This can occur due to poor box office performance, lack of audience interest, competition from other films, bad marketing, or even a poorly executed movie."
   ]
  },
  {
   "cell_type": "markdown",
   "metadata": {},
   "source": [
    "**How to Use These ROIs Together:**\n",
    "\n",
    "**1. Strategic Planning:**\n",
    "\n",
    "*Worldwide ROI*\n",
    "\n",
    "can help determine which genres have a stronger overall financial performance, especially if you plan on pursuing long-term revenue from movies beyond the box office.\n",
    "\n",
    "*Box Office ROI*\n",
    "\n",
    "Helps understand the immediate cinematic success of a movie(e.g.Adventure films), which is crucial when planning marketing strategies or targeting specific demographics in theaters.\n",
    "\n",
    "**2. Genre Selection for Production:**\n",
    "\n",
    "If a genre has a high **box office ROI**, it could indicate a strong candidate for future theatrical releases (e.g., action movies).\n",
    "\n",
    "If a genre has **high worldwide gross ROI**, it might mean that the genre has good long-term revenue potential across all platforms (e.g., animation or superhero genres that thrive in merchandise and streaming)\n",
    "\n",
    "Worldwide ROI is more comprehensive, capturing the overall profitability across all revenue sources, while Box Office ROI provides a focused view of how well a genre performs in theaters. By analyzing both, you can get a full picture of immediate and long-term profitability for different genres."
   ]
  },
  {
   "cell_type": "code",
   "execution_count": null,
   "metadata": {},
   "outputs": [],
   "source": [
    "world_vs_box_office_roi = pd.concat([mean_roi_per_genre, roi_per_genre], axis=1)\n",
    "world_vs_box_office_roi.columns = ['Worldwide ROI', 'Box Office ROI']\n",
    "world_vs_box_office_roi.sort_values(by='Box Office ROI', ascending=False)"
   ]
  },
  {
   "cell_type": "markdown",
   "metadata": {},
   "source": [
    "Given your objective of identifying high-performing movie genres by analyzing their relationship with box office performance:\n",
    "\n",
    "1. Interpretation of Genres by ROI\n",
    "\n",
    "*Genres with **High Worldwide** ROI:*\n",
    "\n",
    "**Adventure (Worldwide ROI: 6.80)**: Adventure films perform extremely well in terms of worldwide gross, indicating strong overall profitability. They have robust performance across multiple revenue sources, not just the box office. These movies likely perform well in streaming, merchandising, and syndication. Action-adventure franchises like superhero movies fall under this category, which thrive beyond the theater in terms of merchandise and long-term revenue.\n",
    "\n",
    "**Horror (Worldwide ROI: 5.39):** Horror films also show high worldwide returns, suggesting strong performance beyond just the box office. They can gain significant value from streaming platforms and often generate additional revenue from home sales, making them strong candidates for long-term financial success.\n",
    "\n",
    "**Fantasy (Worldwide ROI: 4.43):** Fantasy films also perform well on a global scale. These films tend to be highly profitable not just in theaters but also in merchandise, video games, and franchise extensions. Examples include films from the Lord of the Rings or Harry Potter universes.\n",
    "\n",
    "*Genres with **High Box Office** ROI:*\n",
    "\n",
    "**Adventure (Box Office ROI: 12.85):** Adventure films have a massive immediate box office impact, generating substantial returns in theaters. This makes them ideal for big-budget productions with high marketing spends, aiming for a broad audience appeal in cinemas.\n",
    "\n",
    "**Horror (Box Office ROI: 9.22):** Horror films show a very strong immediate return on investment, especially when produced with a modest budget. They often achieve profitability through word of mouth and low-cost production, making them high-return in terms of box office earnings.\n",
    "\n",
    "**Fantasy (Box Office ROI: 6.83):** Fantasy films, while not as high as adventure or horror, still perform very well in theaters, showing that these genres can attract large audiences and have good box office potential despite their usually high production costs.\n",
    "\n",
    "\n",
    "*Genres with **Lower Performance** (both Worldwide and Box Office):*\n",
    "\n",
    "**Music (Worldwide ROI: 1.25, Box Office ROI: 2.92):** While music genres have a relatively low worldwide ROI, they still perform decently in theaters. However, they might not generate substantial profits beyond the box office, making them more niche genres.\n",
    "\n",
    "**War (Worldwide ROI: -0.25, Box Office ROI: 0.51):** War films perform poorly both globally and at the box office. The low worldwide ROI suggests that, even if they perform decently in theaters, they do not generate much revenue from other sources like streaming or merchandise.\n",
    "\n",
    "**Sport (Worldwide ROI: -0.36, Box Office ROI: 0.22):** Sport films are also low performers in both categories, with poor box office returns and limited worldwide appeal. Their audience tends to be niche, focused primarily on the theater experience, which limits their profitability.\n",
    "\n",
    "**Conclusion and Recommendations:**\n",
    "\n",
    "Based on these results, the following genres should be prioritized for production due to their high performance across both box office and global profitability:\n",
    "\n",
    "1. Adventure (Strong immediate box office returns and long-term profitability)\n",
    "2. Horror (High box office returns with strong worldwide success)\n",
    "3. Fantasy (High box office returns, profitable globally)\n",
    "4. Thriller (Strong box office performance with good global revenue potential)\n",
    "\n",
    "**Genres like Music, War, Sport, and History, with lower or negative ROI, should be approached with caution, as they do not offer strong immediate or long-term returns.**"
   ]
  },
  {
   "cell_type": "code",
   "execution_count": null,
   "metadata": {},
   "outputs": [],
   "source": [
    "# Budget vs. Revenue Analysis:\n",
    "# Compares how budgets relate to earnings.\n",
    "# Group by genre and calculate the mean production_budget and total_gross (revenue)\n",
    "budget_vs_revenue = movie_df.groupby('genres')[['production_budget', 'total_gross']].mean()\n",
    "\n",
    "# Sort the DataFrame by production_budget\n",
    "budget_vs_revenue_sorted = budget_vs_revenue.sort_values(by='production_budget', ascending=False)\n",
    "\n",
    "# Plotting the budget vs revenue for each genre\n",
    "fig, ax = plt.subplots(figsize=(10, 6))\n",
    "\n",
    "# Bar plot for production_budget and total_gross\n",
    "budget_vs_revenue_sorted.plot(kind='barh', ax=ax, color=['skyblue', 'lightgreen'])\n",
    "\n",
    "# Adding title and labels\n",
    "plt.title('Average Production Budget vs. Average Total Revenue per Genre')\n",
    "plt.xlabel('Amount in Billions')\n",
    "plt.ylabel('Genre')\n",
    "\n",
    "plt.show()\n",
    "\n",
    "# Print the sorted budget vs revenue\n",
    "print(budget_vs_revenue_sorted)"
   ]
  },
  {
   "cell_type": "markdown",
   "metadata": {},
   "source": [
    "The plot  is similar to the will help you visually assess which genres typically have higher production budgets compared to their corresponding average revenues.\n",
    "\n",
    "If the total_gross (revenue) is relatively high for genres with high production_budget, it indicates that those genres are more likely to earn significant returns. However, if revenue is low despite high production budgets, it signals less efficient profitability.\n",
    "\n",
    "**Genres with High Budget vs Low Revenue:** genres like History, have high production budgets but low revenue, suggesting these genres might not be delivering the returns expected. This could indicate inefficiency or an issue with market reception.\n",
    "\n",
    "Genres with **Low Budget vs High Revenue**: If a genre has a low production budget but high revenue, it indicates that the genre has a higher ROI, making it a more cost-effective investment.\n",
    "\n",
    "Profitability vs Investment: This analysis helps identify which genres are most profitable relative to their production costs and which might need better management in terms of budgeting and marketing."
   ]
  },
  {
   "cell_type": "code",
   "execution_count": null,
   "metadata": {},
   "outputs": [],
   "source": [
    "#pearson correlation between Budget and  Revenue Analysis:\n",
    "\n",
    "movie_df[['production_budget', 'total_gross']].corr().iloc[0, 1]"
   ]
  },
  {
   "cell_type": "markdown",
   "metadata": {},
   "source": [
    "Correlation coefficient of 0.72 indicates a strong correlation between Production Budget and Total gross."
   ]
  },
  {
   "cell_type": "code",
   "execution_count": null,
   "metadata": {},
   "outputs": [],
   "source": [
    "# Calculate profit as total_gross - production_budget\n",
    "movie_df['profit'] = (movie_df['total_gross'] - movie_df['production_budget']).astype(int)\n",
    "\n",
    "# Group by genre and calculate the total profit per genre\n",
    "profit_by_genre = movie_df.groupby('genres')['profit'].sum()\n",
    "\n",
    "# Sort the DataFrame by profit in descending order\n",
    "profit_by_genre_sorted = profit_by_genre.sort_values(ascending=False)\n",
    "\n",
    "# Display the table\n",
    "print(profit_by_genre_sorted)"
   ]
  },
  {
   "cell_type": "markdown",
   "metadata": {},
   "source": [
    "## Modeling the relationship between Production Budget and Total Gross Revenue"
   ]
  },
  {
   "cell_type": "code",
   "execution_count": null,
   "metadata": {},
   "outputs": [],
   "source": [
    "from sklearn.linear_model import LinearRegression\n",
    "\n",
    "# Define the independent and dependent variables\n",
    "X = movie_df[['production_budget']]  # Independent variable (budget)\n",
    "y = movie_df['total_gross']  # Dependent variable (revenue)\n",
    "\n",
    "# Initialize and fit the model\n",
    "model = LinearRegression()\n",
    "model.fit(X, y)\n",
    "\n",
    "# Get the R² score (Goodness of fit)\n",
    "r_squared = model.score(X, y)\n",
    "\n",
    "# Get the coefficient (how budget affects total revenue)\n",
    "coefficient = model.coef_[0]\n",
    "\n",
    "# Intercept (the base revenue when the budget is zero)\n",
    "intercept = model.intercept_\n",
    "\n",
    "# Display the results\n",
    "print(f\"R² Score: {r_squared:.2f}\")\n",
    "print(f\"Coefficient: {coefficient:.2f}\")\n",
    "print(f\"Intercept: {intercept:.2f}\")"
   ]
  },
  {
   "cell_type": "markdown",
   "metadata": {},
   "source": [
    "**R² = 0.52:** This means that 52% of the variance in the total revenue can be explained by the production budget. This is a moderate positive correlation, indicating that production budget plays a significant role in determining the total gross, but other factors also contribute to total revenue.\n",
    "Interpretation: While the production budget is an important factor, other variables (e.g., genre, marketing, audience reception) also influence the total gross. The model isn't perfect, but it gives a reasonable prediction.\n",
    "Coefficient:\n",
    "\n",
    "**Coefficient = 7.83:** For every 1 increase in the production budget, we can expect the Total Gross Revenue to increase by **$7.83** on average.\n",
    "\n",
    "**Interpretation:** This means that there is a positive relationship between the budget and the total gross, where movies with larger production budgets tend to earn significantly higher total revenue. However, the scale of increase is substantial (more than 7x the budget), which might point to high-earning blockbuster films.\n",
    "Intercept:\n",
    "\n",
    "**Intercept = 1.20e+06:(1,200,000)** This represents the base revenue ( 1.2 million dollars) when the production budget is zero. This value represents the estimated total gross revenue for a movie with a zero production budget. It doesn't necessarily reflect any real-world movie since all movies have a budget, but it serves as the baseline in the linear model."
   ]
  },
  {
   "cell_type": "code",
   "execution_count": null,
   "metadata": {},
   "outputs": [],
   "source": [
    "#visualizing the model\n",
    "\n",
    "# Plot the actual data points\n",
    "plt.scatter(X, y, color='blue', alpha=0.5, label='Actual Data')\n",
    "\n",
    "# Plot the regression line\n",
    "plt.plot(X, model.predict(X), color='red', label='Regression Line')\n",
    "\n",
    "# Labels and title\n",
    "plt.xlabel('Production Budget')\n",
    "plt.ylabel('Total Gross Revenue')\n",
    "plt.title('Budget vs. Total Gross Revenue')\n",
    "\n",
    "# Display legend\n",
    "plt.legend()\n",
    "\n",
    "# Show plot\n",
    "plt.show()"
   ]
  },
  {
   "cell_type": "markdown",
   "metadata": {},
   "source": [
    "### 4. Audience & Ratings Metrics"
   ]
  },
  {
   "cell_type": "code",
   "execution_count": null,
   "metadata": {},
   "outputs": [],
   "source": [
    "# Average Ratings per Genre\n",
    "# Measures audience satisfaction.\n",
    "# Ensure 'averagerating' is a float\n",
    "movie_df['averagerating'] = movie_df['averagerating'].astype(float)\n",
    "\n",
    "# Group by 'genre' and calculate the average rating for each genre\n",
    "avg_ratings_per_genre = movie_df.groupby('genres')['averagerating'].mean().sort_values()\n",
    "\n",
    "# Plotting\n",
    "avg_ratings_per_genre.plot(kind='barh', color='skyblue', figsize=(10, 6))\n",
    "plt.title('Average Ratings per Genre')\n",
    "plt.xlabel('Average Rating')\n",
    "plt.ylabel('Genre')\n",
    "plt.show()\n"
   ]
  },
  {
   "cell_type": "code",
   "execution_count": null,
   "metadata": {},
   "outputs": [],
   "source": [
    "# Scatter Plot of Budget vs Global Gross (Total Revenue)\n",
    "plt.figure(figsize=(10, 6))\n",
    "sns.scatterplot(data=tn_bom, x='budget', y='global_gross')\n",
    "plt.title('Scatter Plot: Budget vs Global Gross Revenue')\n",
    "plt.xlabel('Budget ($)')\n",
    "plt.ylabel('Global Gross Revenue ($)')\n",
    "plt.show()"
   ]
  },
  {
   "cell_type": "markdown",
   "metadata": {},
   "source": [
    "- Visualizes the relationship between budget and global_gross (total revenue). - This helps to see if there’s an overall trend where higher budgets lead to higher revenues."
   ]
  },
  {
   "cell_type": "code",
   "execution_count": null,
   "metadata": {},
   "outputs": [],
   "source": [
    "from scipy.stats import pearsonr\n",
    "\n",
    "# Pearson Correlation Coefficient between Budget and Global Gross\n",
    "corr, _ = pearsonr(tn_bom['budget'], tn_bom['global_gross'])\n",
    "print(f'Pearson Correlation Coefficient (Budget vs Global Gross): {corr:.2f}')"
   ]
  },
  {
   "cell_type": "markdown",
   "metadata": {},
   "source": [
    "- Calculates the linear correlation between budget and global_gross, helping to quantify how closely related these two variables are."
   ]
  },
  {
   "cell_type": "markdown",
   "metadata": {},
   "source": [
    "### Genre Distribution of Selected Directors"
   ]
  },
  {
   "cell_type": "markdown",
   "metadata": {},
   "source": [
    "Provides insights into which genres are most prevalent among these high-rated directors."
   ]
  },
  {
   "cell_type": "code",
   "execution_count": null,
   "metadata": {},
   "outputs": [],
   "source": [
    "expanded_data = []\n",
    "for _, row in merged_tn_imdb.iterrows():\n",
    "    genres = row['genres'].split(',')\n",
    "    for genre in genres:\n",
    "        new_row = row.copy()\n",
    "        new_row['genres'] = genre.strip()\n",
    "        expanded_data.append(new_row)\n",
    "\n",
    "merged_tn_imdb = pd.DataFrame(expanded_data)\n"
   ]
  },
  {
   "cell_type": "code",
   "execution_count": null,
   "metadata": {},
   "outputs": [],
   "source": [
    "# Filter the dataset to find directors who:\n",
    "# - Are listed as the 'director' in the category column\n",
    "# - Have directed movies in the genres Horror, Thriller, or Mystery\n",
    "# - Have an average movie rating (avg_ratings) of 7 or higher\n",
    "# - Have a significant number of audience votes (num_votes >= 9000)\n",
    "directors = merged_tn_imdb[(merged_tn_imdb['category'] == 'director') & \n",
    "                           (merged_tn_imdb['genres'].str.contains('Horror|Thriller|Mystery')) &\n",
    "                           (merged_tn_imdb['avg_ratings'] >= 7) &\n",
    "                           (merged_tn_imdb['num_votes'] >= 9000)]\n",
    "\n",
    "# Sort the filtered directors by average ratings in descending order\n",
    "directors = directors.sort_values(by='avg_ratings', ascending=False)\n",
    "\n",
    "# Get the top 5 unique directors\n",
    "top_5_directors = directors['artist_name'].drop_duplicates().head(5)\n",
    "\n",
    "# Print the names of the top 5 directors\n",
    "print(\"Top 5 Directors:\")\n",
    "for director in top_5_directors:\n",
    "    print(director)"
   ]
  },
  {
   "cell_type": "code",
   "execution_count": null,
   "metadata": {},
   "outputs": [],
   "source": [
    "genre_counts = directors['genres'].value_counts().reset_index()\n",
    "genre_counts.columns = ['Genre', 'Count']\n",
    "\n",
    "plt.figure(figsize=(10, 6))\n",
    "sns.barplot(data=genre_counts, x='Count', y='Genre', palette='muted')\n",
    "plt.xlabel('Count of Movies', fontsize=12, fontweight='bold')\n",
    "plt.ylabel('Genre', fontsize=12, fontweight='bold')\n",
    "plt.title('Genre Distribution of Top Directors', fontsize=14, fontweight='bold')\n",
    "plt.show()\n"
   ]
  },
  {
   "cell_type": "markdown",
   "metadata": {},
   "source": [
    "Thriller and Mystery genres dominate the chart, indicating that the majority of the high-rated movies directed by these top directors fall into these categories. This suggests that these genres are particularly popular or well-executed by the directors in question.\n",
    "\n",
    "Audience Preference: The prominence of Thriller and Mystery genres could reflect audience preferences, as these genres often involve engaging and suspenseful storytelling, which tends to resonate well with viewers.\n",
    "\n",
    "Critical Acclaim: Movies within the Thriller and Mystery genres are often crafted with intricate plots and compelling narratives, which may lead to higher ratings, further boosting their representation in this dataset.\n",
    "\n",
    "Genre Mastery by Directors: The leading directors might have a specialization or particular strength in crafting Thriller and Mystery films, contributing to their dominance in these genres."
   ]
  },
  {
   "cell_type": "markdown",
   "metadata": {},
   "source": [
    "### ROI per genre"
   ]
  },
  {
   "cell_type": "code",
   "execution_count": null,
   "metadata": {},
   "outputs": [],
   "source": [
    "# Calculate average ROI per genre\n",
    "average_roi_per_genre = merged_tn_imdb.groupby('genres')['roi'].mean().sort_values(ascending=True).reset_index()\n",
    "\n",
    "# Plot using seaborn for a cleaner presentation\n",
    "plt.figure(figsize=(15, 10))\n",
    "sns.barplot(x='roi', y='genres', data=average_roi_per_genre, color='green')\n",
    "plt.xlabel('Average ROI')\n",
    "plt.ylabel('Genre')\n",
    "plt.title('Average ROI Per Genre')\n",
    "plt.show()"
   ]
  },
  {
   "cell_type": "markdown",
   "metadata": {},
   "source": [
    "### Top 10 genres based on ROI"
   ]
  },
  {
   "cell_type": "code",
   "execution_count": null,
   "metadata": {
    "scrolled": false
   },
   "outputs": [],
   "source": [
    "# Calculate top 10 genres by average ROI\n",
    "top_10_genres_roi = average_roi_per_genre.sort_values(by='roi', ascending=False).head(10)\n",
    "\n",
    "# Plot using seaborn for cleaner aesthetics\n",
    "plt.figure(figsize=(15, 10))\n",
    "sns.barplot(x='roi', y='genres', data=top_10_genres_roi, color='green')\n",
    "plt.xlabel('Average ROI')\n",
    "plt.ylabel('Genre')\n",
    "plt.title('Top 10 Genres by Average ROI')\n",
    "plt.gca().invert_yaxis()\n",
    "plt.show()"
   ]
  },
  {
   "cell_type": "markdown",
   "metadata": {},
   "source": [
    "### Bar Chart of Top Directors by Average Ratings"
   ]
  },
  {
   "cell_type": "markdown",
   "metadata": {},
   "source": [
    "The bar chart highlights the top directors with the highest average ratings."
   ]
  },
  {
   "cell_type": "code",
   "execution_count": null,
   "metadata": {
    "scrolled": false
   },
   "outputs": [],
   "source": [
    "# Plot\n",
    "plt.figure(figsize=(10, 6))\n",
    "plt.barh(directors['artist_name'], directors['avg_ratings'], color='green')\n",
    "plt.xlabel('Average Ratings', fontsize=12, fontweight='bold')\n",
    "plt.ylabel('Director Name', fontsize=12, fontweight='bold')\n",
    "plt.title('Top 5 Directors by Average Ratings', fontsize=14, fontweight='bold')\n",
    "plt.gca().invert_yaxis()\n",
    "plt.show()"
   ]
  },
  {
   "cell_type": "markdown",
   "metadata": {},
   "source": [
    "The bar chart highlights that Director David Fincher consistently achieves the highest average ratings among directors who specialize in the genres of Horror, Thriller, or Mystery. This suggests his exceptional skill in crafting compelling narratives within these genres, making him a standout among his peers."
   ]
  },
  {
   "cell_type": "markdown",
   "metadata": {},
   "source": [
    "### Multivariate Analysis"
   ]
  },
  {
   "cell_type": "code",
   "execution_count": null,
   "metadata": {},
   "outputs": [],
   "source": [
    "#  Correlation Matrix\n",
    "# Compute the correlation matrix for numerical columns\n",
    "correlation_matrix = data[['budget', 'global_gross', 'profitable_ratio']].corr()\n",
    "\n",
    "# Plot the correlation matrix as a heatmap\n",
    "plt.figure(figsize=(8, 6))\n",
    "sns.heatmap(correlation_matrix, annot=True, cmap='coolwarm', fmt='.2f', linewidths=0.5)\n",
    "plt.title('Correlation Matrix', fontsize=14)\n",
    "plt.show()"
   ]
  },
  {
   "cell_type": "markdown",
   "metadata": {},
   "source": [
    "- Visualizes the pairwise correlations between numerical variables (budget, global_gross, profitability_ratio) using a heatmap.\n",
    "Correlation values will help us see how these variables interact with each other. For example, do higher budgets correlate with higher global gross revenues?\n",
    "- Do budget and global gross have a strong positive correlation? How does profitability relate to these variables?"
   ]
  },
  {
   "cell_type": "markdown",
   "metadata": {},
   "source": [
    "### Insights Expected\n",
    "Profitability by Budget: Higher budget movies tend to have a higher chance of being profitable, but profitability could be more concentrated in the lower budget ranges due to smaller production costs."
   ]
  },
  {
   "cell_type": "markdown",
   "metadata": {},
   "source": [
    "### Release month vs genres ( in terms of ROI)"
   ]
  },
  {
   "cell_type": "code",
   "execution_count": null,
   "metadata": {},
   "outputs": [],
   "source": [
    "roi_genre_month = merged_tn_imdb.groupby(['genres', 'release_month'])['roi'].mean()\n",
    "roi_genre_month"
   ]
  },
  {
   "cell_type": "code",
   "execution_count": null,
   "metadata": {},
   "outputs": [],
   "source": [
    "# Calculate the average ROI per genre\n",
    "top_genres = merged_tn_imdb.groupby('genres')['roi'].mean().sort_values(ascending=False).head(10).index\n",
    "\n",
    "# Filter the original data to include only the top 10 genres\n",
    "filtered_data = merged_tn_imdb[merged_tn_imdb['genres'].isin(top_genres)]"
   ]
  },
  {
   "cell_type": "code",
   "execution_count": null,
   "metadata": {},
   "outputs": [],
   "source": [
    "# Filter the ROI time-series data\n",
    "filtered_roi_genre_month = roi_genre_month.loc[top_genres]"
   ]
  },
  {
   "cell_type": "code",
   "execution_count": null,
   "metadata": {},
   "outputs": [],
   "source": [
    "# Pivot the filtered ROI time-series data\n",
    "filtered_roi_genre_pivot = filtered_data.groupby(['release_month', 'genres'])['roi'].mean().unstack()"
   ]
  },
  {
   "cell_type": "code",
   "execution_count": null,
   "metadata": {},
   "outputs": [],
   "source": [
    "import matplotlib.pyplot as plt\n",
    "import seaborn as sns\n",
    "\n",
    "# Melt the DataFrame to make genres a column\n",
    "melted_data = filtered_roi_genre_pivot.reset_index().melt(id_vars=['release_month'], \n",
    "                                                          value_vars=['Animation', 'Comedy', 'Documentary', 'Fantasy', \n",
    "                                                                      'Horror', 'Music', 'Mystery', 'News', 'Romance', 'Thriller'], \n",
    "                                                          var_name='genre', \n",
    "                                                          value_name='roi')\n",
    "\n",
    "# Now group the data by release month and genre\n",
    "interactive_data = melted_data.groupby(['release_month', 'genre'])['roi'].mean().reset_index()\n",
    "\n",
    "# Create a line plot using Seaborn\n",
    "plt.figure(figsize=(12, 8))\n",
    "sns.lineplot(data=interactive_data, x='release_month', y='roi', hue='genre', markers=True)\n",
    "\n",
    "# Title and labels\n",
    "plt.title('Average ROI by Genre Over Months', fontsize=14, fontweight='bold')\n",
    "plt.xlabel('Month', fontsize=12, fontweight='bold')\n",
    "plt.ylabel('Average ROI', fontsize=12, fontweight='bold')\n",
    "\n",
    "# Customizing the legend\n",
    "plt.legend(title='Genre', loc='upper left', bbox_to_anchor=(1.05, 1), borderaxespad=0.)\n",
    "\n",
    "# Show the plot\n",
    "plt.tight_layout()  # To make sure everything fits without overlap\n",
    "plt.show()\n"
   ]
  },
  {
   "cell_type": "markdown",
   "metadata": {},
   "source": [
    "### Business Insights:\n",
    "\n",
    "##### Targeted Movie Release Strategy: \n",
    "The strong ROI in July for the Mystery genre implies that the audience may have a heightened interest in this genre during this time. The business could consider aligning movie releases from the Mystery genre to this month to take advantage of the higher return potential.\n",
    "\n",
    "##### Marketing & Audience Engagement:\n",
    "If Mystery movies show consistent performance in July, the company might focus on special promotions, tailored marketing, or event-driven campaigns (such as summer movie festivals or themed releases) to boost engagement with the Mystery genre during that period. Additionally, targeted advertising for Horror and Thriller films, although not as high as Mystery, could still be beneficial in the earlier months leading up to July.\n",
    "\n",
    "##### Investment Decisions: \n",
    "Given that Mystery films tend to perform better in July, businesses could prioritize higher investment in production or marketing for Mystery films slated for release in the 7th month. Similarly, while Horror and Thriller genres may not outperform Mystery, they still present opportunities for profitable returns in the same period and could be part of a strategic genre mix.\n",
    "\n",
    "##### Audience Behavior Analysis: \n",
    "This trend also highlights audience behavior in relation to seasonality. Businesses could explore deeper audience insights (e.g., surveys or social media trends) to determine the reasons behind the popularity of certain genres in the summer months, potentially replicating successful strategies from past years.\""
   ]
  },
  {
   "cell_type": "markdown",
   "metadata": {},
   "source": [
    "### Top 10 genres based on ROI and Budget"
   ]
  },
  {
   "cell_type": "code",
   "execution_count": null,
   "metadata": {},
   "outputs": [],
   "source": [
    "# Calculate the average ROI and production budget per genre\n",
    "average_roi_and_budget_per_genre = merged_tn_imdb.groupby('genres').agg({\n",
    "    'roi': 'mean',\n",
    "    'production_budget': 'mean'\n",
    "}).reset_index()"
   ]
  },
  {
   "cell_type": "code",
   "execution_count": null,
   "metadata": {},
   "outputs": [],
   "source": [
    "# Sort by 'roi' and select the top 10 genres\n",
    "top_10_genres = average_roi_and_budget_per_genre.sort_values(by='roi', ascending=False).head(10)\n",
    "\n",
    "# Plot using Seaborn for dual axis (line and bar plots)\n",
    "fig, ax1 = plt.subplots(figsize=(15, 10))\n",
    "\n",
    "# Barplot for ROI\n",
    "sns.barplot(data=top_10_genres, x='genres', y='roi', ax=ax1, color='green', alpha=0.6)\n",
    "ax1.set_xlabel('Genre', color='black', fontsize=14, fontweight='bold')\n",
    "ax1.set_ylabel('Average ROI', color='black', fontsize=14, fontweight='bold')\n",
    "ax1.tick_params(axis='y', labelcolor='black')\n",
    "\n",
    "# Create second y-axis\n",
    "ax2 = ax1.twinx()\n",
    "\n",
    "# Lineplot for Budget\n",
    "sns.lineplot(data=top_10_genres, x='genres', y='production_budget', ax=ax2, color='red', marker='o')\n",
    "ax2.set_ylabel('Average Budget', color='black', fontsize=14, fontweight='bold')\n",
    "ax2.tick_params(axis='y', labelcolor='black')\n",
    "\n",
    "# Title and Show\n",
    "plt.title('Top 10 Genres by Average ROI and Budget', fontsize=16, fontweight='bold')\n",
    "fig.tight_layout()\n",
    "plt.show()"
   ]
  },
  {
   "cell_type": "markdown",
   "metadata": {},
   "source": [
    "### Scatter Plot of Directors: Ratings vs. Number of Votes"
   ]
  },
  {
   "cell_type": "markdown",
   "metadata": {},
   "source": [
    "Show the relationship between the number of votes a director's movies receive and their average ratings."
   ]
  },
  {
   "cell_type": "code",
   "execution_count": null,
   "metadata": {},
   "outputs": [],
   "source": [
    "# Plot\n",
    "plt.figure(figsize=(10, 6))\n",
    "sns.scatterplot(data=directors, x='num_votes', y='avg_ratings', hue='artist_name', s=100, palette='viridis')\n",
    "plt.xlabel('Number of Votes', fontsize=12, fontweight='bold')\n",
    "plt.ylabel('Average Ratings', fontsize=12, fontweight='bold')\n",
    "plt.title('Average Ratings vs. Number of Votes for Top Directors', fontsize=14, fontweight='bold')\n",
    "plt.legend(title='Director', bbox_to_anchor=(1.05, 1), loc='upper left')\n",
    "plt.show()"
   ]
  },
  {
   "cell_type": "markdown",
   "metadata": {},
   "source": [
    "David Fincher's movies stand out as they not only have consistently high ratings (above 7) but also receive a significant number of votes, indicating widespread recognition and appreciation from audiences.\n",
    "\n",
    "The scatter plot emphasizes his exceptional performance compared to other directors by visually highlighting his movies as a cluster or outliers with high ratings and votes.\n",
    "\n",
    "The pattern observed in the plot suggests that Fincher's works appeal to both critics (high ratings) and a large audience base (high votes), underlining his unique position as a director whose films are both critically acclaimed and commercially successful."
   ]
  },
  {
   "cell_type": "markdown",
   "metadata": {},
   "source": [
    "### Bubble Chart: Ratings vs. Votes with Genre as a Dimension"
   ]
  },
  {
   "cell_type": "markdown",
   "metadata": {},
   "source": [
    " Combines multiple dimensions to analyze the influence of genres on ratings and popularity."
   ]
  },
  {
   "cell_type": "code",
   "execution_count": null,
   "metadata": {},
   "outputs": [],
   "source": [
    "plt.figure(figsize=(12, 8))\n",
    "sns.scatterplot(\n",
    "    data=directors, x='num_votes', y='avg_ratings', size='num_votes', hue='genres', alpha=0.7, sizes=(50, 500)\n",
    ")\n",
    "plt.xlabel('Number of Votes', fontsize=12, fontweight='bold')\n",
    "plt.ylabel('Average Ratings', fontsize=12, fontweight='bold')\n",
    "plt.title('Bubble Chart: Ratings vs. Votes by Genre', fontsize=14, fontweight='bold')\n",
    "plt.legend(title='Genre', bbox_to_anchor=(1.05, 1), loc='upper left')\n",
    "plt.show()"
   ]
  },
  {
   "cell_type": "markdown",
   "metadata": {},
   "source": [
    "Mystery Genre Leading in Ratings and Votes:\n",
    "The Mystery genre stands out, with many films from this category appearing in the top-right quadrant of the plot. This quadrant indicates movies with high average ratings and a large number of votes, suggesting that Mystery films are not only popular but also critically acclaimed.\n",
    "\n",
    "Director Strength in Mystery Genre:\n",
    "The directors associated with the Mystery genre are achieving strong ratings and a large volume of votes, possibly due to their ability to captivate audiences with complex and engaging plots. These movies seem to have a broad appeal, encouraging high levels of viewer participation and feedback (as indicated by the number of votes).\n",
    "\n",
    "Hues Representing Genres:\n",
    "The color-coded hues (Mystery) dominate the scatter plot, visually emphasizing its prominence in both ratings and votes. This highlights that Mystery films tend to attract both a large audience and positive reviews, making them a standout genre for the directors in this dataset.\n",
    "\n",
    "Genre Popularity:\n",
    "The Mystery genre's significant presence in both axes indicates that it is a strong performer among high-rated films, potentially due to the suspenseful and thought-provoking nature of the genre, which keeps audiences engaged and coming back for more."
   ]
  },
  {
   "cell_type": "code",
   "execution_count": null,
   "metadata": {},
   "outputs": [],
   "source": [
    "Actors_Actress = merged_tn_imdb[(merged_tn_imdb['category'].isin(['actor','actress']))& \n",
    "                           (merged_tn_imdb['genres'].str.contains('Horror|Thriller|Mystery'))&\n",
    "                           (merged_tn_imdb['avg_ratings'] >= 7.5) &\n",
    "                           (merged_tn_imdb['num_votes'] >= 9000)]\n",
    "\n",
    "# Get the unique names from the 'artist_name' column\n",
    "Actors_Actress = Actors_Actress['artist_name'].unique()\n",
    "\n",
    "\n",
    "print(\"Actors and Actress:\")\n",
    "for name in Actors_Actress:\n",
    "    print(name)"
   ]
  },
  {
   "cell_type": "markdown",
   "metadata": {},
   "source": [
    "### Bar Chart of Number of Movies per Actor/Actress:"
   ]
  },
  {
   "cell_type": "markdown",
   "metadata": {},
   "source": [
    "This visualization can help you see which actors and actresses have appeared in the highest number of movies within the specified genres (Horror, Thriller, and Mystery) with high ratings and votes."
   ]
  },
  {
   "cell_type": "code",
   "execution_count": null,
   "metadata": {},
   "outputs": [],
   "source": [
    "# Count the occurrences of each actor/actress in the filtered dataset\n",
    "actor_counts = merged_tn_imdb[(merged_tn_imdb['category'].isin(['actor', 'actress'])) & \n",
    "                              (merged_tn_imdb['genres'].str.contains('Horror|Thriller|Mystery')) & \n",
    "                              (merged_tn_imdb['avg_ratings'] >= 7.5) & \n",
    "                              (merged_tn_imdb['num_votes'] >= 9000)]\n",
    "\n",
    "actor_counts = actor_counts['artist_name'].value_counts().reset_index()\n",
    "actor_counts.columns = ['Actor/Actress', 'Movie Count']\n",
    "\n",
    "# Plot a bar chart where the x-axis represents actors/actresses and the y-axis represents the number of movies\n",
    "plt.figure(figsize=(12, 8))\n",
    "sns.barplot(data=actor_counts, x='Movie Count', y='Actor/Actress', palette='YlGn')\n",
    "plt.xlabel('Number of Movies', fontsize=12, fontweight='bold')\n",
    "plt.ylabel('Actor/Actress', fontsize=12, fontweight='bold')\n",
    "plt.title('Number of Movies per Actor/Actress in Horror, Thriller, Mystery Genres', fontsize=14, fontweight='bold')\n",
    "plt.show()"
   ]
  },
  {
   "cell_type": "markdown",
   "metadata": {},
   "source": [
    "In the plot, Catherine Keener, Lili Taylor, Ben Affleck, John C. Reilly, Tom Hanks, Harrison Ford, and Ewan McGregor are shown as the leading actors and actresses in Horror, Thriller, and Mystery genres with ratings above 7.5 and substantial audience engagement (over 9000 votes). This suggests that these actors/actresses have consistently appeared in top-rated films within these genres, making significant contributions to their success. Their repeated appearances across these genres demonstrate their strong on-screen presence, versatility, and appeal to both critics and large audiences."
   ]
  },
  {
   "cell_type": "markdown",
   "metadata": {},
   "source": [
    "### Scatter Plot of Actor/Actress Performance (Ratings vs. Number of Votes)"
   ]
  },
  {
   "cell_type": "markdown",
   "metadata": {},
   "source": [
    "This visualization can help explore the relationship between average ratings and number of votes for each actor or actress in the specified genres. It will show how popular and highly-rated the movies are that feature these actors/actresses."
   ]
  },
  {
   "cell_type": "code",
   "execution_count": null,
   "metadata": {},
   "outputs": [],
   "source": [
    "plt.figure(figsize=(12, 8))\n",
    "sns.scatterplot(data=merged_tn_imdb[(merged_tn_imdb['artist_name'].isin(Actors_Actress))], \n",
    "                x='num_votes', y='avg_ratings', hue='genres', size='num_votes', alpha=0.7, sizes=(50, 500))\n",
    "plt.xlabel('Number of Votes', fontsize=12, fontweight='bold')\n",
    "plt.ylabel('Average Ratings', fontsize=12, fontweight='bold')\n",
    "plt.title('Actor/Actress Performance: Ratings vs. Votes in Horror, Thriller,Mystery Genres',\n",
    "          fontsize=14, fontweight='bold')\n",
    "plt.legend(title='Genre', bbox_to_anchor=(1.05, 1), loc='upper left')\n",
    "plt.show()"
   ]
  },
  {
   "cell_type": "markdown",
   "metadata": {},
   "source": [
    "Sci-Fi: This genre often attracts large, dedicated audiences due to its imaginative nature and expansive storytelling possibilities. Sci-Fi films, especially those with a high rating and substantial audience engagement (votes), indicate that viewers appreciate the world-building, visual effects, and sometimes the thought-provoking themes Sci-Fi offers.\n",
    "\n",
    "Comedy: Comedy remains a consistent favorite among moviegoers. A high number of movies in this genre with ratings over 7.5 suggest that these films tend to perform well, with a broad appeal that ensures steady viewership and favorable reviews. Comedy’s universal appeal is a likely factor in its prevalence among top-rated films.\n",
    "\n",
    "Thriller: Thriller films consistently draw large audiences due to their suspenseful and engaging narratives. Thrillers often feature gripping plots, which can generate strong word-of-mouth and repeat viewing, leading to high ratings and significant votes."
   ]
  },
  {
   "cell_type": "code",
   "execution_count": null,
   "metadata": {},
   "outputs": [],
   "source": [
    "Writers = merged_tn_imdb[(merged_tn_imdb['category'].isin(['writer'])) & \n",
    "                           (merged_tn_imdb['genres'].str.contains('Horror|Thriller'))&\n",
    "                           (merged_tn_imdb['avg_ratings'] >= 6.5)]\n",
    "\n",
    "# Get the unique names from the 'artist_name' column\n",
    "Writers = Writers.sort_values(by='avg_ratings', ascending=False)['artist_name'].unique()\n",
    "\n",
    "# Print the director names\n",
    "print(\"Best Writers:\")\n",
    "for name in Writers:\n",
    "    print(name)"
   ]
  },
  {
   "cell_type": "markdown",
   "metadata": {},
   "source": [
    "### Bar Chart (Top Writers by Average Ratings)"
   ]
  },
  {
   "cell_type": "markdown",
   "metadata": {},
   "source": [
    "This chart would show the best writers sorted by their average ratings, allowing you to easily visualize which writers have the highest average ratings in the Horror and Thriller genres."
   ]
  },
  {
   "cell_type": "code",
   "execution_count": null,
   "metadata": {},
   "outputs": [],
   "source": [
    "# Count the occurrences of each writer in the filtered dataset\n",
    "writer_counts = Writers = merged_tn_imdb[(merged_tn_imdb['category'] == 'writer') & \n",
    "                                           (merged_tn_imdb['genres'].str.contains('Horror|Thriller')) &\n",
    "                                           (merged_tn_imdb['avg_ratings'] >= 6.5)]\n",
    "\n",
    "writer_counts = writer_counts.groupby('artist_name').agg({'avg_ratings': 'mean', 'genres': 'count'}).reset_index()\n",
    "writer_counts = writer_counts.sort_values(by='avg_ratings', ascending=False)\n",
    "\n",
    "# Plot a bar chart where x-axis represents writers and y-axis represents average ratings\n",
    "plt.figure(figsize=(12, 8))\n",
    "sns.barplot(data=writer_counts, x='avg_ratings', y='artist_name', palette='Blues_d')\n",
    "plt.xlabel('Average Ratings', fontsize=12, fontweight='bold')\n",
    "plt.ylabel('Writer', fontsize=12, fontweight='bold')\n",
    "plt.title('Best Writers in Horror and Thriller Genres by Average Ratings', fontsize=14, fontweight='bold')\n",
    "plt.show()"
   ]
  },
  {
   "cell_type": "markdown",
   "metadata": {},
   "source": [
    " ### Word Cloud (Most Frequent Writers)"
   ]
  },
  {
   "cell_type": "markdown",
   "metadata": {},
   "source": [
    "The word cloud visualization will allow you to quickly spot the most frequently occurring writers, and it’s a great way to highlight trends visually. Writers who have contributed more will be shown in larger fonts."
   ]
  },
  {
   "cell_type": "code",
   "execution_count": null,
   "metadata": {},
   "outputs": [],
   "source": [
    "from wordcloud import WordCloud\n",
    "import matplotlib.pyplot as plt\n",
    "\n",
    "# Count the occurrences of each writer in the dataset\n",
    "writer_counts = Writers = merged_tn_imdb[(merged_tn_imdb['category'] == 'writer') & \n",
    "                                           (merged_tn_imdb['genres'].str.contains('Horror|Thriller')) &\n",
    "                                           (merged_tn_imdb['avg_ratings'] >= 6.5)]\n",
    "\n",
    "writer_frequency = writer_counts['artist_name'].value_counts()\n",
    "\n",
    "# Create a word cloud\n",
    "plt.figure(figsize=(10, 8))\n",
    "wordcloud = WordCloud(width=800, height=400, background_color='white').generate_from_frequencies(writer_frequency)\n",
    "plt.imshow(wordcloud, interpolation='bilinear')\n",
    "plt.axis('off')\n",
    "plt.title('Most Frequent Writers in Horror and Thriller Genres', fontsize=14, fontweight='bold')\n",
    "plt.show()"
   ]
  },
  {
   "cell_type": "markdown",
   "metadata": {},
   "source": [
    "### Prominent Writers:\n",
    "\n",
    "Sam Raimi, Stephen King stands out as the largest word in the cloud, indicating that he is the most frequently appearing writer in this dataset for the Horror and Thriller genres. His extensive body of work in these genres makes him a notable figure in both categories.\n",
    "\n",
    "John Carpenter follows closely behind, suggesting his frequent contributions to the genres as well, particularly in the Thriller category, where his name is synonymous with iconic works.\n",
    "\n",
    "Other Notable Writers:\n",
    "\n",
    "Phil Hay, Colin Bateman, and Dario Argento and  also appear prominently in the cloud, showcasing their significant roles in shaping the Horror and Thriller genres. These writers have consistently produced content that resonates with audiences, as reflected in their repeated presence in high-rated films.\n",
    "Interpretation of Size and Frequency:\n",
    "\n",
    "The size of the names in the word cloud is proportional to the number of films written by each author in these genres, meaning the larger the name, the more frequently they appear in this dataset. This gives a quick visual cue of the most influential and prolific writers in the space."
   ]
  },
  {
   "cell_type": "markdown",
   "metadata": {},
   "source": [
    "### a. Correlation"
   ]
  },
  {
   "cell_type": "code",
   "execution_count": null,
   "metadata": {},
   "outputs": [],
   "source": [
    "# Which variables are strongly related?\n",
    "corr_matrix = movie_df[['production_budget', 'total_gross', 'averagerating', 'worldwide_gross', 'domestic_gross']].corr()\n",
    "\n",
    "plt.figure(figsize=(8,6))\n",
    "sns.heatmap(corr_matrix, annot=True, cmap='coolwarm', fmt=\".2f\")\n",
    "plt.title(\"Correlation Heatmap\")\n",
    "plt.show()\n"
   ]
  },
  {
   "cell_type": "markdown",
   "metadata": {},
   "source": [
    "High correlations indicate strong relationships.\n",
    "Key Variables:\n",
    "Production Budget vs. Box Office:\n",
    "\n",
    "**Production Budget and Total Gross (0.72)**:\n",
    "\n",
    "There is a strong positive correlation, indicating that higher budgets often result in higher revenues. This suggests that high-performing genres may require significant investment.\n",
    "\n",
    "**Production Budget and Worldwide Gross (0.73)**:\n",
    "\n",
    "A similar strong correlation exists globally, emphasizing the importance of budget.\n",
    "Revenue Relationships:\n",
    "\n",
    "**Total Gross, Worldwide Gross, and Domestic Gross:**\n",
    "\n",
    "These are very strongly correlated (close to 1.00). This means that successful genres perform well across domestic and international markets.\n",
    "Average Rating (IMDb) vs. Revenue:\n",
    "\n",
    "The correlations between average rating and all revenue variables are very low (around 0.07). This suggests that while ratings might influence a movie's reputation, they are not strong indicators of box office success. Genre-specific box office strategies might outweigh critical acclaim."
   ]
  },
  {
   "cell_type": "markdown",
   "metadata": {},
   "source": [
    "### B. Multiple Regression (Predicting Revenue)"
   ]
  },
  {
   "cell_type": "code",
   "execution_count": null,
   "metadata": {},
   "outputs": [],
   "source": [
    "# Can we predict box office success?\n",
    "from sklearn.linear_model import LinearRegression\n",
    "\n",
    "X = movie_df[['production_budget', 'averagerating']]\n",
    "y = movie_df['total_gross']\n",
    "\n",
    "model = LinearRegression()\n",
    "model.fit(X, y)\n",
    "\n",
    "print(f\"R² Score: {model.score(X, y):.2f}\")\n",
    "print(f\"Coefficients: {model.coef_}\")\n"
   ]
  },
  {
   "cell_type": "markdown",
   "metadata": {},
   "source": [
    "**R² = 0.52** - means that 52% of the variance in the total gross revenue (total_gross) can be explained by the model, which uses production budget (production_budget) and average rating (averagerating) as predictors. This suggests that the combination of these two features provides a moderate fit to the data. In other words, 52% of the variability in box office revenue can be attributed to changes in these two variables, while the remaining 48% might be due to other factors not included in the model (such as marketing, actors, etc.).\n",
    "\n",
    "**Coefficients:**\n",
    "The coefficients tell you how much the predicted value of the target variable (total_gross) will change for a one-unit increase in the predictor variables (production_budget and averagerating), assuming all other variables stay constant.\n",
    "Here the breakdown of the coefficients:\n",
    "\n",
    "**Production Budget Coefficient = 4.13**:\n",
    "\n",
    "This means that **for every 1 unit increase in the production budget, the total revenue is expected to increase by 4.13 units**. This suggests that **the production budget has a positive relationship with box office revenue, meaning higher budgets tend to correlate with higher revenue**.\n",
    "\n",
    "**Average Rating Coefficient = 6,279,395.03:**\n",
    "\n",
    "This means that **for every 1 point increase in the average rating, the total revenue is expected to increase by approximately 6.28 million dollars.** So, higher ratings significantly influence the box office revenue, but this is a very large number, indicating that ratings have a strong impact on revenue in the context of this model."
   ]
  },
  {
   "cell_type": "markdown",
   "metadata": {},
   "source": [
    "### C. Clustering Movies by Success."
   ]
  },
  {
   "cell_type": "code",
   "execution_count": null,
   "metadata": {},
   "outputs": [],
   "source": [
    "# Grouping movies into high, medium, and low performers\n",
    "movie_df['revenue_category'] = pd.qcut(movie_df['total_gross'], q=3, labels=['Low', 'Medium', 'High'])\n",
    "\n",
    "sns.boxplot(x=movie_df['revenue_category'], y=movie_df['averagerating'])\n",
    "plt.title(\"IMDb Ratings Across Revenue Categories\")\n",
    "plt.show()"
   ]
  },
  {
   "cell_type": "markdown",
   "metadata": {},
   "source": [
    "This boxplot visualizes the distribution of ratings across three revenue categories (Low, Medium, High). The categories were created by dividing the movies into equal-sized groups based on their total gross revenue using quantile-based binning.\n",
    "\n",
    "Similar Median Ratings:\n",
    "\n",
    "The median  ratings for movies across all revenue categories (Low, Medium, High) are similar, hovering around 6. This suggests that higher revenue is not necessarily linked to higher ratings.\n",
    "\n",
    "Spread of Ratings:\n",
    "\n",
    "The interquartile range (IQR), which represents the middle 50% of ratings, is consistent across all categories. This indicates that the variability of ratings within each category is similar.\n",
    "\n",
    "Outliers:\n",
    "\n",
    "All categories include outliers with very low ratings (below 3) and very high ratings (above 8). Even high-grossing movies can have low ratings, and low-grossing movies can be critically acclaimed.\n",
    "\n",
    "**Relevance to Your Objective (Clustering Movies by Success and Genre Analysis)**:\n",
    "\n",
    "**High Revenue, Diverse Ratings:**\n",
    "\n",
    "The high revenue category includes movies with both average and exceptional ratings, likely reflecting genres with broad appeal (e.g., action, animation) rather than niche critical darlings.\n",
    "\n",
    "**Low Revenue, High Ratings:**\n",
    "\n",
    "Some movies in the low revenue category achieve high ratings, potentially pointing to genres like drama or indie films that are critically acclaimed but not commercially successful.\n",
    "\n",
    "**Genre Insight:**\n",
    "\n",
    "High-grossing genres might not necessarily align with high-rated genres. This suggests focusing on genres with high revenue potential (like blockbusters) while balancing critical acclaim."
   ]
  },
  {
   "cell_type": "markdown",
   "metadata": {},
   "source": [
    "# RECOMMENDATIONS"
   ]
  },
  {
   "cell_type": "markdown",
   "metadata": {},
   "source": [
    "1. Invest in High-Median Revenue Genres\n",
    "\n",
    "Focus on Action, Adventure, and Sci-Fi: These genres have the highest median revenues, indicating consistent box office success.\n",
    "Recommendation: Allocate more resources to develop and market films within these genres, ensuring high production values and engaging storylines to attract larger audiences.\n",
    "2. Optimize Production Budgets for Maximum ROI\n",
    "\n",
    "Correlation Between Budget and Revenue: There is a strong positive correlation between production budgets and total revenue.\n",
    "Recommendation: Ensure that high-budget films are strategically planned with robust marketing campaigns. Consider the diminishing returns at very high budgets and aim for a balanced investment that maximizes profitability.\n",
    "3. Explore Genre Combinations for Broader Appeal\n",
    "\n",
    "Trends in Genre Blending: Combining genres can attract diverse audiences and enhance box office performance.\n",
    "Recommendation: Develop films that blend popular genres (e.g., Sci-Fi Adventure) to leverage the strengths of both genres and appeal to a wider demographic, increasing the potential for box office success.\n",
    "4. Monitor and Adjust Based on ROI Metrics\n",
    "\n",
    "Evaluate Worldwide and Box Office ROI: Understanding both metrics provides insights into immediate and long-term profitability.\n",
    "Recommendation: For genres with low or negative ROI (e.g., Musical, War), reassess production strategies and consider reducing investment. Focus on genres with high ROI, such as Adventure and Horror, for future projects to ensure sustainable profitability.\n",
    "5. Prioritize High-Performing Genres for Future Productions\n",
    "\n",
    "Action, Adventure, and Horror: These genres show strong box office performance and high average revenues.\n",
    "Recommendation: Strategically prioritize these genres in future production schedules to capitalize on their proven market success and maximize returns.\n",
    "Conclusion\n",
    "By implementing these recommendations, studios can strategically align their production efforts with market trends, optimize profitability, and enhance box office performance across various genres."
   ]
  }
 ],
 "metadata": {
  "kernelspec": {
   "display_name": "Python 3 (ipykernel)",
   "language": "python",
   "name": "python3"
  },
  "language_info": {
   "codemirror_mode": {
    "name": "ipython",
    "version": 3
   },
   "file_extension": ".py",
   "mimetype": "text/x-python",
   "name": "python",
   "nbconvert_exporter": "python",
   "pygments_lexer": "ipython3",
   "version": "3.11.9"
  },
  "nbTranslate": {
   "displayLangs": [
    "*"
   ],
   "hotkey": "alt-t",
   "langInMainMenu": true,
   "sourceLang": "en",
   "targetLang": "fr",
   "useGoogleTranslate": true
  },
  "varInspector": {
   "cols": {
    "lenName": 16,
    "lenType": 16,
    "lenVar": 40
   },
   "kernels_config": {
    "python": {
     "delete_cmd_postfix": "",
     "delete_cmd_prefix": "del ",
     "library": "var_list.py",
     "varRefreshCmd": "print(var_dic_list())"
    },
    "r": {
     "delete_cmd_postfix": ") ",
     "delete_cmd_prefix": "rm(",
     "library": "var_list.r",
     "varRefreshCmd": "cat(var_dic_list()) "
    }
   },
   "types_to_exclude": [
    "module",
    "function",
    "builtin_function_or_method",
    "instance",
    "_Feature"
   ],
   "window_display": false
  }
 },
 "nbformat": 4,
 "nbformat_minor": 2
}
